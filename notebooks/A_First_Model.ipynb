{
 "cells": [
  {
   "cell_type": "markdown",
   "id": "39a194a6-1743-4779-917c-bfacdfc177b4",
   "metadata": {},
   "source": [
    "## Credit Default Model Development - Framework Comparison\n",
    "This notebook implements a baseline credit default prediction model, comparing traditional pandas/scikit-learn implementation with RAPIDS/cuDF GPU-accelerated approach. The workflow demonstrates fundamental data processing steps including handling missing values, encoding categorical variables, and training an XGBoost classifier. Each implementation follows identical steps: loading train/test parquet files, preprocessing data, training the model, and evaluating performance through confusion matrices and feature importance analysis. The notebook provides a clear comparison of CPU vs GPU approaches for standard machine learning workflows, serving as a foundation for more advanced modeling techniques."
   ]
  },
  {
   "cell_type": "code",
   "execution_count": 1,
   "id": "3de81bca-20b7-4b83-bcd0-ce95190c2559",
   "metadata": {},
   "outputs": [],
   "source": [
    "# Common imports\n",
    "import time\n",
    "import os\n",
    "import numpy as np\n",
    "import xgboost as xgb\n",
    "import matplotlib.pyplot as plt\n",
    "%matplotlib inline"
   ]
  },
  {
   "cell_type": "code",
   "execution_count": 2,
   "id": "bc054ed1-becd-4556-8a6c-adbc8daf6a2d",
   "metadata": {},
   "outputs": [],
   "source": [
    "# === Pandas Implementation Imports ===\n",
    "import pandas as pd\n",
    "from sklearn.model_selection import train_test_split\n",
    "from sklearn.metrics import confusion_matrix"
   ]
  },
  {
   "cell_type": "code",
   "execution_count": 3,
   "id": "aquatic-violin",
   "metadata": {},
   "outputs": [],
   "source": [
    "# === RAPIDS Implementation Imports ===\n",
    "import cudf\n",
    "from cuml.model_selection import train_test_split as cu_train_test_split\n",
    "from cuml.metrics import confusion_matrix as cu_confusion_matrix\n",
    "import xgboost as xgb  # XGBoost works with both implementations"
   ]
  },
  {
   "cell_type": "code",
   "execution_count": 4,
   "id": "cb292ba3-33ea-4176-8e13-237658c5e46a",
   "metadata": {},
   "outputs": [],
   "source": [
    "## Timing Decorator Function\n",
    "def time_operation(description):\n",
    "    \"\"\"Decorator to time operations\"\"\"\n",
    "    def decorator(func):\n",
    "        def wrapper(*args, **kwargs):\n",
    "            start = time.time()\n",
    "            result = func(*args, **kwargs)\n",
    "            duration = time.time() - start\n",
    "            print(f\"{description}: {duration:.2f} seconds\")\n",
    "            return result\n",
    "        return wrapper\n",
    "    return decorator"
   ]
  },
  {
   "cell_type": "markdown",
   "id": "bcd746c3-6c67-4ebe-b371-f3733907e55a",
   "metadata": {},
   "source": [
    "### Data Loading"
   ]
  },
  {
   "cell_type": "code",
   "execution_count": 5,
   "id": "83138ad6-5665-41b7-ab93-c1cdbbbb99dc",
   "metadata": {},
   "outputs": [],
   "source": [
    "# === Pandas Implementation ===\n",
    "@time_operation(\"Pandas Load\")\n",
    "def load_data_pandas():\n",
    "    train = pd.read_parquet('raw_data/train.parquet')\n",
    "    test = pd.read_parquet('raw_data/test.parquet')\n",
    "    return train, test\n",
    "\n",
    "# === RAPIDS Implementation ===\n",
    "@time_operation(\"RAPIDS Load\")\n",
    "def load_data_rapids():\n",
    "    train = cudf.read_parquet('raw_data/train.parquet')\n",
    "    test = cudf.read_parquet('raw_data/test.parquet')\n",
    "    return train, test"
   ]
  },
  {
   "cell_type": "code",
   "execution_count": 6,
   "id": "7c7ffab1-4ac3-49fc-a43e-ed9db2deeb88",
   "metadata": {},
   "outputs": [],
   "source": [
    "os.chdir('/home/cdsw')"
   ]
  },
  {
   "cell_type": "code",
   "execution_count": 8,
   "id": "f8392dcc-eede-49e7-b5c8-c4b4268713ad",
   "metadata": {},
   "outputs": [
    {
     "name": "stdout",
     "output_type": "stream",
     "text": [
      "Pandas Load: 0.21 seconds\n",
      "RAPIDS Load: 0.18 seconds\n"
     ]
    }
   ],
   "source": [
    "# Run both implementations\n",
    "train_pd, test_pd = load_data_pandas()\n",
    "train_cu, test_cu = load_data_rapids()"
   ]
  },
  {
   "cell_type": "markdown",
   "id": "503b29b2-3b93-4957-a399-21a73f17174b",
   "metadata": {},
   "source": [
    "### Data Preprocessing"
   ]
  },
  {
   "cell_type": "code",
   "execution_count": 9,
   "id": "224e2c02-da24-4397-b8a9-bcf1878a461a",
   "metadata": {},
   "outputs": [],
   "source": [
    "# === Pandas Implementation ===\n",
    "@time_operation(\"Pandas Preprocessing\")\n",
    "def preprocess_pandas(train, test):\n",
    "    # Handle missing values\n",
    "    missing_threshold = 40\n",
    "    missing_pct = train.isnull().sum() / len(train) * 100\n",
    "    drop_cols = missing_pct[missing_pct >= missing_threshold].index\n",
    "    \n",
    "    train = train.drop(drop_cols, axis=1)\n",
    "    test = test.drop(drop_cols, axis=1)\n",
    "    \n",
    "    # Split target\n",
    "    train_target = train['TARGET']\n",
    "    train = train.drop('TARGET', axis=1)\n",
    "    \n",
    "    # Handle categorical variables\n",
    "    unified = pd.concat([train, test])\n",
    "    cat_columns = unified.select_dtypes(['bool', 'object', 'category']).columns\n",
    "    unified = pd.get_dummies(unified, columns=cat_columns, dtype='int64')\n",
    "    \n",
    "    # Split back\n",
    "    train = unified[:len(train)]\n",
    "    test = unified[len(train):]\n",
    "    \n",
    "    return train, test, train_target"
   ]
  },
  {
   "cell_type": "code",
   "execution_count": 10,
   "id": "81093df3-2af6-48c7-a111-2ab7a93e4aa0",
   "metadata": {},
   "outputs": [],
   "source": [
    "# === RAPIDS Implementation ===\n",
    "@time_operation(\"RAPIDS Preprocessing\")\n",
    "def preprocess_rapids(train, test):\n",
    "    # Handle missing values\n",
    "    missing_threshold = 40\n",
    "    missing_pct = train.isnull().sum() / len(train) * 100\n",
    "    drop_cols = missing_pct[missing_pct >= missing_threshold].index.to_arrow().to_pylist()\n",
    "    \n",
    "    train = train.drop(drop_cols, axis=1)\n",
    "    test = test.drop(drop_cols, axis=1)\n",
    "    \n",
    "    # Split target\n",
    "    train_target = train['TARGET']\n",
    "    train = train.drop('TARGET', axis=1)\n",
    "    \n",
    "    # Handle categorical variables\n",
    "    unified = cudf.concat([train, test])\n",
    "    cat_columns = unified.select_dtypes(['bool', 'O', 'category']).columns.tolist()\n",
    "    #cat_columns = unified.select_dtypes(['bool', 'object', 'category']).columns.to_array()\n",
    "    \n",
    "    unified = cudf.get_dummies(unified, columns=cat_columns, dtype='int64')\n",
    "    \n",
    "    # Split back\n",
    "    train = unified[:len(train)]\n",
    "    test = unified[len(train):]\n",
    "    \n",
    "    return train, test, train_target"
   ]
  },
  {
   "cell_type": "markdown",
   "id": "6eccbb82-5161-403b-b816-d3c4f5e65b35",
   "metadata": {},
   "source": [
    "### Model Training"
   ]
  },
  {
   "cell_type": "code",
   "execution_count": 11,
   "id": "acec8e3e-f874-47a3-9a4c-4d4841961c8e",
   "metadata": {},
   "outputs": [],
   "source": [
    "# === CPU Implementation ===\n",
    "@time_operation(\"CPU Training\")\n",
    "def train_model_cpu(X_train, y_train, X_test, y_test):\n",
    "    ratio = float((y_train == 0).sum() / (y_train == 1).sum())\n",
    "    \n",
    "    model = xgb.XGBClassifier(\n",
    "        n_estimators=1000,\n",
    "        objective='binary:logistic',\n",
    "        tree_method='hist',  # CPU tree method\n",
    "        gamma=0.1,\n",
    "        subsample=0.5,\n",
    "        scale_pos_weight=ratio\n",
    "    )\n",
    "    \n",
    "    model.fit(\n",
    "        X_train, y_train,\n",
    "        eval_set=[(X_test, y_test)],\n",
    "        verbose=False\n",
    "    )\n",
    "    \n",
    "    return model"
   ]
  },
  {
   "cell_type": "code",
   "execution_count": 12,
   "id": "f8852252-007c-4653-9cad-3e3cda50117f",
   "metadata": {},
   "outputs": [],
   "source": [
    "# === RAPIDS/GPU Implementation ===\n",
    "@time_operation(\"GPU Training\")\n",
    "def train_model_gpu(X_train, y_train, X_test, y_test):\n",
    "    ratio = float((y_train == 0).sum() / (y_train == 1).sum())\n",
    "    \n",
    "    model = xgb.XGBClassifier(\n",
    "        n_estimators=1000,\n",
    "        objective='binary:logistic',\n",
    "        #tree_method='gpu_hist',  # GPU tree method\n",
    "        tree_method='hist',\n",
    "        gamma=0.1,\n",
    "        subsample=0.5,\n",
    "        scale_pos_weight=ratio,\n",
    "        device='cuda'\n",
    "    )\n",
    "    \n",
    "    model.fit(\n",
    "        X_train, y_train,\n",
    "        eval_set=[(X_test, y_test)],\n",
    "        verbose=False\n",
    "    )\n",
    "    \n",
    "    return model"
   ]
  },
  {
   "cell_type": "markdown",
   "id": "cbeacf28-97e4-4a06-9266-0da8507b90e8",
   "metadata": {},
   "source": [
    "### Model Evaluation"
   ]
  },
  {
   "cell_type": "code",
   "execution_count": 13,
   "id": "3e0837d2-eafc-4777-a04d-7acc81dd5720",
   "metadata": {},
   "outputs": [],
   "source": [
    "def evaluate_model(model, X_test, y_test, framework=\"pandas\"):\n",
    "    \"\"\"Evaluate model and print metrics\"\"\"\n",
    "    start = time.time()\n",
    "    y_pred = model.predict(X_test)\n",
    "    pred_time = time.time() - start\n",
    "    \n",
    "    if framework == \"pandas\":\n",
    "        cm = confusion_matrix(y_test, y_pred)\n",
    "    else:\n",
    "        cm = cu_confusion_matrix(y_test, y_pred)\n",
    "        \n",
    "    print(f\"\\nPrediction time: {pred_time:.2f} seconds\")\n",
    "    print(\"\\nConfusion Matrix:\")\n",
    "    print(cm)\n",
    "    \n",
    "    return y_pred\n",
    "\n",
    "def compare_feature_importance(model_pd, model_cu, feature_names):\n",
    "    \"\"\"Compare feature importance between implementations\"\"\"\n",
    "    fig, (ax1, ax2) = plt.subplots(1, 2, figsize=(15, 5))\n",
    "    \n",
    "    # Plot CPU model feature importance\n",
    "    xgb.plot_importance(model_pd, max_num_features=10, ax=ax1)\n",
    "    ax1.set_title(\"CPU Model Feature Importance\")\n",
    "    \n",
    "    # Plot GPU model feature importance\n",
    "    xgb.plot_importance(model_cu, max_num_features=10, ax=ax2)\n",
    "    ax2.set_title(\"GPU Model Feature Importance\")\n",
    "    \n",
    "    plt.tight_layout()\n",
    "    plt.show()"
   ]
  },
  {
   "cell_type": "code",
   "execution_count": 14,
   "id": "be2f411b-6818-48cb-b219-95e0ef9b6d4a",
   "metadata": {},
   "outputs": [
    {
     "name": "stdout",
     "output_type": "stream",
     "text": [
      "=== Running Pandas/CPU Implementation ===\n",
      "Pandas Preprocessing: 1.16 seconds\n",
      "CPU Training: 45.73 seconds\n",
      "\n",
      "Prediction time: 0.26 seconds\n",
      "\n",
      "Confusion Matrix:\n",
      "[[49842  6712]\n",
      " [ 3354  1595]]\n",
      "\n",
      "=== Running RAPIDS/GPU Implementation ===\n",
      "RAPIDS Preprocessing: 0.85 seconds\n",
      "GPU Training: 13.81 seconds\n",
      "\n",
      "Prediction time: 0.20 seconds\n",
      "\n",
      "Confusion Matrix:\n",
      "[[49965  6589]\n",
      " [ 3372  1577]]\n"
     ]
    },
    {
     "data": {
      "image/png": "[encoded data removed]",
      "text/plain": [
       "<Figure size 1080x360 with 2 Axes>"
      ]
     },
     "metadata": {
      "needs_background": "light"
     },
     "output_type": "display_data"
    }
   ],
   "source": [
    "def run_analysis():\n",
    "    print(\"=== Running Pandas/CPU Implementation ===\")\n",
    "    # Preprocess\n",
    "    train_pd_proc, test_pd_proc, target_pd = preprocess_pandas(train_pd, test_pd)\n",
    "    \n",
    "    # Train/Test split\n",
    "    X_train_pd, X_test_pd, y_train_pd, y_test_pd = train_test_split(\n",
    "        train_pd_proc, target_pd, test_size=0.2, random_state=42\n",
    "    )\n",
    "    \n",
    "    # Train and evaluate\n",
    "    model_pd = train_model_cpu(X_train_pd, y_train_pd, X_test_pd, y_test_pd)\n",
    "    y_pred_pd = evaluate_model(model_pd, X_test_pd, y_test_pd, \"pandas\")\n",
    "    \n",
    "    print(\"\\n=== Running RAPIDS/GPU Implementation ===\")\n",
    "    # Preprocess\n",
    "    train_cu_proc, test_cu_proc, target_cu = preprocess_rapids(train_cu, test_cu)\n",
    "\n",
    "    X_train_cu, X_test_cu, y_train_cu, y_test_cu = train_test_split(\n",
    "    train_cu_proc, target_cu, test_size=0.2, random_state=42\n",
    ")\n",
    "    # Train and evaluate\n",
    "    model_cu = train_model_gpu(X_train_cu, y_train_cu, X_test_cu, y_test_cu)\n",
    "    y_pred_cu = evaluate_model(model_cu, X_test_cu, y_test_cu, \"rapids\")\n",
    "    # Compare feature importance\n",
    "    compare_feature_importance(model_pd, model_cu, train_pd_proc.columns)\n",
    "\n",
    "if __name__ == \"__main__\":\n",
    "    run_analysis()"
   ]
  }
 ],
 "metadata": {
  "kernelspec": {
   "display_name": "Python 3 (ipykernel)",
   "language": "python",
   "name": "python3"
  },
  "language_info": {
   "codemirror_mode": {
    "name": "ipython",
    "version": 3
   },
   "file_extension": ".py",
   "mimetype": "text/x-python",
   "name": "python",
   "nbconvert_exporter": "python",
   "pygments_lexer": "ipython3",
   "version": "3.10.13"
  }
 },
 "nbformat": 4,
 "nbformat_minor": 5
}
