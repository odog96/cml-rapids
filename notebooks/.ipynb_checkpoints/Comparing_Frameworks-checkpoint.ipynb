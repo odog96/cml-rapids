{
 "cells": [
  {
   "cell_type": "markdown",
   "id": "continuing-analyst",
   "metadata": {},
   "source": [
    "# Advanced Feature Engineering"
   ]
  },
  {
   "cell_type": "markdown",
   "id": "developing-ukraine",
   "metadata": {},
   "source": [
    "#### GPU vs CPU Performance Comparison\n",
    "This notebook incorporates advanced feature engineering techniques for credit default prediction. We will be comparing the performance between GPU-accelerated RAPIDS (cuDF) and CPU-based pandas implementations. The workflow processes multiple data sources including bureau data, credit card balances, and payment histories to create an enriched feature set. \n",
    "Each implementation follows identical steps:\n",
    "- loading raw parquet files\n",
    "- combining train/test data\n",
    "- applying feature engineering functions\n",
    "- handling data type conversions\n",
    "- managing missing values\n",
    "- and saving the processed features.\n",
    "\n",
    "The notebook highlights the significant performance advantages of GPU acceleration in data processing pipelines, particularly for large-scale feature engineering tasks."
   ]
  },
  {
   "cell_type": "markdown",
   "id": "1de604f6-2feb-4a61-a1fa-e19b3b2a6a82",
   "metadata": {},
   "source": [
    "We'll first run the notebook with the Rapids libraries, then with Pandas. "
   ]
  },
  {
   "cell_type": "markdown",
   "id": "designing-ensemble",
   "metadata": {},
   "source": [
    "## RAPIDS cuDF"
   ]
  },
  {
   "cell_type": "code",
   "execution_count": 1,
   "id": "f60dbfb2-e0ba-40fa-85ba-90dd82aa734c",
   "metadata": {},
   "outputs": [],
   "source": [
    "import os\n",
    "os.chdir('/home/cdsw')"
   ]
  },
  {
   "cell_type": "code",
   "execution_count": 2,
   "id": "enabling-bargain",
   "metadata": {},
   "outputs": [],
   "source": [
    "from feature_engineering import (\n",
    "    pos_cash, process_unified, process_bureau_and_balance, \n",
    "    process_previous_applications, installments_payments,\n",
    "    credit_card_balance\n",
    "    )\n",
    "import cudf as xd\n",
    "import gc\n",
    "import rmm\n",
    "import numpy as np\n",
    "import pandas as pd"
   ]
  },
  {
   "cell_type": "code",
   "execution_count": 3,
   "id": "d27d4faf-f5a1-490b-bfc9-4f62504af911",
   "metadata": {},
   "outputs": [],
   "source": [
    "rmm.reinitialize(managed_memory=True) # roughly 14GB pool"
   ]
  },
  {
   "cell_type": "code",
   "execution_count": 4,
   "id": "bright-dutch",
   "metadata": {},
   "outputs": [],
   "source": [
    "%load_ext autoreload\n",
    "%autoreload 2"
   ]
  },
  {
   "cell_type": "code",
   "execution_count": 5,
   "id": "printable-agreement",
   "metadata": {},
   "outputs": [
    {
     "name": "stdout",
     "output_type": "stream",
     "text": [
      "CPU times: user 1.86 s, sys: 426 ms, total: 2.28 s\n",
      "Wall time: 2.33 s\n"
     ]
    }
   ],
   "source": [
    "%%time\n",
    "bureau_balance = xd.read_parquet('raw_data/bureau_balance.parquet')\n",
    "bureau = xd.read_parquet('raw_data/bureau.parquet')\n",
    "cc_balance = xd.read_parquet('raw_data/cc_balance.parquet')\n",
    "payments = xd.read_parquet('raw_data/payments.parquet')\n",
    "pc_balance = xd.read_parquet('raw_data/pc_balance.parquet')\n",
    "prev = xd.read_parquet('raw_data/prev.parquet')\n",
    "train = xd.read_parquet('raw_data/train.parquet')\n",
    "test = xd.read_parquet('raw_data/test.parquet')"
   ]
  },
  {
   "cell_type": "code",
   "execution_count": 6,
   "id": "89262457-9ca6-445c-91e9-b0ff5a2605d8",
   "metadata": {},
   "outputs": [],
   "source": [
    "train_target = train['TARGET']\n",
    "\n",
    "train_index = train.index\n",
    "test_index = test.index\n",
    "\n",
    "unified = xd.concat([train.drop('TARGET', axis=1), test])"
   ]
  },
  {
   "cell_type": "code",
   "execution_count": 9,
   "id": "9de02cb9-0b58-4bef-9239-cd49b1888a2c",
   "metadata": {},
   "outputs": [
    {
     "data": {
      "text/plain": [
       "471"
      ]
     },
     "execution_count": 9,
     "metadata": {},
     "output_type": "execute_result"
    }
   ],
   "source": [
    "del(train)\n",
    "del(test)\n",
    "gc.collect()"
   ]
  },
  {
   "cell_type": "markdown",
   "id": "5690d943-ae07-469a-9edf-18bc34766232",
   "metadata": {},
   "source": [
    "This code block performs comprehensive feature engineering across multiple data sources. First, `process_unified()` creates new features from the main application data including various financial ratios, aggregated indicators, and encoded categorical variables. Next, `process_bureau_and_balance()` generates features from credit bureau history by aggregating information about active and closed credits. There is a similar aggregations process for previous applications, POS loans, installment payments, and credit card balances. Finally, all these feature sets are merged together to create a new feature set for modeling."
   ]
  },
  {
   "cell_type": "code",
   "execution_count": 11,
   "id": "typical-offer",
   "metadata": {},
   "outputs": [
    {
     "name": "stderr",
     "output_type": "stream",
     "text": [
      "/home/cdsw/.local/lib/python3.10/site-packages/cudf/utils/dtypes.py:157: UserWarning: Instantiating Int64Dtype without any arguments.Pass a Int64Dtype instance to silence this warning.\n",
      "  return infer_dtype_from_object(dtype)\n"
     ]
    },
    {
     "name": "stdout",
     "output_type": "stream",
     "text": [
      "CPU times: user 11.3 s, sys: 1.59 s, total: 12.9 s\n",
      "Wall time: 13.3 s\n"
     ]
    }
   ],
   "source": [
    "%%time\n",
    "\n",
    "unified_feat = process_unified(unified, xd)\n",
    "\n",
    "bureau_agg = process_bureau_and_balance(bureau, bureau_balance, xd)\n",
    "del unified, bureau, bureau_balance\n",
    "\n",
    "prev_agg = process_previous_applications(prev, xd)\n",
    "pos_agg = pos_cash(pc_balance, xd)\n",
    "ins_agg = installments_payments(payments, xd)\n",
    "cc_agg = credit_card_balance(cc_balance, xd)\n",
    "\n",
    "del prev, pc_balance, payments, cc_balance\n",
    "gc.collect()\n",
    "\n",
    "unified_feat = unified_feat.merge(bureau_agg, how='left', on='SK_ID_CURR') \\\n",
    "    .merge(prev_agg, how='left', on='SK_ID_CURR') \\\n",
    "    .merge(pos_agg, how='left', on='SK_ID_CURR') \\\n",
    "    .merge(ins_agg, how='left', on='SK_ID_CURR') \\\n",
    "    .merge(cc_agg, how='left', on='SK_ID_CURR')\n",
    "\n",
    "del bureau_agg, prev_agg, pos_agg, ins_agg, cc_agg\n",
    "gc.collect()\n",
    "\n",
    "# we can't use bool column types in xgb later on\n",
    "bool_columns = [col for col in unified_feat.columns if (unified_feat[col].dtype in ['bool']) ]    \n",
    "unified_feat[bool_columns] = unified_feat[bool_columns].astype('int64')\n",
    "\n",
    "# We will label encode for xgb later on\n",
    "from sklearn.preprocessing import LabelEncoder\n",
    "# label encode cats\n",
    "label_encode_dict = {}\n",
    "\n",
    "categorical = unified_feat.select_dtypes(include=pd.CategoricalDtype).columns \n",
    "for column in categorical:\n",
    "    label_encode_dict[column] = LabelEncoder()\n",
    "    unified_feat[column] =  label_encode_dict[column].fit_transform(unified_feat[column])\n",
    "    unified_feat[column] = unified_feat[column].astype('int64')\n",
    "\n",
    "### Fix for Int64D\n",
    "Int64D = unified_feat.select_dtypes(include=[pd.Int64Dtype]).columns\n",
    "unified_feat[Int64D] = unified_feat[Int64D].fillna(0)\n",
    "unified_feat[Int64D] = unified_feat[Int64D].astype('int64')\n",
    "\n",
    "### fix unit8\n",
    "uint8 = unified_feat.select_dtypes(include=['uint8']).columns\n",
    "unified_feat[uint8] = unified_feat[uint8].astype('int64')\n",
    "\n",
    "#unified_feat.replace([np.inf, -np.inf], np.nan, inplace=True)\n",
    "na_cols = unified_feat.isna().any()[unified_feat.isna().any()==True].index.to_arrow().to_pylist()\n",
    "unified_feat[na_cols] = unified_feat[na_cols].fillna(0)\n",
    "\n",
    "train_feats = unified_feat.loc[train_index].merge(train_target, how='left', \n",
    "                                               left_index=True, right_index=True)\n",
    "test_feats = unified_feat.loc[test_index]"
   ]
  },
  {
   "cell_type": "code",
   "execution_count": 17,
   "id": "certain-miami",
   "metadata": {},
   "outputs": [
    {
     "name": "stdout",
     "output_type": "stream",
     "text": [
      "CPU times: user 2.73 s, sys: 437 ms, total: 3.16 s\n",
      "Wall time: 5.7 s\n"
     ]
    }
   ],
   "source": [
    "%%time\n",
    "train_feats.to_parquet('data_eng/feats/train_feats.parquet')\n",
    "test_feats.to_parquet('data_eng/feats/test_feats.parquet')"
   ]
  },
  {
   "cell_type": "code",
   "execution_count": null,
   "id": "e80141fe-ad44-4955-a645-4df229ba97b4",
   "metadata": {},
   "outputs": [],
   "source": [
    "del train_feats"
   ]
  },
  {
   "cell_type": "markdown",
   "id": "important-stylus",
   "metadata": {},
   "source": [
    "## Pandas"
   ]
  },
  {
   "cell_type": "code",
   "execution_count": 18,
   "id": "central-corrections",
   "metadata": {},
   "outputs": [],
   "source": [
    "from feature_engineering import (\n",
    "    pos_cash, process_unified, process_bureau_and_balance, \n",
    "    process_previous_applications, installments_payments,\n",
    "    credit_card_balance \n",
    "    )\n",
    "import pandas as xd\n",
    "import gc"
   ]
  },
  {
   "cell_type": "code",
   "execution_count": 19,
   "id": "grave-lunch",
   "metadata": {},
   "outputs": [
    {
     "name": "stdout",
     "output_type": "stream",
     "text": [
      "CPU times: user 8.29 s, sys: 3.37 s, total: 11.7 s\n",
      "Wall time: 2.52 s\n"
     ]
    },
    {
     "data": {
      "text/plain": [
       "0"
      ]
     },
     "execution_count": 19,
     "metadata": {},
     "output_type": "execute_result"
    }
   ],
   "source": [
    "%%time\n",
    "bureau_balance = xd.read_parquet('raw_data/bureau_balance.parquet')\n",
    "bureau = xd.read_parquet('raw_data/bureau.parquet')\n",
    "cc_balance = xd.read_parquet('raw_data/cc_balance.parquet')\n",
    "payments = xd.read_parquet('raw_data/payments.parquet')\n",
    "pc_balance = xd.read_parquet('raw_data/pc_balance.parquet')\n",
    "prev = xd.read_parquet('raw_data/prev.parquet')\n",
    "train = xd.read_parquet('raw_data/train.parquet')\n",
    "test = xd.read_parquet('raw_data/test.parquet')\n",
    "\n",
    "train_index = train.index\n",
    "test_index = test.index\n",
    "\n",
    "train_target = train['TARGET']\n",
    "unified = xd.concat([train.drop('TARGET', axis=1), test])\n",
    "\n",
    "del(train)\n",
    "del(test)\n",
    "gc.collect()"
   ]
  },
  {
   "cell_type": "code",
   "execution_count": 20,
   "id": "precious-pepper",
   "metadata": {},
   "outputs": [],
   "source": [
    "# fix for the process functions not working with columns of type `category`\n",
    "bureau_balance['STATUS'] = bureau_balance['STATUS'].astype('object') \n",
    "bureau['CREDIT_ACTIVE'] = bureau['CREDIT_ACTIVE'].astype('object')\n",
    "bureau['CREDIT_CURRENCY'] = bureau['CREDIT_CURRENCY'].astype('object')\n",
    "\n",
    "prev['NAME_CONTRACT_STATUS'] = prev['NAME_CONTRACT_STATUS'].astype('object')"
   ]
  },
  {
   "cell_type": "code",
   "execution_count": 21,
   "id": "experimental-adams",
   "metadata": {},
   "outputs": [
    {
     "name": "stderr",
     "output_type": "stream",
     "text": [
      "/home/cdsw/feature_engineering.py:21: FutureWarning: The default of observed=False is deprecated and will be changed to True in a future version of pandas. Pass observed=False to retain current behavior or observed=True to adopt the future default and silence this warning.\n",
      "  income_by_organisation = unified[['AMT_INCOME_TOTAL', 'ORGANIZATION_TYPE']].groupby('ORGANIZATION_TYPE').median()['AMT_INCOME_TOTAL']\n",
      "<timed exec>:25: UserWarning: Instantiating CategoricalDtype without any arguments.Pass a CategoricalDtype instance to silence this warning.\n",
      "<timed exec>:32: UserWarning: Instantiating Int64Dtype without any arguments.Pass a Int64Dtype instance to silence this warning.\n"
     ]
    },
    {
     "name": "stdout",
     "output_type": "stream",
     "text": [
      "CPU times: user 55.4 s, sys: 10.8 s, total: 1min 6s\n",
      "Wall time: 1min 4s\n"
     ]
    }
   ],
   "source": [
    "%%time\n",
    "\n",
    "unified_feat = process_unified(unified, xd)\n",
    "\n",
    "bureau_agg = process_bureau_and_balance(bureau, bureau_balance, xd)\n",
    "\n",
    "prev_agg = process_previous_applications(prev, xd)\n",
    "pos_agg = pos_cash(pc_balance, xd)\n",
    "ins_agg = installments_payments(payments, xd)\n",
    "cc_agg = credit_card_balance(cc_balance, xd)\n",
    "\n",
    "unified_feat = unified_feat.merge(bureau_agg, how='left', on='SK_ID_CURR') \\\n",
    "    .merge(prev_agg, how='left', on='SK_ID_CURR') \\\n",
    "    .merge(pos_agg, how='left', on='SK_ID_CURR') \\\n",
    "    .merge(ins_agg, how='left', on='SK_ID_CURR') \\\n",
    "    .merge(cc_agg, how='left', on='SK_ID_CURR')\n",
    "\n",
    "# we can't use bool column types in xgb later on\n",
    "bool_columns = [col for col in unified_feat.columns if (unified_feat[col].dtype in ['bool']) ]\n",
    "unified_feat[bool_columns] = unified_feat[bool_columns].astype('int64')\n",
    "\n",
    "# We will label encode for xgb later on\n",
    "from sklearn.preprocessing import LabelEncoder\n",
    "# label encode cats\n",
    "label_encode_dict = {}\n",
    "\n",
    "categorical = unified_feat.select_dtypes(include=pd.CategoricalDtype).columns \n",
    "for column in categorical:\n",
    "    label_encode_dict[column] = LabelEncoder()\n",
    "    unified_feat[column] =  label_encode_dict[column].fit_transform(unified_feat[column])\n",
    "    unified_feat[column] = unified_feat[column].astype('int64')\n",
    "\n",
    "### Fix for Int64D\n",
    "Int64D = unified_feat.select_dtypes(include=[pd.Int64Dtype]).columns\n",
    "unified_feat[Int64D] = unified_feat[Int64D].fillna(0)\n",
    "unified_feat[Int64D] = unified_feat[Int64D].astype('int64')\n",
    "\n",
    "### fix unit8\n",
    "uint8 = unified_feat.select_dtypes(include=['uint8']).columns\n",
    "unified_feat[uint8] = unified_feat[uint8].astype('int64')\n",
    "\n",
    "nan_columns = unified_feat.columns[unified_feat.isna().any()].tolist()\n",
    "unified_feat.replace([np.inf, -np.inf], np.nan, inplace=True)\n",
    "unified_feat[nan_columns] = unified_feat[nan_columns].fillna(0)\n",
    "\n",
    "train_feats = unified_feat.loc[train_index].merge(train_target, how='left', \n",
    "                                               left_index=True, right_index=True)\n",
    "test_feats = unified_feat.loc[test_index]"
   ]
  },
  {
   "cell_type": "code",
   "execution_count": 22,
   "id": "packed-rescue",
   "metadata": {},
   "outputs": [
    {
     "name": "stdout",
     "output_type": "stream",
     "text": [
      "CPU times: user 7.43 s, sys: 517 ms, total: 7.94 s\n",
      "Wall time: 8.76 s\n"
     ]
    }
   ],
   "source": [
    "%%time\n",
    "train_feats.to_parquet('data_eng/feats/train_feats.parquet')\n",
    "test_feats.to_parquet('data_eng/feats/test_feats.parquet')"
   ]
  }
 ],
 "metadata": {
  "kernelspec": {
   "display_name": "Python 3 (ipykernel)",
   "language": "python",
   "name": "python3"
  },
  "language_info": {
   "codemirror_mode": {
    "name": "ipython",
    "version": 3
   },
   "file_extension": ".py",
   "mimetype": "text/x-python",
   "name": "python",
   "nbconvert_exporter": "python",
   "pygments_lexer": "ipython3",
   "version": "3.10.13"
  }
 },
 "nbformat": 4,
 "nbformat_minor": 5
}
