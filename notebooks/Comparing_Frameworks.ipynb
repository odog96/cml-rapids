{
 "cells": [
  {
   "cell_type": "markdown",
   "id": "continuing-analyst",
   "metadata": {},
   "source": [
    "# Advanced Feature Engineering"
   ]
  },
  {
   "cell_type": "markdown",
   "id": "developing-ukraine",
   "metadata": {},
   "source": [
    "In this notebook we will look at advanced feature engineering and compare pandas and cudf in this"
   ]
  },
  {
   "cell_type": "markdown",
   "id": "designing-ensemble",
   "metadata": {},
   "source": [
    "## RAPIDS cuDF"
   ]
  },
  {
   "cell_type": "code",
   "execution_count": 1,
   "id": "enabling-bargain",
   "metadata": {},
   "outputs": [],
   "source": [
    "from feature_engineering import (\n",
    "    pos_cash, process_unified, process_bureau_and_balance, \n",
    "    process_previous_applications, installments_payments,\n",
    "    credit_card_balance\n",
    "    )\n",
    "import cudf as xd\n",
    "import gc\n",
    "import rmm\n",
    "import numpy as np\n",
    "import pandas as pd"
   ]
  },
  {
   "cell_type": "code",
   "execution_count": null,
   "id": "f60dbfb2-e0ba-40fa-85ba-90dd82aa734c",
   "metadata": {},
   "outputs": [],
   "source": [
    "import os\n",
    "os.chdir('/home/cdsw')"
   ]
  },
  {
   "cell_type": "code",
   "execution_count": 2,
   "id": "d27d4faf-f5a1-490b-bfc9-4f62504af911",
   "metadata": {},
   "outputs": [],
   "source": [
    "rmm.reinitialize(managed_memory=True) # roughly 14GB pool"
   ]
  },
  {
   "cell_type": "code",
   "execution_count": 3,
   "id": "bright-dutch",
   "metadata": {},
   "outputs": [],
   "source": [
    "%load_ext autoreload\n",
    "%autoreload 2"
   ]
  },
  {
   "cell_type": "code",
   "execution_count": 9,
   "id": "printable-agreement",
   "metadata": {},
   "outputs": [
    {
     "name": "stdout",
     "output_type": "stream",
     "text": [
      "CPU times: user 1.61 s, sys: 720 ms, total: 2.33 s\n",
      "Wall time: 2.3 s\n"
     ]
    }
   ],
   "source": [
    "%%time\n",
    "bureau_balance = xd.read_parquet('raw_data/bureau_balance.parquet')\n",
    "bureau = xd.read_parquet('raw_data/bureau.parquet')\n",
    "cc_balance = xd.read_parquet('raw_data/cc_balance.parquet')\n",
    "payments = xd.read_parquet('raw_data/payments.parquet')\n",
    "pc_balance = xd.read_parquet('raw_data/pc_balance.parquet')\n",
    "prev = xd.read_parquet('raw_data/prev.parquet')\n",
    "train = xd.read_parquet('raw_data/train.parquet')\n",
    "test = xd.read_parquet('raw_data/test.parquet')"
   ]
  },
  {
   "cell_type": "code",
   "execution_count": 10,
   "id": "89262457-9ca6-445c-91e9-b0ff5a2605d8",
   "metadata": {},
   "outputs": [
    {
     "data": {
      "text/plain": [
       "575"
      ]
     },
     "execution_count": 10,
     "metadata": {},
     "output_type": "execute_result"
    }
   ],
   "source": [
    "train_target = train['TARGET']\n",
    "\n",
    "# for col in test.columns.tolist():\n",
    "#     if train[col].dtype != test[col].dtype:\n",
    "#         train = train.drop(col, axis=1)\n",
    "#         test = test.drop(col, axis=1)\n",
    "\n",
    "train_index = train.index\n",
    "test_index = test.index\n",
    "\n",
    "unified = xd.concat([train.drop('TARGET', axis=1), test])\n",
    "\n",
    "del(train)\n",
    "del(test)\n",
    "gc.collect()"
   ]
  },
  {
   "cell_type": "code",
   "execution_count": 11,
   "id": "typical-offer",
   "metadata": {},
   "outputs": [
    {
     "name": "stderr",
     "output_type": "stream",
     "text": [
      "/home/cdsw/.local/lib/python3.10/site-packages/cudf/utils/dtypes.py:157: UserWarning: Instantiating Int64Dtype without any arguments.Pass a Int64Dtype instance to silence this warning.\n",
      "  return infer_dtype_from_object(dtype)\n"
     ]
    },
    {
     "name": "stdout",
     "output_type": "stream",
     "text": [
      "CPU times: user 8.07 s, sys: 2.49 s, total: 10.6 s\n",
      "Wall time: 13.7 s\n"
     ]
    }
   ],
   "source": [
    "%%time\n",
    "\n",
    "unified_feat = process_unified(unified, xd)\n",
    "\n",
    "bureau_agg = process_bureau_and_balance(bureau, bureau_balance, xd)\n",
    "del unified, bureau, bureau_balance\n",
    "\n",
    "prev_agg = process_previous_applications(prev, xd)\n",
    "pos_agg = pos_cash(pc_balance, xd)\n",
    "ins_agg = installments_payments(payments, xd)\n",
    "cc_agg = credit_card_balance(cc_balance, xd)\n",
    "\n",
    "del prev, pc_balance, payments, cc_balance\n",
    "gc.collect()\n",
    "\n",
    "unified_feat = unified_feat.merge(bureau_agg, how='left', on='SK_ID_CURR') \\\n",
    "    .merge(prev_agg, how='left', on='SK_ID_CURR') \\\n",
    "    .merge(pos_agg, how='left', on='SK_ID_CURR') \\\n",
    "    .merge(ins_agg, how='left', on='SK_ID_CURR') \\\n",
    "    .merge(cc_agg, how='left', on='SK_ID_CURR')\n",
    "\n",
    "del bureau_agg, prev_agg, pos_agg, ins_agg, cc_agg\n",
    "gc.collect()\n",
    "\n",
    "# we can't use bool column types in xgb later on\n",
    "bool_columns = [col for col in unified_feat.columns if (unified_feat[col].dtype in ['bool']) ]    \n",
    "unified_feat[bool_columns] = unified_feat[bool_columns].astype('int64')\n",
    "\n",
    "# We will label encode for xgb later on\n",
    "from sklearn.preprocessing import LabelEncoder\n",
    "# label encode cats\n",
    "label_encode_dict = {}\n",
    "\n",
    "categorical = unified_feat.select_dtypes(include=pd.CategoricalDtype).columns \n",
    "for column in categorical:\n",
    "    label_encode_dict[column] = LabelEncoder()\n",
    "    unified_feat[column] =  label_encode_dict[column].fit_transform(unified_feat[column])\n",
    "    unified_feat[column] = unified_feat[column].astype('int64')\n",
    "\n",
    "### Fix for Int64D\n",
    "Int64D = unified_feat.select_dtypes(include=[pd.Int64Dtype]).columns\n",
    "unified_feat[Int64D] = unified_feat[Int64D].fillna(0)\n",
    "unified_feat[Int64D] = unified_feat[Int64D].astype('int64')\n",
    "\n",
    "### fix unit8\n",
    "uint8 = unified_feat.select_dtypes(include=['uint8']).columns\n",
    "unified_feat[uint8] = unified_feat[uint8].astype('int64')\n",
    "\n",
    "#unified_feat.replace([np.inf, -np.inf], np.nan, inplace=True)\n",
    "na_cols = unified_feat.isna().any()[unified_feat.isna().any()==True].index.to_arrow().to_pylist()\n",
    "unified_feat[na_cols] = unified_feat[na_cols].fillna(0)\n",
    "\n",
    "train_feats = unified_feat.loc[train_index].merge(train_target, how='left', \n",
    "                                               left_index=True, right_index=True)\n",
    "test_feats = unified_feat.loc[test_index]"
   ]
  },
  {
   "cell_type": "code",
   "execution_count": 40,
   "id": "certain-miami",
   "metadata": {},
   "outputs": [
    {
     "name": "stdout",
     "output_type": "stream",
     "text": [
      "CPU times: user 3.35 s, sys: 708 ms, total: 4.06 s\n",
      "Wall time: 6.52 s\n"
     ]
    }
   ],
   "source": [
    "%%time\n",
    "train_feats.to_parquet('data_eng/feats/train_feats.parquet')\n",
    "del train_feats\n",
    "\n",
    "test_feats.to_parquet('data_eng/feats/test_feats.parquet')"
   ]
  },
  {
   "cell_type": "markdown",
   "id": "important-stylus",
   "metadata": {},
   "source": [
    "## Pandas"
   ]
  },
  {
   "cell_type": "code",
   "execution_count": 4,
   "id": "central-corrections",
   "metadata": {},
   "outputs": [],
   "source": [
    "from feature_engineering import (\n",
    "    pos_cash, process_unified, process_bureau_and_balance, \n",
    "    process_previous_applications, installments_payments,\n",
    "    credit_card_balance \n",
    "    )\n",
    "import pandas as xd\n",
    "import gc"
   ]
  },
  {
   "cell_type": "code",
   "execution_count": 5,
   "id": "grave-lunch",
   "metadata": {},
   "outputs": [
    {
     "name": "stdout",
     "output_type": "stream",
     "text": [
      "CPU times: user 9.39 s, sys: 4.6 s, total: 14 s\n",
      "Wall time: 4.94 s\n"
     ]
    },
    {
     "data": {
      "text/plain": [
       "0"
      ]
     },
     "execution_count": 5,
     "metadata": {},
     "output_type": "execute_result"
    }
   ],
   "source": [
    "%%time\n",
    "bureau_balance = xd.read_parquet('raw_data/bureau_balance.parquet')\n",
    "bureau = xd.read_parquet('raw_data/bureau.parquet')\n",
    "cc_balance = xd.read_parquet('raw_data/cc_balance.parquet')\n",
    "payments = xd.read_parquet('raw_data/payments.parquet')\n",
    "pc_balance = xd.read_parquet('raw_data/pc_balance.parquet')\n",
    "prev = xd.read_parquet('raw_data/prev.parquet')\n",
    "train = xd.read_parquet('raw_data/train.parquet')\n",
    "test = xd.read_parquet('raw_data/test.parquet')\n",
    "\n",
    "train_index = train.index\n",
    "test_index = test.index\n",
    "\n",
    "train_target = train['TARGET']\n",
    "unified = xd.concat([train.drop('TARGET', axis=1), test])\n",
    "\n",
    "del(train)\n",
    "del(test)\n",
    "gc.collect()"
   ]
  },
  {
   "cell_type": "code",
   "execution_count": 6,
   "id": "precious-pepper",
   "metadata": {},
   "outputs": [],
   "source": [
    "# fix for the process functions not working with columns of type `category`\n",
    "bureau_balance['STATUS'] = bureau_balance['STATUS'].astype('object') \n",
    "bureau['CREDIT_ACTIVE'] = bureau['CREDIT_ACTIVE'].astype('object')\n",
    "bureau['CREDIT_CURRENCY'] = bureau['CREDIT_CURRENCY'].astype('object')\n",
    "\n",
    "prev['NAME_CONTRACT_STATUS'] = prev['NAME_CONTRACT_STATUS'].astype('object')"
   ]
  },
  {
   "cell_type": "code",
   "execution_count": 7,
   "id": "experimental-adams",
   "metadata": {},
   "outputs": [
    {
     "name": "stderr",
     "output_type": "stream",
     "text": [
      "/home/cdsw/feature_engineering_2.py:21: FutureWarning: The default of observed=False is deprecated and will be changed to True in a future version of pandas. Pass observed=False to retain current behavior or observed=True to adopt the future default and silence this warning.\n",
      "  income_by_organisation = unified[['AMT_INCOME_TOTAL', 'ORGANIZATION_TYPE']].groupby('ORGANIZATION_TYPE').median()['AMT_INCOME_TOTAL']\n",
      "<timed exec>:25: UserWarning: Instantiating CategoricalDtype without any arguments.Pass a CategoricalDtype instance to silence this warning.\n",
      "<timed exec>:32: UserWarning: Instantiating Int64Dtype without any arguments.Pass a Int64Dtype instance to silence this warning.\n"
     ]
    },
    {
     "name": "stdout",
     "output_type": "stream",
     "text": [
      "CPU times: user 1min 1s, sys: 12.3 s, total: 1min 13s\n",
      "Wall time: 1min 16s\n"
     ]
    }
   ],
   "source": [
    "%%time\n",
    "\n",
    "unified_feat = process_unified(unified, xd)\n",
    "\n",
    "bureau_agg = process_bureau_and_balance(bureau, bureau_balance, xd)\n",
    "\n",
    "prev_agg = process_previous_applications(prev, xd)\n",
    "pos_agg = pos_cash(pc_balance, xd)\n",
    "ins_agg = installments_payments(payments, xd)\n",
    "cc_agg = credit_card_balance(cc_balance, xd)\n",
    "\n",
    "unified_feat = unified_feat.merge(bureau_agg, how='left', on='SK_ID_CURR') \\\n",
    "    .merge(prev_agg, how='left', on='SK_ID_CURR') \\\n",
    "    .merge(pos_agg, how='left', on='SK_ID_CURR') \\\n",
    "    .merge(ins_agg, how='left', on='SK_ID_CURR') \\\n",
    "    .merge(cc_agg, how='left', on='SK_ID_CURR')\n",
    "\n",
    "# we can't use bool column types in xgb later on\n",
    "bool_columns = [col for col in unified_feat.columns if (unified_feat[col].dtype in ['bool']) ]\n",
    "unified_feat[bool_columns] = unified_feat[bool_columns].astype('int64')\n",
    "\n",
    "# We will label encode for xgb later on\n",
    "from sklearn.preprocessing import LabelEncoder\n",
    "# label encode cats\n",
    "label_encode_dict = {}\n",
    "\n",
    "categorical = unified_feat.select_dtypes(include=pd.CategoricalDtype).columns \n",
    "for column in categorical:\n",
    "    label_encode_dict[column] = LabelEncoder()\n",
    "    unified_feat[column] =  label_encode_dict[column].fit_transform(unified_feat[column])\n",
    "    unified_feat[column] = unified_feat[column].astype('int64')\n",
    "\n",
    "### Fix for Int64D\n",
    "Int64D = unified_feat.select_dtypes(include=[pd.Int64Dtype]).columns\n",
    "unified_feat[Int64D] = unified_feat[Int64D].fillna(0)\n",
    "unified_feat[Int64D] = unified_feat[Int64D].astype('int64')\n",
    "\n",
    "### fix unit8\n",
    "uint8 = unified_feat.select_dtypes(include=['uint8']).columns\n",
    "unified_feat[uint8] = unified_feat[uint8].astype('int64')\n",
    "\n",
    "nan_columns = unified_feat.columns[unified_feat.isna().any()].tolist()\n",
    "unified_feat.replace([np.inf, -np.inf], np.nan, inplace=True)\n",
    "unified_feat[nan_columns] = unified_feat[nan_columns].fillna(0)\n",
    "\n",
    "train_feats = unified_feat.loc[train_index].merge(train_target, how='left', \n",
    "                                               left_index=True, right_index=True)\n",
    "test_feats = unified_feat.loc[test_index]"
   ]
  },
  {
   "cell_type": "code",
   "execution_count": 8,
   "id": "packed-rescue",
   "metadata": {},
   "outputs": [
    {
     "name": "stdout",
     "output_type": "stream",
     "text": [
      "CPU times: user 7.83 s, sys: 873 ms, total: 8.7 s\n",
      "Wall time: 9.52 s\n"
     ]
    }
   ],
   "source": [
    "%%time\n",
    "train_feats.to_parquet('data_eng/feats/train_feats.parquet')\n",
    "test_feats.to_parquet('data_eng/feats/test_feats.parquet')"
   ]
  },
  {
   "cell_type": "code",
   "execution_count": null,
   "id": "0e0d3f21-d392-4f8b-90ad-d45400b92737",
   "metadata": {},
   "outputs": [],
   "source": []
  }
 ],
 "metadata": {
  "kernelspec": {
   "display_name": "Python 3 (ipykernel)",
   "language": "python",
   "name": "python3"
  },
  "language_info": {
   "codemirror_mode": {
    "name": "ipython",
    "version": 3
   },
   "file_extension": ".py",
   "mimetype": "text/x-python",
   "name": "python",
   "nbconvert_exporter": "python",
   "pygments_lexer": "ipython3",
   "version": "3.10.13"
  }
 },
 "nbformat": 4,
 "nbformat_minor": 5
}
