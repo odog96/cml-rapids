{
 "cells": [
  {
   "cell_type": "markdown",
   "id": "olive-consistency",
   "metadata": {},
   "source": [
    "# Exploring the Dataset"
   ]
  },
  {
   "cell_type": "code",
   "execution_count": 8,
   "id": "raising-dover",
   "metadata": {},
   "outputs": [
    {
     "ename": "ModuleNotFoundError",
     "evalue": "No module named 'cudf'",
     "output_type": "error",
     "traceback": [
      "\u001b[0;31m---------------------------------------------------------------------------\u001b[0m",
      "\u001b[0;31mModuleNotFoundError\u001b[0m                       Traceback (most recent call last)",
      "Cell \u001b[0;32mIn[8], line 1\u001b[0m\n\u001b[0;32m----> 1\u001b[0m \u001b[38;5;28;01mimport\u001b[39;00m \u001b[38;5;21;01mcudf\u001b[39;00m \u001b[38;5;28;01mas\u001b[39;00m \u001b[38;5;21;01mxd\u001b[39;00m\n\u001b[1;32m      2\u001b[0m \u001b[38;5;28;01mimport\u001b[39;00m \u001b[38;5;21;01mnumpy\u001b[39;00m \u001b[38;5;28;01mas\u001b[39;00m \u001b[38;5;21;01mnp\u001b[39;00m\n\u001b[1;32m      3\u001b[0m \u001b[38;5;28;01mimport\u001b[39;00m \u001b[38;5;21;01mmatplotlib\u001b[39;00m\u001b[38;5;21;01m.\u001b[39;00m\u001b[38;5;21;01mpyplot\u001b[39;00m \u001b[38;5;28;01mas\u001b[39;00m \u001b[38;5;21;01mplt\u001b[39;00m\n",
      "\u001b[0;31mModuleNotFoundError\u001b[0m: No module named 'cudf'"
     ]
    }
   ],
   "source": [
    "import cudf as xd\n",
    "import numpy as np\n",
    "import matplotlib.pyplot as plt\n",
    "RAPIDS=True\n",
    "%matplotlib inline\n",
    "\n",
    "import panel as pn\n",
    "pn.extension()"
   ]
  },
  {
   "cell_type": "code",
   "execution_count": 9,
   "id": "e1e63b96-e781-45a9-8743-1eff37dc37b0",
   "metadata": {},
   "outputs": [],
   "source": [
    "import os\n",
    "os.getcwd()\n",
    "os.chdir('/home/cdsw')"
   ]
  },
  {
   "cell_type": "markdown",
   "id": "competent-there",
   "metadata": {},
   "source": [
    "### Bureau Balance\n",
    "\n",
    "Shows history of account for a particular SK_ID_BUREAU.\n",
    "The Months Balance is time relative to application date the loan\n",
    "\n",
    "The Status shows details on the Loan with C = Closed, X = unknown status, \n",
    "0 means nothing past due / 1 means something between 0-30 days past due / 2 means something between 31-60 days past due and 5 means something 120 days past due or written off\n"
   ]
  },
  {
   "cell_type": "code",
   "execution_count": 10,
   "id": "knowing-tolerance",
   "metadata": {},
   "outputs": [
    {
     "ename": "NameError",
     "evalue": "name 'np' is not defined",
     "output_type": "error",
     "traceback": [
      "\u001b[0;31m---------------------------------------------------------------------------\u001b[0m",
      "\u001b[0;31mNameError\u001b[0m                                 Traceback (most recent call last)",
      "Cell \u001b[0;32mIn[10], line 1\u001b[0m\n\u001b[0;32m----> 1\u001b[0m pandas_dtypes \u001b[38;5;241m=\u001b[39m {\u001b[38;5;124m'\u001b[39m\u001b[38;5;124mMONTHS_BALANCE\u001b[39m\u001b[38;5;124m'\u001b[39m: \u001b[43mnp\u001b[49m\u001b[38;5;241m.\u001b[39mint64, \u001b[38;5;124m'\u001b[39m\u001b[38;5;124mSTATUS\u001b[39m\u001b[38;5;124m'\u001b[39m: \u001b[38;5;124m'\u001b[39m\u001b[38;5;124mcategory\u001b[39m\u001b[38;5;124m'\u001b[39m}\n\u001b[1;32m      3\u001b[0m \u001b[38;5;28;01mif\u001b[39;00m RAPIDS: \n\u001b[1;32m      4\u001b[0m     bb_dtypes \u001b[38;5;241m=\u001b[39m [] \u001b[38;5;66;03m# rapids doesn't accept partial dtypes\u001b[39;00m\n",
      "\u001b[0;31mNameError\u001b[0m: name 'np' is not defined"
     ]
    }
   ],
   "source": [
    "pandas_dtypes = {'MONTHS_BALANCE': np.int64, 'STATUS': 'category'}\n",
    "\n",
    "if RAPIDS: \n",
    "    bb_dtypes = [] # rapids doesn't accept partial dtypes\n",
    "else: \n",
    "    bb_dtypes = pandas_dtypes \n",
    "\n",
    "bureau_balance = xd.read_csv(filepath_or_buffer='data/bureau_balance.csv', \n",
    "                               #index_col = 'SK_ID_BUREAU',\n",
    "                                dtype=bb_dtypes)"
   ]
  },
  {
   "cell_type": "code",
   "execution_count": 11,
   "id": "british-delight",
   "metadata": {},
   "outputs": [
    {
     "ename": "NameError",
     "evalue": "name 'bureau_balance' is not defined",
     "output_type": "error",
     "traceback": [
      "\u001b[0;31m---------------------------------------------------------------------------\u001b[0m",
      "\u001b[0;31mNameError\u001b[0m                                 Traceback (most recent call last)",
      "Cell \u001b[0;32mIn[11], line 2\u001b[0m\n\u001b[1;32m      1\u001b[0m \u001b[38;5;66;03m# check the columns and the dtypes\u001b[39;00m\n\u001b[0;32m----> 2\u001b[0m \u001b[43mbureau_balance\u001b[49m\u001b[38;5;241m.\u001b[39mdtypes\n",
      "\u001b[0;31mNameError\u001b[0m: name 'bureau_balance' is not defined"
     ]
    }
   ],
   "source": [
    "# check the columns and the dtypes\n",
    "bureau_balance.dtypes"
   ]
  },
  {
   "cell_type": "code",
   "execution_count": 4,
   "id": "stuck-celebrity",
   "metadata": {},
   "outputs": [
    {
     "data": {
      "text/plain": [
       "False"
      ]
     },
     "execution_count": 4,
     "metadata": {},
     "output_type": "execute_result"
    }
   ],
   "source": [
    "# see if the SK_ID_BUREAU is unique\n",
    "len(bureau_balance) == len(bureau_balance.SK_ID_BUREAU.unique())"
   ]
  },
  {
   "cell_type": "code",
   "execution_count": 5,
   "id": "fresh-island",
   "metadata": {},
   "outputs": [
    {
     "data": {
      "text/plain": [
       "817395"
      ]
     },
     "execution_count": 5,
     "metadata": {},
     "output_type": "execute_result"
    }
   ],
   "source": [
    "# see the average months history per bureau id\n",
    "history_count = bureau_balance[['SK_ID_BUREAU', 'MONTHS_BALANCE']].groupby('SK_ID_BUREAU').count()\n",
    "\n",
    "len(history_count)"
   ]
  },
  {
   "cell_type": "code",
   "execution_count": 6,
   "id": "successful-condition",
   "metadata": {},
   "outputs": [
    {
     "data": {
      "text/plain": [
       "cudf.core.dataframe.DataFrame"
      ]
     },
     "execution_count": 6,
     "metadata": {},
     "output_type": "execute_result"
    }
   ],
   "source": [
    "type(history_count)"
   ]
  },
  {
   "cell_type": "markdown",
   "id": "infrared-diana",
   "metadata": {},
   "source": [
    "Rapids can plot charts too though due to the render overhead, it is best for big dataframes over 1M rows and complex aggregations"
   ]
  },
  {
   "cell_type": "code",
   "execution_count": 7,
   "id": "clean-cinema",
   "metadata": {},
   "outputs": [],
   "source": [
    "# Normal Pandas Plot \n",
    "#plt.hist(history_count.MONTHS_BALANCE.to_arrow(), bins=100)"
   ]
  },
  {
   "cell_type": "code",
   "execution_count": 8,
   "id": "subjective-recognition",
   "metadata": {},
   "outputs": [
    {
     "name": "stderr",
     "output_type": "stream",
     "text": [
      "WARNING:param.panel_extension: A HoloViz extension was loaded previously. This means the extension is already initialized and the following Panel extensions could not be properly loaded: ['deckgl']. If you are loading custom extensions with pn.extension(...) ensure that this is called before any other HoloViz extension such as hvPlot or HoloViews.\n"
     ]
    },
    {
     "data": {
      "application/javascript": [
       "\n",
       "(function(root) {\n",
       "  function now() {\n",
       "    return new Date();\n",
       "  }\n",
       "\n",
       "  var force = true;\n",
       "\n",
       "  if (typeof root._bokeh_onload_callbacks === \"undefined\" || force === true) {\n",
       "    root._bokeh_onload_callbacks = [];\n",
       "    root._bokeh_is_loading = undefined;\n",
       "  }\n",
       "\n",
       "  if (typeof (root._bokeh_timeout) === \"undefined\" || force === true) {\n",
       "    root._bokeh_timeout = Date.now() + 5000;\n",
       "    root._bokeh_failed_load = false;\n",
       "  }\n",
       "\n",
       "  function run_callbacks() {\n",
       "    try {\n",
       "      root._bokeh_onload_callbacks.forEach(function(callback) {\n",
       "        if (callback != null)\n",
       "          callback();\n",
       "      });\n",
       "    } finally {\n",
       "      delete root._bokeh_onload_callbacks\n",
       "    }\n",
       "    console.debug(\"Bokeh: all callbacks have finished\");\n",
       "  }\n",
       "\n",
       "  function load_libs(css_urls, js_urls, callback) {\n",
       "    if (css_urls == null) css_urls = [];\n",
       "    if (js_urls == null) js_urls = [];\n",
       "\n",
       "    root._bokeh_onload_callbacks.push(callback);\n",
       "    if (root._bokeh_is_loading > 0) {\n",
       "      console.debug(\"Bokeh: BokehJS is being loaded, scheduling callback at\", now());\n",
       "      return null;\n",
       "    }\n",
       "    if (js_urls == null || js_urls.length === 0) {\n",
       "      run_callbacks();\n",
       "      return null;\n",
       "    }\n",
       "    console.debug(\"Bokeh: BokehJS not loaded, scheduling load and callback at\", now());\n",
       "    root._bokeh_is_loading = css_urls.length + js_urls.length;\n",
       "\n",
       "    function on_load() {\n",
       "      root._bokeh_is_loading--;\n",
       "      if (root._bokeh_is_loading === 0) {\n",
       "        console.debug(\"Bokeh: all BokehJS libraries/stylesheets loaded\");\n",
       "        run_callbacks()\n",
       "      }\n",
       "    }\n",
       "\n",
       "    function on_error() {\n",
       "      console.error(\"failed to load \" + url);\n",
       "    }\n",
       "\n",
       "    for (var i = 0; i < css_urls.length; i++) {\n",
       "      var url = css_urls[i];\n",
       "      const element = document.createElement(\"link\");\n",
       "      element.onload = on_load;\n",
       "      element.onerror = on_error;\n",
       "      element.rel = \"stylesheet\";\n",
       "      element.type = \"text/css\";\n",
       "      element.href = url;\n",
       "      console.debug(\"Bokeh: injecting link tag for BokehJS stylesheet: \", url);\n",
       "      document.body.appendChild(element);\n",
       "    }\n",
       "\n",
       "    var skip = [];\n",
       "    if (window.requirejs) {\n",
       "      window.requirejs.config({'paths': {'deck.gl': 'https://cdn.jsdelivr.net/npm/@deck.gl/jupyter-widget@^8.1.2/dist/index', 'mapbox-gl': 'https://cdn.jsdelivr.net/npm/mapbox-gl@1.7.0/dist/mapbox-gl.min'}});\n",
       "      require([\"deck.gl\", \"mapbox-gl\"], function(deck,mapboxgl,) {\n",
       "        window.deck = deck;\n",
       "        window.mapboxgl = mapboxgl;\n",
       "      })\n",
       "    }\n",
       "    if (((window['deck'] !== undefined) && (!(window['deck'] instanceof HTMLElement))) || window.requirejs) {\n",
       "      var urls = ['https://cdn.jsdelivr.net/npm/deck.gl@8.1.12/dist.min.js', 'https://cdn.jsdelivr.net/npm/@deck.gl/json@8.1.12/dist.min.js', 'https://cdn.jsdelivr.net/npm/@loaders.gl/csv@2.0.2/dist/dist.min.js', 'https://cdn.jsdelivr.net/npm/@loaders.gl/json@2.0.2/dist/dist.min.js', 'https://cdn.jsdelivr.net/npm/@loaders.gl/3d-tiles@2.0.2/dist/dist.min.js'];\n",
       "      for (var i = 0; i < urls.length; i++) {\n",
       "        skip.push(urls[i])\n",
       "      }\n",
       "    }\n",
       "    if (((window['mapboxgl'] !== undefined) && (!(window['mapboxgl'] instanceof HTMLElement))) || window.requirejs) {\n",
       "      var urls = ['https://api.mapbox.com/mapbox-gl-js/v1.7.0/mapbox-gl.js'];\n",
       "      for (var i = 0; i < urls.length; i++) {\n",
       "        skip.push(urls[i])\n",
       "      }\n",
       "    }\n",
       "    for (var i = 0; i < js_urls.length; i++) {\n",
       "      var url = js_urls[i];\n",
       "      if (skip.indexOf(url) >= 0) { on_load(); continue; }\n",
       "      var element = document.createElement('script');\n",
       "      element.onload = on_load;\n",
       "      element.onerror = on_error;\n",
       "      element.async = false;\n",
       "      element.src = url;\n",
       "      console.debug(\"Bokeh: injecting script tag for BokehJS library: \", url);\n",
       "      document.head.appendChild(element);\n",
       "    }\n",
       "\tif (!js_urls.length) {\n",
       "      on_load()\n",
       "    }\n",
       "  };\n",
       "\n",
       "  function inject_raw_css(css) {\n",
       "    const element = document.createElement(\"style\");\n",
       "    element.appendChild(document.createTextNode(css));\n",
       "    document.body.appendChild(element);\n",
       "  }\n",
       "\n",
       "  var js_urls = [\"https://cdn.jsdelivr.net/npm/deck.gl@8.1.12/dist.min.js\", \"https://cdn.jsdelivr.net/npm/@deck.gl/json@8.1.12/dist.min.js\", \"https://cdn.jsdelivr.net/npm/@loaders.gl/csv@2.0.2/dist/dist.min.js\", \"https://cdn.jsdelivr.net/npm/@loaders.gl/json@2.0.2/dist/dist.min.js\", \"https://cdn.jsdelivr.net/npm/@loaders.gl/3d-tiles@2.0.2/dist/dist.min.js\", \"https://api.mapbox.com/mapbox-gl-js/v1.7.0/mapbox-gl.js\", \"https://cdn.bokeh.org/bokeh/release/bokeh-2.2.3.min.js\", \"https://cdn.bokeh.org/bokeh/release/bokeh-widgets-2.2.3.min.js\", \"https://cdn.bokeh.org/bokeh/release/bokeh-tables-2.2.3.min.js\", \"https://unpkg.com/@holoviz/panel@^0.10.3/dist/panel.min.js\"];\n",
       "  var css_urls = [\"https://api.mapbox.com/mapbox-gl-js/v1.7.0/mapbox-gl.css\", \"https://unpkg.com/@holoviz/panel@0.10.3/dist/css/card.css\", \"https://unpkg.com/@holoviz/panel@0.10.3/dist/css/widgets.css\", \"https://unpkg.com/@holoviz/panel@0.10.3/dist/css/json.css\", \"https://unpkg.com/@holoviz/panel@0.10.3/dist/css/alerts.css\", \"https://unpkg.com/@holoviz/panel@0.10.3/dist/css/dataframe.css\", \"https://unpkg.com/@holoviz/panel@0.10.3/dist/css/markdown.css\"];\n",
       "\n",
       "  var inline_js = [\n",
       "    function(Bokeh) {\n",
       "      inject_raw_css(\"\\n.dataframe table{\\n  border: none;\\n}\\n\\n.panel-df table{\\n    width: 100%;\\n    border-collapse: collapse;\\n    border: none;\\n}\\n.panel-df td{\\n    white-space: nowrap;\\n    overflow: auto;\\n    text-overflow: ellipsis;\\n}\\n\");\n",
       "    },\n",
       "    function(Bokeh) {\n",
       "      inject_raw_css(\"\\n.multi-select{\\n    color: white;\\n    z-index: 100;\\n    background: rgba(44,43,43,0.5);\\n    border-radius: 1px;\\n    width: 120px !important;\\n    height: 30px !important;\\n}\\n.multi-select > .bk {\\n    padding: 5px;\\n    width: 120px !important;\\n    height: 30px !important;\\n}\\n\\n.deck-chart {\\n    z-index: 10;\\n    position: initial !important;\\n}\\n\");\n",
       "    },\n",
       "    function(Bokeh) {\n",
       "      inject_raw_css(\"\\n        .indicator {\\n            text-align: center;\\n        }\\n        \");\n",
       "    },\n",
       "    function(Bokeh) {\n",
       "      inject_raw_css(\"\\n        .indicator {\\n            text-align: center;\\n        }\\n        \");\n",
       "    },\n",
       "    function(Bokeh) {\n",
       "      Bokeh.set_log_level(\"info\");\n",
       "    },\n",
       "    \n",
       "    function(Bokeh) {\n",
       "      (function(root, factory) {\n",
       "          factory(root[\"Bokeh\"]);\n",
       "      })(this, function(Bokeh) {\n",
       "        var define;\n",
       "        return (function outer(modules, entry) {\n",
       "        if (Bokeh != null) {\n",
       "          return Bokeh.register_plugin(modules, entry);\n",
       "        } else {\n",
       "          throw new Error(\"Cannot find Bokeh. You have to load it prior to loading plugins.\");\n",
       "        }\n",
       "      })\n",
       "      ({\n",
       "        \"custom/main\": function(require, module, exports) {\n",
       "          var models = {\n",
       "            \"CustomInspectTool\": require(\"custom/cuxfilter.charts.datashader.custom_extensions.graph_inspect_widget.custom_inspect_tool\").CustomInspectTool\n",
       "          };\n",
       "          require(\"base\").register_models(models);\n",
       "          module.exports = models;\n",
       "        },\n",
       "        \"custom/cuxfilter.charts.datashader.custom_extensions.graph_inspect_widget.custom_inspect_tool\": function(require, module, exports) {\n",
       "      \"use strict\";\n",
       "      var __importStar = (this && this.__importStar) || function (mod) {\n",
       "          if (mod && mod.__esModule) return mod;\n",
       "          var result = {};\n",
       "          if (mod != null) for (var k in mod) if (Object.hasOwnProperty.call(mod, k)) result[k] = mod[k];\n",
       "          result[\"default\"] = mod;\n",
       "          return result;\n",
       "      };\n",
       "      Object.defineProperty(exports, \"__esModule\", { value: true });\n",
       "      const inspect_tool_1 = require(\"models/tools/inspectors/inspect_tool\");\n",
       "      const p = __importStar(require(\"core/properties\"));\n",
       "      class CustomInspectToolView extends inspect_tool_1.InspectToolView {\n",
       "          connect_signals() {\n",
       "              super.connect_signals();\n",
       "              this.connect(this.model.properties.active.change, () => {\n",
       "                  this.model._active = this.model.properties.active.spec.value;\n",
       "              });\n",
       "          }\n",
       "      }\n",
       "      exports.CustomInspectToolView = CustomInspectToolView;\n",
       "      CustomInspectToolView.__name__ = \"CustomInspectToolView\";\n",
       "      class CustomInspectTool extends inspect_tool_1.InspectTool {\n",
       "          constructor(attrs) {\n",
       "              super(attrs);\n",
       "          }\n",
       "          static init_CustomInspectTool() {\n",
       "              this.prototype.default_view = CustomInspectToolView;\n",
       "              this.define({\n",
       "                  _active: [p.Instance],\n",
       "                  icon: [p.String],\n",
       "                  tool_name: [p.String]\n",
       "              });\n",
       "          }\n",
       "      }\n",
       "      exports.CustomInspectTool = CustomInspectTool;\n",
       "      CustomInspectTool.__name__ = \"CustomInspectTool\";\n",
       "      CustomInspectTool.init_CustomInspectTool();\n",
       "      //# sourceMappingURL=graph_inspect_widget.py:CustomInspectTool.js.map\n",
       "      }\n",
       "      }, \"custom/main\");\n",
       "      ;\n",
       "      });\n",
       "\n",
       "    },\n",
       "    function(Bokeh) {} // ensure no trailing comma for IE\n",
       "  ];\n",
       "\n",
       "  function run_inline_js() {\n",
       "    if ((root.Bokeh !== undefined) || (force === true)) {\n",
       "      for (var i = 0; i < inline_js.length; i++) {\n",
       "        inline_js[i].call(root, root.Bokeh);\n",
       "      }} else if (Date.now() < root._bokeh_timeout) {\n",
       "      setTimeout(run_inline_js, 100);\n",
       "    } else if (!root._bokeh_failed_load) {\n",
       "      console.log(\"Bokeh: BokehJS failed to load within specified timeout.\");\n",
       "      root._bokeh_failed_load = true;\n",
       "    }\n",
       "  }\n",
       "\n",
       "  if (root._bokeh_is_loading === 0) {\n",
       "    console.debug(\"Bokeh: BokehJS loaded, going straight to plotting\");\n",
       "    run_inline_js();\n",
       "  } else {\n",
       "    load_libs(css_urls, js_urls, function() {\n",
       "      console.debug(\"Bokeh: BokehJS plotting callback run at\", now());\n",
       "      run_inline_js();\n",
       "    });\n",
       "  }\n",
       "}(window));"
      ],
      "application/vnd.holoviews_load.v0+json": "\n(function(root) {\n  function now() {\n    return new Date();\n  }\n\n  var force = true;\n\n  if (typeof root._bokeh_onload_callbacks === \"undefined\" || force === true) {\n    root._bokeh_onload_callbacks = [];\n    root._bokeh_is_loading = undefined;\n  }\n\n  if (typeof (root._bokeh_timeout) === \"undefined\" || force === true) {\n    root._bokeh_timeout = Date.now() + 5000;\n    root._bokeh_failed_load = false;\n  }\n\n  function run_callbacks() {\n    try {\n      root._bokeh_onload_callbacks.forEach(function(callback) {\n        if (callback != null)\n          callback();\n      });\n    } finally {\n      delete root._bokeh_onload_callbacks\n    }\n    console.debug(\"Bokeh: all callbacks have finished\");\n  }\n\n  function load_libs(css_urls, js_urls, callback) {\n    if (css_urls == null) css_urls = [];\n    if (js_urls == null) js_urls = [];\n\n    root._bokeh_onload_callbacks.push(callback);\n    if (root._bokeh_is_loading > 0) {\n      console.debug(\"Bokeh: BokehJS is being loaded, scheduling callback at\", now());\n      return null;\n    }\n    if (js_urls == null || js_urls.length === 0) {\n      run_callbacks();\n      return null;\n    }\n    console.debug(\"Bokeh: BokehJS not loaded, scheduling load and callback at\", now());\n    root._bokeh_is_loading = css_urls.length + js_urls.length;\n\n    function on_load() {\n      root._bokeh_is_loading--;\n      if (root._bokeh_is_loading === 0) {\n        console.debug(\"Bokeh: all BokehJS libraries/stylesheets loaded\");\n        run_callbacks()\n      }\n    }\n\n    function on_error() {\n      console.error(\"failed to load \" + url);\n    }\n\n    for (var i = 0; i < css_urls.length; i++) {\n      var url = css_urls[i];\n      const element = document.createElement(\"link\");\n      element.onload = on_load;\n      element.onerror = on_error;\n      element.rel = \"stylesheet\";\n      element.type = \"text/css\";\n      element.href = url;\n      console.debug(\"Bokeh: injecting link tag for BokehJS stylesheet: \", url);\n      document.body.appendChild(element);\n    }\n\n    var skip = [];\n    if (window.requirejs) {\n      window.requirejs.config({'paths': {'deck.gl': 'https://cdn.jsdelivr.net/npm/@deck.gl/jupyter-widget@^8.1.2/dist/index', 'mapbox-gl': 'https://cdn.jsdelivr.net/npm/mapbox-gl@1.7.0/dist/mapbox-gl.min'}});\n      require([\"deck.gl\", \"mapbox-gl\"], function(deck,mapboxgl,) {\n        window.deck = deck;\n        window.mapboxgl = mapboxgl;\n      })\n    }\n    if (((window['deck'] !== undefined) && (!(window['deck'] instanceof HTMLElement))) || window.requirejs) {\n      var urls = ['https://cdn.jsdelivr.net/npm/deck.gl@8.1.12/dist.min.js', 'https://cdn.jsdelivr.net/npm/@deck.gl/json@8.1.12/dist.min.js', 'https://cdn.jsdelivr.net/npm/@loaders.gl/csv@2.0.2/dist/dist.min.js', 'https://cdn.jsdelivr.net/npm/@loaders.gl/json@2.0.2/dist/dist.min.js', 'https://cdn.jsdelivr.net/npm/@loaders.gl/3d-tiles@2.0.2/dist/dist.min.js'];\n      for (var i = 0; i < urls.length; i++) {\n        skip.push(urls[i])\n      }\n    }\n    if (((window['mapboxgl'] !== undefined) && (!(window['mapboxgl'] instanceof HTMLElement))) || window.requirejs) {\n      var urls = ['https://api.mapbox.com/mapbox-gl-js/v1.7.0/mapbox-gl.js'];\n      for (var i = 0; i < urls.length; i++) {\n        skip.push(urls[i])\n      }\n    }\n    for (var i = 0; i < js_urls.length; i++) {\n      var url = js_urls[i];\n      if (skip.indexOf(url) >= 0) { on_load(); continue; }\n      var element = document.createElement('script');\n      element.onload = on_load;\n      element.onerror = on_error;\n      element.async = false;\n      element.src = url;\n      console.debug(\"Bokeh: injecting script tag for BokehJS library: \", url);\n      document.head.appendChild(element);\n    }\n\tif (!js_urls.length) {\n      on_load()\n    }\n  };\n\n  function inject_raw_css(css) {\n    const element = document.createElement(\"style\");\n    element.appendChild(document.createTextNode(css));\n    document.body.appendChild(element);\n  }\n\n  var js_urls = [\"https://cdn.jsdelivr.net/npm/deck.gl@8.1.12/dist.min.js\", \"https://cdn.jsdelivr.net/npm/@deck.gl/json@8.1.12/dist.min.js\", \"https://cdn.jsdelivr.net/npm/@loaders.gl/csv@2.0.2/dist/dist.min.js\", \"https://cdn.jsdelivr.net/npm/@loaders.gl/json@2.0.2/dist/dist.min.js\", \"https://cdn.jsdelivr.net/npm/@loaders.gl/3d-tiles@2.0.2/dist/dist.min.js\", \"https://api.mapbox.com/mapbox-gl-js/v1.7.0/mapbox-gl.js\", \"https://cdn.bokeh.org/bokeh/release/bokeh-2.2.3.min.js\", \"https://cdn.bokeh.org/bokeh/release/bokeh-widgets-2.2.3.min.js\", \"https://cdn.bokeh.org/bokeh/release/bokeh-tables-2.2.3.min.js\", \"https://unpkg.com/@holoviz/panel@^0.10.3/dist/panel.min.js\"];\n  var css_urls = [\"https://api.mapbox.com/mapbox-gl-js/v1.7.0/mapbox-gl.css\", \"https://unpkg.com/@holoviz/panel@0.10.3/dist/css/card.css\", \"https://unpkg.com/@holoviz/panel@0.10.3/dist/css/widgets.css\", \"https://unpkg.com/@holoviz/panel@0.10.3/dist/css/json.css\", \"https://unpkg.com/@holoviz/panel@0.10.3/dist/css/alerts.css\", \"https://unpkg.com/@holoviz/panel@0.10.3/dist/css/dataframe.css\", \"https://unpkg.com/@holoviz/panel@0.10.3/dist/css/markdown.css\"];\n\n  var inline_js = [\n    function(Bokeh) {\n      inject_raw_css(\"\\n.dataframe table{\\n  border: none;\\n}\\n\\n.panel-df table{\\n    width: 100%;\\n    border-collapse: collapse;\\n    border: none;\\n}\\n.panel-df td{\\n    white-space: nowrap;\\n    overflow: auto;\\n    text-overflow: ellipsis;\\n}\\n\");\n    },\n    function(Bokeh) {\n      inject_raw_css(\"\\n.multi-select{\\n    color: white;\\n    z-index: 100;\\n    background: rgba(44,43,43,0.5);\\n    border-radius: 1px;\\n    width: 120px !important;\\n    height: 30px !important;\\n}\\n.multi-select > .bk {\\n    padding: 5px;\\n    width: 120px !important;\\n    height: 30px !important;\\n}\\n\\n.deck-chart {\\n    z-index: 10;\\n    position: initial !important;\\n}\\n\");\n    },\n    function(Bokeh) {\n      inject_raw_css(\"\\n        .indicator {\\n            text-align: center;\\n        }\\n        \");\n    },\n    function(Bokeh) {\n      inject_raw_css(\"\\n        .indicator {\\n            text-align: center;\\n        }\\n        \");\n    },\n    function(Bokeh) {\n      Bokeh.set_log_level(\"info\");\n    },\n    \n    function(Bokeh) {\n      (function(root, factory) {\n          factory(root[\"Bokeh\"]);\n      })(this, function(Bokeh) {\n        var define;\n        return (function outer(modules, entry) {\n        if (Bokeh != null) {\n          return Bokeh.register_plugin(modules, entry);\n        } else {\n          throw new Error(\"Cannot find Bokeh. You have to load it prior to loading plugins.\");\n        }\n      })\n      ({\n        \"custom/main\": function(require, module, exports) {\n          var models = {\n            \"CustomInspectTool\": require(\"custom/cuxfilter.charts.datashader.custom_extensions.graph_inspect_widget.custom_inspect_tool\").CustomInspectTool\n          };\n          require(\"base\").register_models(models);\n          module.exports = models;\n        },\n        \"custom/cuxfilter.charts.datashader.custom_extensions.graph_inspect_widget.custom_inspect_tool\": function(require, module, exports) {\n      \"use strict\";\n      var __importStar = (this && this.__importStar) || function (mod) {\n          if (mod && mod.__esModule) return mod;\n          var result = {};\n          if (mod != null) for (var k in mod) if (Object.hasOwnProperty.call(mod, k)) result[k] = mod[k];\n          result[\"default\"] = mod;\n          return result;\n      };\n      Object.defineProperty(exports, \"__esModule\", { value: true });\n      const inspect_tool_1 = require(\"models/tools/inspectors/inspect_tool\");\n      const p = __importStar(require(\"core/properties\"));\n      class CustomInspectToolView extends inspect_tool_1.InspectToolView {\n          connect_signals() {\n              super.connect_signals();\n              this.connect(this.model.properties.active.change, () => {\n                  this.model._active = this.model.properties.active.spec.value;\n              });\n          }\n      }\n      exports.CustomInspectToolView = CustomInspectToolView;\n      CustomInspectToolView.__name__ = \"CustomInspectToolView\";\n      class CustomInspectTool extends inspect_tool_1.InspectTool {\n          constructor(attrs) {\n              super(attrs);\n          }\n          static init_CustomInspectTool() {\n              this.prototype.default_view = CustomInspectToolView;\n              this.define({\n                  _active: [p.Instance],\n                  icon: [p.String],\n                  tool_name: [p.String]\n              });\n          }\n      }\n      exports.CustomInspectTool = CustomInspectTool;\n      CustomInspectTool.__name__ = \"CustomInspectTool\";\n      CustomInspectTool.init_CustomInspectTool();\n      //# sourceMappingURL=graph_inspect_widget.py:CustomInspectTool.js.map\n      }\n      }, \"custom/main\");\n      ;\n      });\n\n    },\n    function(Bokeh) {} // ensure no trailing comma for IE\n  ];\n\n  function run_inline_js() {\n    if ((root.Bokeh !== undefined) || (force === true)) {\n      for (var i = 0; i < inline_js.length; i++) {\n        inline_js[i].call(root, root.Bokeh);\n      }} else if (Date.now() < root._bokeh_timeout) {\n      setTimeout(run_inline_js, 100);\n    } else if (!root._bokeh_failed_load) {\n      console.log(\"Bokeh: BokehJS failed to load within specified timeout.\");\n      root._bokeh_failed_load = true;\n    }\n  }\n\n  if (root._bokeh_is_loading === 0) {\n    console.debug(\"Bokeh: BokehJS loaded, going straight to plotting\");\n    run_inline_js();\n  } else {\n    load_libs(css_urls, js_urls, function() {\n      console.debug(\"Bokeh: BokehJS plotting callback run at\", now());\n      run_inline_js();\n    });\n  }\n}(window));"
     },
     "metadata": {},
     "output_type": "display_data"
    },
    {
     "data": {
      "application/javascript": [
       "\n",
       "if ((window.PyViz === undefined) || (window.PyViz instanceof HTMLElement)) {\n",
       "  window.PyViz = {comms: {}, comm_status:{}, kernels:{}, receivers: {}, plot_index: []}\n",
       "}\n",
       "\n",
       "\n",
       "    function JupyterCommManager() {\n",
       "    }\n",
       "\n",
       "    JupyterCommManager.prototype.register_target = function(plot_id, comm_id, msg_handler) {\n",
       "      if (window.comm_manager || ((window.Jupyter !== undefined) && (Jupyter.notebook.kernel != null))) {\n",
       "        var comm_manager = window.comm_manager || Jupyter.notebook.kernel.comm_manager;\n",
       "        comm_manager.register_target(comm_id, function(comm) {\n",
       "          comm.on_msg(msg_handler);\n",
       "        });\n",
       "      } else if ((plot_id in window.PyViz.kernels) && (window.PyViz.kernels[plot_id])) {\n",
       "        window.PyViz.kernels[plot_id].registerCommTarget(comm_id, function(comm) {\n",
       "          comm.onMsg = msg_handler;\n",
       "        });\n",
       "      } else if (typeof google != 'undefined' && google.colab.kernel != null) {\n",
       "        google.colab.kernel.comms.registerTarget(comm_id, (comm) => {\n",
       "          var messages = comm.messages[Symbol.asyncIterator]();\n",
       "          function processIteratorResult(result) {\n",
       "            var message = result.value;\n",
       "            console.log(message)\n",
       "            var content = {data: message.data, comm_id};\n",
       "            var buffers = []\n",
       "            for (var buffer of message.buffers || []) {\n",
       "              buffers.push(new DataView(buffer))\n",
       "            }\n",
       "            var metadata = message.metadata || {};\n",
       "            var msg = {content, buffers, metadata}\n",
       "            msg_handler(msg);\n",
       "            return messages.next().then(processIteratorResult);\n",
       "          }\n",
       "          return messages.next().then(processIteratorResult);\n",
       "        })\n",
       "      }\n",
       "    }\n",
       "\n",
       "    JupyterCommManager.prototype.get_client_comm = function(plot_id, comm_id, msg_handler) {\n",
       "      if (comm_id in window.PyViz.comms) {\n",
       "        return window.PyViz.comms[comm_id];\n",
       "      } else if (window.comm_manager || ((window.Jupyter !== undefined) && (Jupyter.notebook.kernel != null))) {\n",
       "        var comm_manager = window.comm_manager || Jupyter.notebook.kernel.comm_manager;\n",
       "        var comm = comm_manager.new_comm(comm_id, {}, {}, {}, comm_id);\n",
       "        if (msg_handler) {\n",
       "          comm.on_msg(msg_handler);\n",
       "        }\n",
       "      } else if ((plot_id in window.PyViz.kernels) && (window.PyViz.kernels[plot_id])) {\n",
       "        var comm = window.PyViz.kernels[plot_id].connectToComm(comm_id);\n",
       "        comm.open();\n",
       "        if (msg_handler) {\n",
       "          comm.onMsg = msg_handler;\n",
       "        }\n",
       "      } else if (typeof google != 'undefined' && google.colab.kernel != null) {\n",
       "        var comm_promise = google.colab.kernel.comms.open(comm_id)\n",
       "        comm_promise.then((comm) => {\n",
       "          window.PyViz.comms[comm_id] = comm;\n",
       "          if (msg_handler) {\n",
       "            var messages = comm.messages[Symbol.asyncIterator]();\n",
       "            function processIteratorResult(result) {\n",
       "              var message = result.value;\n",
       "              var content = {data: message.data};\n",
       "              var metadata = message.metadata || {comm_id};\n",
       "              var msg = {content, metadata}\n",
       "              msg_handler(msg);\n",
       "              return messages.next().then(processIteratorResult);\n",
       "            }\n",
       "            return messages.next().then(processIteratorResult);\n",
       "          }\n",
       "        }) \n",
       "        var sendClosure = (data, metadata, buffers, disposeOnDone) => {\n",
       "          return comm_promise.then((comm) => {\n",
       "            comm.send(data, metadata, buffers, disposeOnDone);\n",
       "          });\n",
       "        };\n",
       "        var comm = {\n",
       "          send: sendClosure\n",
       "        };\n",
       "      }\n",
       "      window.PyViz.comms[comm_id] = comm;\n",
       "      return comm;\n",
       "    }\n",
       "    window.PyViz.comm_manager = new JupyterCommManager();\n",
       "    \n",
       "\n",
       "\n",
       "var JS_MIME_TYPE = 'application/javascript';\n",
       "var HTML_MIME_TYPE = 'text/html';\n",
       "var EXEC_MIME_TYPE = 'application/vnd.holoviews_exec.v0+json';\n",
       "var CLASS_NAME = 'output';\n",
       "\n",
       "/**\n",
       " * Render data to the DOM node\n",
       " */\n",
       "function render(props, node) {\n",
       "  var div = document.createElement(\"div\");\n",
       "  var script = document.createElement(\"script\");\n",
       "  node.appendChild(div);\n",
       "  node.appendChild(script);\n",
       "}\n",
       "\n",
       "/**\n",
       " * Handle when a new output is added\n",
       " */\n",
       "function handle_add_output(event, handle) {\n",
       "  var output_area = handle.output_area;\n",
       "  var output = handle.output;\n",
       "  if ((output.data == undefined) || (!output.data.hasOwnProperty(EXEC_MIME_TYPE))) {\n",
       "    return\n",
       "  }\n",
       "  var id = output.metadata[EXEC_MIME_TYPE][\"id\"];\n",
       "  var toinsert = output_area.element.find(\".\" + CLASS_NAME.split(' ')[0]);\n",
       "  if (id !== undefined) {\n",
       "    var nchildren = toinsert.length;\n",
       "    var html_node = toinsert[nchildren-1].children[0];\n",
       "    html_node.innerHTML = output.data[HTML_MIME_TYPE];\n",
       "    var scripts = [];\n",
       "    var nodelist = html_node.querySelectorAll(\"script\");\n",
       "    for (var i in nodelist) {\n",
       "      if (nodelist.hasOwnProperty(i)) {\n",
       "        scripts.push(nodelist[i])\n",
       "      }\n",
       "    }\n",
       "\n",
       "    scripts.forEach( function (oldScript) {\n",
       "      var newScript = document.createElement(\"script\");\n",
       "      var attrs = [];\n",
       "      var nodemap = oldScript.attributes;\n",
       "      for (var j in nodemap) {\n",
       "        if (nodemap.hasOwnProperty(j)) {\n",
       "          attrs.push(nodemap[j])\n",
       "        }\n",
       "      }\n",
       "      attrs.forEach(function(attr) { newScript.setAttribute(attr.name, attr.value) });\n",
       "      newScript.appendChild(document.createTextNode(oldScript.innerHTML));\n",
       "      oldScript.parentNode.replaceChild(newScript, oldScript);\n",
       "    });\n",
       "    if (JS_MIME_TYPE in output.data) {\n",
       "      toinsert[nchildren-1].children[1].textContent = output.data[JS_MIME_TYPE];\n",
       "    }\n",
       "    output_area._hv_plot_id = id;\n",
       "    if ((window.Bokeh !== undefined) && (id in Bokeh.index)) {\n",
       "      window.PyViz.plot_index[id] = Bokeh.index[id];\n",
       "    } else {\n",
       "      window.PyViz.plot_index[id] = null;\n",
       "    }\n",
       "  } else if (output.metadata[EXEC_MIME_TYPE][\"server_id\"] !== undefined) {\n",
       "    var bk_div = document.createElement(\"div\");\n",
       "    bk_div.innerHTML = output.data[HTML_MIME_TYPE];\n",
       "    var script_attrs = bk_div.children[0].attributes;\n",
       "    for (var i = 0; i < script_attrs.length; i++) {\n",
       "      toinsert[toinsert.length - 1].childNodes[1].setAttribute(script_attrs[i].name, script_attrs[i].value);\n",
       "    }\n",
       "    // store reference to server id on output_area\n",
       "    output_area._bokeh_server_id = output.metadata[EXEC_MIME_TYPE][\"server_id\"];\n",
       "  }\n",
       "}\n",
       "\n",
       "/**\n",
       " * Handle when an output is cleared or removed\n",
       " */\n",
       "function handle_clear_output(event, handle) {\n",
       "  var id = handle.cell.output_area._hv_plot_id;\n",
       "  var server_id = handle.cell.output_area._bokeh_server_id;\n",
       "  if (((id === undefined) || !(id in PyViz.plot_index)) && (server_id !== undefined)) { return; }\n",
       "  var comm = window.PyViz.comm_manager.get_client_comm(\"hv-extension-comm\", \"hv-extension-comm\", function () {});\n",
       "  if (server_id !== null) {\n",
       "    comm.send({event_type: 'server_delete', 'id': server_id});\n",
       "    return;\n",
       "  } else if (comm !== null) {\n",
       "    comm.send({event_type: 'delete', 'id': id});\n",
       "  }\n",
       "  delete PyViz.plot_index[id];\n",
       "  if ((window.Bokeh !== undefined) & (id in window.Bokeh.index)) {\n",
       "    var doc = window.Bokeh.index[id].model.document\n",
       "    doc.clear();\n",
       "    const i = window.Bokeh.documents.indexOf(doc);\n",
       "    if (i > -1) {\n",
       "      window.Bokeh.documents.splice(i, 1);\n",
       "    }\n",
       "  }\n",
       "}\n",
       "\n",
       "/**\n",
       " * Handle kernel restart event\n",
       " */\n",
       "function handle_kernel_cleanup(event, handle) {\n",
       "  delete PyViz.comms[\"hv-extension-comm\"];\n",
       "  window.PyViz.plot_index = {}\n",
       "}\n",
       "\n",
       "/**\n",
       " * Handle update_display_data messages\n",
       " */\n",
       "function handle_update_output(event, handle) {\n",
       "  handle_clear_output(event, {cell: {output_area: handle.output_area}})\n",
       "  handle_add_output(event, handle)\n",
       "}\n",
       "\n",
       "function register_renderer(events, OutputArea) {\n",
       "  function append_mime(data, metadata, element) {\n",
       "    // create a DOM node to render to\n",
       "    var toinsert = this.create_output_subarea(\n",
       "    metadata,\n",
       "    CLASS_NAME,\n",
       "    EXEC_MIME_TYPE\n",
       "    );\n",
       "    this.keyboard_manager.register_events(toinsert);\n",
       "    // Render to node\n",
       "    var props = {data: data, metadata: metadata[EXEC_MIME_TYPE]};\n",
       "    render(props, toinsert[0]);\n",
       "    element.append(toinsert);\n",
       "    return toinsert\n",
       "  }\n",
       "\n",
       "  events.on('output_added.OutputArea', handle_add_output);\n",
       "  events.on('output_updated.OutputArea', handle_update_output);\n",
       "  events.on('clear_output.CodeCell', handle_clear_output);\n",
       "  events.on('delete.Cell', handle_clear_output);\n",
       "  events.on('kernel_ready.Kernel', handle_kernel_cleanup);\n",
       "\n",
       "  OutputArea.prototype.register_mime_type(EXEC_MIME_TYPE, append_mime, {\n",
       "    safe: true,\n",
       "    index: 0\n",
       "  });\n",
       "}\n",
       "\n",
       "if (window.Jupyter !== undefined) {\n",
       "  try {\n",
       "    var events = require('base/js/events');\n",
       "    var OutputArea = require('notebook/js/outputarea').OutputArea;\n",
       "    if (OutputArea.prototype.mime_types().indexOf(EXEC_MIME_TYPE) == -1) {\n",
       "      register_renderer(events, OutputArea);\n",
       "    }\n",
       "  } catch(err) {\n",
       "  }\n",
       "}\n"
      ],
      "application/vnd.holoviews_load.v0+json": "\nif ((window.PyViz === undefined) || (window.PyViz instanceof HTMLElement)) {\n  window.PyViz = {comms: {}, comm_status:{}, kernels:{}, receivers: {}, plot_index: []}\n}\n\n\n    function JupyterCommManager() {\n    }\n\n    JupyterCommManager.prototype.register_target = function(plot_id, comm_id, msg_handler) {\n      if (window.comm_manager || ((window.Jupyter !== undefined) && (Jupyter.notebook.kernel != null))) {\n        var comm_manager = window.comm_manager || Jupyter.notebook.kernel.comm_manager;\n        comm_manager.register_target(comm_id, function(comm) {\n          comm.on_msg(msg_handler);\n        });\n      } else if ((plot_id in window.PyViz.kernels) && (window.PyViz.kernels[plot_id])) {\n        window.PyViz.kernels[plot_id].registerCommTarget(comm_id, function(comm) {\n          comm.onMsg = msg_handler;\n        });\n      } else if (typeof google != 'undefined' && google.colab.kernel != null) {\n        google.colab.kernel.comms.registerTarget(comm_id, (comm) => {\n          var messages = comm.messages[Symbol.asyncIterator]();\n          function processIteratorResult(result) {\n            var message = result.value;\n            console.log(message)\n            var content = {data: message.data, comm_id};\n            var buffers = []\n            for (var buffer of message.buffers || []) {\n              buffers.push(new DataView(buffer))\n            }\n            var metadata = message.metadata || {};\n            var msg = {content, buffers, metadata}\n            msg_handler(msg);\n            return messages.next().then(processIteratorResult);\n          }\n          return messages.next().then(processIteratorResult);\n        })\n      }\n    }\n\n    JupyterCommManager.prototype.get_client_comm = function(plot_id, comm_id, msg_handler) {\n      if (comm_id in window.PyViz.comms) {\n        return window.PyViz.comms[comm_id];\n      } else if (window.comm_manager || ((window.Jupyter !== undefined) && (Jupyter.notebook.kernel != null))) {\n        var comm_manager = window.comm_manager || Jupyter.notebook.kernel.comm_manager;\n        var comm = comm_manager.new_comm(comm_id, {}, {}, {}, comm_id);\n        if (msg_handler) {\n          comm.on_msg(msg_handler);\n        }\n      } else if ((plot_id in window.PyViz.kernels) && (window.PyViz.kernels[plot_id])) {\n        var comm = window.PyViz.kernels[plot_id].connectToComm(comm_id);\n        comm.open();\n        if (msg_handler) {\n          comm.onMsg = msg_handler;\n        }\n      } else if (typeof google != 'undefined' && google.colab.kernel != null) {\n        var comm_promise = google.colab.kernel.comms.open(comm_id)\n        comm_promise.then((comm) => {\n          window.PyViz.comms[comm_id] = comm;\n          if (msg_handler) {\n            var messages = comm.messages[Symbol.asyncIterator]();\n            function processIteratorResult(result) {\n              var message = result.value;\n              var content = {data: message.data};\n              var metadata = message.metadata || {comm_id};\n              var msg = {content, metadata}\n              msg_handler(msg);\n              return messages.next().then(processIteratorResult);\n            }\n            return messages.next().then(processIteratorResult);\n          }\n        }) \n        var sendClosure = (data, metadata, buffers, disposeOnDone) => {\n          return comm_promise.then((comm) => {\n            comm.send(data, metadata, buffers, disposeOnDone);\n          });\n        };\n        var comm = {\n          send: sendClosure\n        };\n      }\n      window.PyViz.comms[comm_id] = comm;\n      return comm;\n    }\n    window.PyViz.comm_manager = new JupyterCommManager();\n    \n\n\nvar JS_MIME_TYPE = 'application/javascript';\nvar HTML_MIME_TYPE = 'text/html';\nvar EXEC_MIME_TYPE = 'application/vnd.holoviews_exec.v0+json';\nvar CLASS_NAME = 'output';\n\n/**\n * Render data to the DOM node\n */\nfunction render(props, node) {\n  var div = document.createElement(\"div\");\n  var script = document.createElement(\"script\");\n  node.appendChild(div);\n  node.appendChild(script);\n}\n\n/**\n * Handle when a new output is added\n */\nfunction handle_add_output(event, handle) {\n  var output_area = handle.output_area;\n  var output = handle.output;\n  if ((output.data == undefined) || (!output.data.hasOwnProperty(EXEC_MIME_TYPE))) {\n    return\n  }\n  var id = output.metadata[EXEC_MIME_TYPE][\"id\"];\n  var toinsert = output_area.element.find(\".\" + CLASS_NAME.split(' ')[0]);\n  if (id !== undefined) {\n    var nchildren = toinsert.length;\n    var html_node = toinsert[nchildren-1].children[0];\n    html_node.innerHTML = output.data[HTML_MIME_TYPE];\n    var scripts = [];\n    var nodelist = html_node.querySelectorAll(\"script\");\n    for (var i in nodelist) {\n      if (nodelist.hasOwnProperty(i)) {\n        scripts.push(nodelist[i])\n      }\n    }\n\n    scripts.forEach( function (oldScript) {\n      var newScript = document.createElement(\"script\");\n      var attrs = [];\n      var nodemap = oldScript.attributes;\n      for (var j in nodemap) {\n        if (nodemap.hasOwnProperty(j)) {\n          attrs.push(nodemap[j])\n        }\n      }\n      attrs.forEach(function(attr) { newScript.setAttribute(attr.name, attr.value) });\n      newScript.appendChild(document.createTextNode(oldScript.innerHTML));\n      oldScript.parentNode.replaceChild(newScript, oldScript);\n    });\n    if (JS_MIME_TYPE in output.data) {\n      toinsert[nchildren-1].children[1].textContent = output.data[JS_MIME_TYPE];\n    }\n    output_area._hv_plot_id = id;\n    if ((window.Bokeh !== undefined) && (id in Bokeh.index)) {\n      window.PyViz.plot_index[id] = Bokeh.index[id];\n    } else {\n      window.PyViz.plot_index[id] = null;\n    }\n  } else if (output.metadata[EXEC_MIME_TYPE][\"server_id\"] !== undefined) {\n    var bk_div = document.createElement(\"div\");\n    bk_div.innerHTML = output.data[HTML_MIME_TYPE];\n    var script_attrs = bk_div.children[0].attributes;\n    for (var i = 0; i < script_attrs.length; i++) {\n      toinsert[toinsert.length - 1].childNodes[1].setAttribute(script_attrs[i].name, script_attrs[i].value);\n    }\n    // store reference to server id on output_area\n    output_area._bokeh_server_id = output.metadata[EXEC_MIME_TYPE][\"server_id\"];\n  }\n}\n\n/**\n * Handle when an output is cleared or removed\n */\nfunction handle_clear_output(event, handle) {\n  var id = handle.cell.output_area._hv_plot_id;\n  var server_id = handle.cell.output_area._bokeh_server_id;\n  if (((id === undefined) || !(id in PyViz.plot_index)) && (server_id !== undefined)) { return; }\n  var comm = window.PyViz.comm_manager.get_client_comm(\"hv-extension-comm\", \"hv-extension-comm\", function () {});\n  if (server_id !== null) {\n    comm.send({event_type: 'server_delete', 'id': server_id});\n    return;\n  } else if (comm !== null) {\n    comm.send({event_type: 'delete', 'id': id});\n  }\n  delete PyViz.plot_index[id];\n  if ((window.Bokeh !== undefined) & (id in window.Bokeh.index)) {\n    var doc = window.Bokeh.index[id].model.document\n    doc.clear();\n    const i = window.Bokeh.documents.indexOf(doc);\n    if (i > -1) {\n      window.Bokeh.documents.splice(i, 1);\n    }\n  }\n}\n\n/**\n * Handle kernel restart event\n */\nfunction handle_kernel_cleanup(event, handle) {\n  delete PyViz.comms[\"hv-extension-comm\"];\n  window.PyViz.plot_index = {}\n}\n\n/**\n * Handle update_display_data messages\n */\nfunction handle_update_output(event, handle) {\n  handle_clear_output(event, {cell: {output_area: handle.output_area}})\n  handle_add_output(event, handle)\n}\n\nfunction register_renderer(events, OutputArea) {\n  function append_mime(data, metadata, element) {\n    // create a DOM node to render to\n    var toinsert = this.create_output_subarea(\n    metadata,\n    CLASS_NAME,\n    EXEC_MIME_TYPE\n    );\n    this.keyboard_manager.register_events(toinsert);\n    // Render to node\n    var props = {data: data, metadata: metadata[EXEC_MIME_TYPE]};\n    render(props, toinsert[0]);\n    element.append(toinsert);\n    return toinsert\n  }\n\n  events.on('output_added.OutputArea', handle_add_output);\n  events.on('output_updated.OutputArea', handle_update_output);\n  events.on('clear_output.CodeCell', handle_clear_output);\n  events.on('delete.Cell', handle_clear_output);\n  events.on('kernel_ready.Kernel', handle_kernel_cleanup);\n\n  OutputArea.prototype.register_mime_type(EXEC_MIME_TYPE, append_mime, {\n    safe: true,\n    index: 0\n  });\n}\n\nif (window.Jupyter !== undefined) {\n  try {\n    var events = require('base/js/events');\n    var OutputArea = require('notebook/js/outputarea').OutputArea;\n    if (OutputArea.prototype.mime_types().indexOf(EXEC_MIME_TYPE) == -1) {\n      register_renderer(events, OutputArea);\n    }\n  } catch(err) {\n  }\n}\n"
     },
     "metadata": {},
     "output_type": "display_data"
    },
    {
     "data": {},
     "metadata": {},
     "output_type": "display_data"
    },
    {
     "data": {
      "application/vnd.holoviews_exec.v0+json": "",
      "text/html": [
       "<div id='1031'>\n",
       "\n",
       "\n",
       "\n",
       "\n",
       "\n",
       "  <div class=\"bk-root\" id=\"7e4de507-4759-4e12-9966-265abf278914\" data-root-id=\"1031\"></div>\n",
       "</div>\n",
       "<script type=\"application/javascript\">(function(root) {\n",
       "  function embed_document(root) {\n",
       "    var docs_json = {\"093e21ff-1b3d-4fc7-8eb0-b82066f454d3\":{\"roots\":{\"references\":[{\"attributes\":{},\"id\":\"1040\",\"type\":\"Selection\"},{\"attributes\":{\"text\":\"\"},\"id\":\"1034\",\"type\":\"Title\"},{\"attributes\":{\"axis\":{\"id\":\"1011\"},\"ticker\":null},\"id\":\"1014\",\"type\":\"Grid\"},{\"attributes\":{\"active_drag\":{\"id\":\"1019\"},\"active_inspect\":\"auto\",\"active_multi\":null,\"active_scroll\":{\"id\":\"1020\"},\"active_tap\":\"auto\",\"tools\":[{\"id\":\"1019\"},{\"id\":\"1020\"},{\"id\":\"1021\"}]},\"id\":\"1022\",\"type\":\"Toolbar\"},{\"attributes\":{},\"id\":\"1041\",\"type\":\"UnionRenderers\"},{\"attributes\":{},\"id\":\"1020\",\"type\":\"WheelZoomTool\"},{\"attributes\":{\"formatter\":{\"id\":\"1039\"},\"ticker\":{\"id\":\"1012\"}},\"id\":\"1011\",\"type\":\"LinearAxis\"},{\"attributes\":{},\"id\":\"1007\",\"type\":\"LinearScale\"},{\"attributes\":{},\"id\":\"1019\",\"type\":\"PanTool\"},{\"attributes\":{},\"id\":\"1021\",\"type\":\"ResetTool\"},{\"attributes\":{\"client_comm_id\":\"58f7ff965fa7445a9c611b82dd86259b\",\"comm_id\":\"6b10075c87b14a0a857bb920fd2eb1fe\",\"plot_id\":\"1031\"},\"id\":\"1075\",\"type\":\"panel.models.comm_manager.CommManager\"},{\"attributes\":{},\"id\":\"1005\",\"type\":\"DataRange1d\"},{\"attributes\":{},\"id\":\"1009\",\"type\":\"LinearScale\"},{\"attributes\":{\"data\":{\"top\":{\"__ndarray__\":\"LRgAAIIyAAD1NQAAPEEAAFVBAAC6SAAAoFEAAPZPAAC/TAAAJ0kAAExIAADESAAAb0UAAOJAAAAVPgAA6T0AANc/AAA/PgAAxjwAANc6AACAOAAAKjUAAH80AAB1NAAA+zEAAKMvAAA8LQAAvC0AAMQsAAA6LAAAvCsAAMIoAADqJwAA8yUAAOQmAAAkJgAAgyUAAEAkAADgIgAAeCIAALIiAABLIwAALCEAAE8gAABbHQAAURwAALobAABQGwAAcRoAAHoYAACxFwAAahcAANUXAABvFwAA0BYAAMkWAADVFQAAJxUAACoTAAADEgAAlxAAAGUPAABZDgAAsA0AANcNAACLDQAAdgwAALILAAAVCwAAMgoAAJQJAABACQAAQwgAAB0IAADtCAAA4ggAAD8JAAAsCgAAZAsAAG8NAADUDQAAQA4AALENAAArDQAALA0AAMALAAAIDAAAPAsAAEgLAADiCwAAeAsAAG8KAABqCgAADQoAADoJAAC1CgAA3lcAAA==\",\"dtype\":\"int32\",\"order\":\"little\",\"shape\":[97]},\"x\":{\"__ndarray__\":\"AQAAAAIAAAADAAAABAAAAAUAAAAGAAAABwAAAAgAAAAJAAAACgAAAAsAAAAMAAAADQAAAA4AAAAPAAAAEAAAABEAAAASAAAAEwAAABQAAAAVAAAAFgAAABcAAAAYAAAAGQAAABoAAAAbAAAAHAAAAB0AAAAeAAAAHwAAACAAAAAhAAAAIgAAACMAAAAkAAAAJQAAACYAAAAnAAAAKAAAACkAAAAqAAAAKwAAACwAAAAtAAAALgAAAC8AAAAwAAAAMQAAADIAAAAzAAAANAAAADUAAAA2AAAANwAAADgAAAA5AAAAOgAAADsAAAA8AAAAPQAAAD4AAAA/AAAAQAAAAEEAAABCAAAAQwAAAEQAAABFAAAARgAAAEcAAABIAAAASQAAAEoAAABLAAAATAAAAE0AAABOAAAATwAAAFAAAABRAAAAUgAAAFMAAABUAAAAVQAAAFYAAABXAAAAWAAAAFkAAABaAAAAWwAAAFwAAABdAAAAXgAAAF8AAABgAAAAYQAAAA==\",\"dtype\":\"int32\",\"order\":\"little\",\"shape\":[97]}},\"selected\":{\"id\":\"1040\"},\"selection_policy\":{\"id\":\"1041\"}},\"id\":\"1001\",\"type\":\"ColumnDataSource\"},{\"attributes\":{},\"id\":\"1037\",\"type\":\"BasicTickFormatter\"},{\"attributes\":{\"css_classes\":[\"card-title\"],\"margin\":[2,5,2,5],\"name\":\"HTML00014\",\"sizing_mode\":\"stretch_width\",\"text\":\"MONTHS_BALANCE\"},\"id\":\"1033\",\"type\":\"panel.models.markup.HTML\"},{\"attributes\":{\"fill_alpha\":{\"value\":0.1},\"fill_color\":{\"value\":\"#1f77b4\"},\"line_alpha\":{\"value\":0.1},\"line_color\":{\"value\":\"#1f77b4\"},\"top\":{\"field\":\"top\"},\"width\":{\"value\":0.9},\"x\":{\"field\":\"x\"}},\"id\":\"1028\",\"type\":\"VBar\"},{\"attributes\":{},\"id\":\"1039\",\"type\":\"BasicTickFormatter\"},{\"attributes\":{\"axis_label\":null,\"formatter\":{\"id\":\"1037\"},\"ticker\":{\"id\":\"1016\"}},\"id\":\"1015\",\"type\":\"LinearAxis\"},{\"attributes\":{\"children\":[{\"id\":\"1033\"}],\"css_classes\":[\"card-header-row\"],\"margin\":[0,0,0,0],\"name\":\"Row00012\",\"sizing_mode\":\"stretch_width\"},\"id\":\"1032\",\"type\":\"Row\"},{\"attributes\":{},\"id\":\"1012\",\"type\":\"BasicTicker\"},{\"attributes\":{},\"id\":\"1003\",\"type\":\"DataRange1d\"},{\"attributes\":{\"below\":[{\"id\":\"1011\"}],\"center\":[{\"id\":\"1014\"},{\"id\":\"1018\"}],\"left\":[{\"id\":\"1015\"}],\"renderers\":[{\"id\":\"1029\"}],\"subscribed_events\":[\"reset\"],\"title\":{\"id\":\"1034\"},\"toolbar\":{\"id\":\"1022\"},\"x_range\":{\"id\":\"1003\"},\"x_scale\":{\"id\":\"1007\"},\"y_range\":{\"id\":\"1005\"},\"y_scale\":{\"id\":\"1009\"}},\"id\":\"1002\",\"subtype\":\"Figure\",\"type\":\"Plot\"},{\"attributes\":{\"source\":{\"id\":\"1001\"}},\"id\":\"1030\",\"type\":\"CDSView\"},{\"attributes\":{\"active_header_background\":\"\",\"button_css_classes\":[\"card-button\"],\"children\":[{\"id\":\"1032\"},{\"id\":\"1002\"},{\"id\":\"1050\"}],\"collapsed\":false,\"css_classes\":[\"card\"],\"header_background\":\"\",\"header_color\":\"\",\"header_css_classes\":[\"card-header\"],\"margin\":[5,5,5,5],\"name\":\"Card00013\",\"sizing_mode\":\"stretch_both\",\"width\":400},\"id\":\"1031\",\"type\":\"panel.models.layout.Card\"},{\"attributes\":{\"reload\":false},\"id\":\"1100\",\"type\":\"panel.models.location.Location\"},{\"attributes\":{\"data_source\":{\"id\":\"1001\"},\"glyph\":{\"id\":\"1027\"},\"hover_glyph\":null,\"muted_glyph\":null,\"nonselection_glyph\":{\"id\":\"1028\"},\"selection_glyph\":null,\"view\":{\"id\":\"1030\"}},\"id\":\"1029\",\"type\":\"GlyphRenderer\"},{\"attributes\":{\"end\":97,\"format\":\"0[.]00\",\"margin\":[5,10,5,10],\"sizing_mode\":\"scale_width\",\"start\":1,\"value\":[1,97],\"value_throttled\":[1,97],\"width\":400},\"id\":\"1050\",\"type\":\"RangeSlider\"},{\"attributes\":{\"axis\":{\"id\":\"1015\"},\"dimension\":1,\"ticker\":null},\"id\":\"1018\",\"type\":\"Grid\"},{\"attributes\":{},\"id\":\"1016\",\"type\":\"BasicTicker\"},{\"attributes\":{\"fill_color\":{\"value\":\"#1f77b4\"},\"line_color\":{\"value\":\"#1f77b4\"},\"top\":{\"field\":\"top\"},\"width\":{\"value\":0.9},\"x\":{\"field\":\"x\"}},\"id\":\"1027\",\"type\":\"VBar\"}],\"root_ids\":[\"1031\",\"1075\",\"1100\"]},\"title\":\"Bokeh Application\",\"version\":\"2.2.3\"}};\n",
       "    var render_items = [{\"docid\":\"093e21ff-1b3d-4fc7-8eb0-b82066f454d3\",\"root_ids\":[\"1031\"],\"roots\":{\"1031\":\"7e4de507-4759-4e12-9966-265abf278914\"}}];\n",
       "    root.Bokeh.embed.embed_items_notebook(docs_json, render_items);\n",
       "  }\n",
       "  if (root.Bokeh !== undefined && root.Bokeh.Panel !== undefined) {\n",
       "    embed_document(root);\n",
       "  } else {\n",
       "    var attempts = 0;\n",
       "    var timer = setInterval(function(root) {\n",
       "      if (root.Bokeh !== undefined && root.Bokeh.Panel !== undefined) {\n",
       "        clearInterval(timer);\n",
       "        embed_document(root);\n",
       "      } else if (document.readyState == \"complete\") {\n",
       "        attempts++;\n",
       "        if (attempts > 100) {\n",
       "          clearInterval(timer);\n",
       "          console.log(\"Bokeh: ERROR: Unable to run BokehJS code because BokehJS library is missing\");\n",
       "        }\n",
       "      }\n",
       "    }, 10, root)\n",
       "  }\n",
       "})(window);</script>"
      ],
      "text/plain": [
       "Card(sizing_mode='stretch_both', title='MONTHS_BALANCE', width=400)\n",
       "    [0] Bokeh(Figure)\n",
       "    [1] RangeSlider(end=97, sizing_mode='scale_width', start=1, step=1, value=(1, 97), value_throttled=(1, 97), width=400)"
      ]
     },
     "execution_count": 8,
     "metadata": {
      "application/vnd.holoviews_exec.v0+json": {
       "id": "1031"
      }
     },
     "output_type": "execute_result"
    }
   ],
   "source": [
    "# RAPIDS cuxfilter plot\n",
    "import cuxfilter\n",
    "\n",
    "cux_df = cuxfilter.DataFrame.from_dataframe(history_count)\n",
    "bar_chart_1 = cuxfilter.charts.bar('MONTHS_BALANCE')\n",
    "\n",
    "dashboard = cux_df.dashboard(charts=[bar_chart_1])\n",
    "\n",
    "bar_chart_1.view()"
   ]
  },
  {
   "cell_type": "code",
   "execution_count": 10,
   "id": "happy-workstation",
   "metadata": {},
   "outputs": [
    {
     "data": {
      "text/plain": [
       "0    0\n",
       "1    1\n",
       "2    2\n",
       "3    3\n",
       "4    4\n",
       "5    5\n",
       "6    C\n",
       "7    X\n",
       "Name: STATUS, dtype: object"
      ]
     },
     "execution_count": 10,
     "metadata": {},
     "output_type": "execute_result"
    }
   ],
   "source": [
    "bureau_balance.STATUS.unique()\n",
    "#bureau_balance[['SK_ID_BUREAU', 'STATUS']].unique()"
   ]
  },
  {
   "cell_type": "code",
   "execution_count": 11,
   "id": "built-accuracy",
   "metadata": {},
   "outputs": [
    {
     "data": {
      "text/html": [
       "<div>\n",
       "<style scoped>\n",
       "    .dataframe tbody tr th:only-of-type {\n",
       "        vertical-align: middle;\n",
       "    }\n",
       "\n",
       "    .dataframe tbody tr th {\n",
       "        vertical-align: top;\n",
       "    }\n",
       "\n",
       "    .dataframe thead th {\n",
       "        text-align: right;\n",
       "    }\n",
       "</style>\n",
       "<table border=\"1\" class=\"dataframe\">\n",
       "  <thead>\n",
       "    <tr style=\"text-align: right;\">\n",
       "      <th></th>\n",
       "      <th>SK_ID_BUREAU</th>\n",
       "      <th>MONTHS_BALANCE</th>\n",
       "      <th>STATUS</th>\n",
       "    </tr>\n",
       "  </thead>\n",
       "  <tbody>\n",
       "    <tr>\n",
       "      <th>0</th>\n",
       "      <td>5715448</td>\n",
       "      <td>0</td>\n",
       "      <td>C</td>\n",
       "    </tr>\n",
       "    <tr>\n",
       "      <th>1</th>\n",
       "      <td>5715448</td>\n",
       "      <td>-1</td>\n",
       "      <td>C</td>\n",
       "    </tr>\n",
       "    <tr>\n",
       "      <th>2</th>\n",
       "      <td>5715448</td>\n",
       "      <td>-2</td>\n",
       "      <td>C</td>\n",
       "    </tr>\n",
       "    <tr>\n",
       "      <th>3</th>\n",
       "      <td>5715448</td>\n",
       "      <td>-3</td>\n",
       "      <td>C</td>\n",
       "    </tr>\n",
       "    <tr>\n",
       "      <th>4</th>\n",
       "      <td>5715448</td>\n",
       "      <td>-4</td>\n",
       "      <td>C</td>\n",
       "    </tr>\n",
       "    <tr>\n",
       "      <th>5</th>\n",
       "      <td>5715448</td>\n",
       "      <td>-5</td>\n",
       "      <td>C</td>\n",
       "    </tr>\n",
       "    <tr>\n",
       "      <th>6</th>\n",
       "      <td>5715448</td>\n",
       "      <td>-6</td>\n",
       "      <td>C</td>\n",
       "    </tr>\n",
       "    <tr>\n",
       "      <th>7</th>\n",
       "      <td>5715448</td>\n",
       "      <td>-7</td>\n",
       "      <td>C</td>\n",
       "    </tr>\n",
       "    <tr>\n",
       "      <th>8</th>\n",
       "      <td>5715448</td>\n",
       "      <td>-8</td>\n",
       "      <td>C</td>\n",
       "    </tr>\n",
       "    <tr>\n",
       "      <th>9</th>\n",
       "      <td>5715448</td>\n",
       "      <td>-9</td>\n",
       "      <td>0</td>\n",
       "    </tr>\n",
       "    <tr>\n",
       "      <th>10</th>\n",
       "      <td>5715448</td>\n",
       "      <td>-10</td>\n",
       "      <td>0</td>\n",
       "    </tr>\n",
       "    <tr>\n",
       "      <th>11</th>\n",
       "      <td>5715448</td>\n",
       "      <td>-11</td>\n",
       "      <td>X</td>\n",
       "    </tr>\n",
       "    <tr>\n",
       "      <th>12</th>\n",
       "      <td>5715448</td>\n",
       "      <td>-12</td>\n",
       "      <td>X</td>\n",
       "    </tr>\n",
       "    <tr>\n",
       "      <th>13</th>\n",
       "      <td>5715448</td>\n",
       "      <td>-13</td>\n",
       "      <td>X</td>\n",
       "    </tr>\n",
       "    <tr>\n",
       "      <th>14</th>\n",
       "      <td>5715448</td>\n",
       "      <td>-14</td>\n",
       "      <td>0</td>\n",
       "    </tr>\n",
       "    <tr>\n",
       "      <th>15</th>\n",
       "      <td>5715448</td>\n",
       "      <td>-15</td>\n",
       "      <td>0</td>\n",
       "    </tr>\n",
       "    <tr>\n",
       "      <th>16</th>\n",
       "      <td>5715448</td>\n",
       "      <td>-16</td>\n",
       "      <td>0</td>\n",
       "    </tr>\n",
       "    <tr>\n",
       "      <th>17</th>\n",
       "      <td>5715448</td>\n",
       "      <td>-17</td>\n",
       "      <td>0</td>\n",
       "    </tr>\n",
       "    <tr>\n",
       "      <th>18</th>\n",
       "      <td>5715448</td>\n",
       "      <td>-18</td>\n",
       "      <td>0</td>\n",
       "    </tr>\n",
       "    <tr>\n",
       "      <th>19</th>\n",
       "      <td>5715448</td>\n",
       "      <td>-19</td>\n",
       "      <td>0</td>\n",
       "    </tr>\n",
       "    <tr>\n",
       "      <th>20</th>\n",
       "      <td>5715448</td>\n",
       "      <td>-20</td>\n",
       "      <td>X</td>\n",
       "    </tr>\n",
       "    <tr>\n",
       "      <th>21</th>\n",
       "      <td>5715448</td>\n",
       "      <td>-21</td>\n",
       "      <td>X</td>\n",
       "    </tr>\n",
       "    <tr>\n",
       "      <th>22</th>\n",
       "      <td>5715448</td>\n",
       "      <td>-22</td>\n",
       "      <td>X</td>\n",
       "    </tr>\n",
       "    <tr>\n",
       "      <th>23</th>\n",
       "      <td>5715448</td>\n",
       "      <td>-23</td>\n",
       "      <td>X</td>\n",
       "    </tr>\n",
       "    <tr>\n",
       "      <th>24</th>\n",
       "      <td>5715448</td>\n",
       "      <td>-24</td>\n",
       "      <td>X</td>\n",
       "    </tr>\n",
       "    <tr>\n",
       "      <th>25</th>\n",
       "      <td>5715448</td>\n",
       "      <td>-25</td>\n",
       "      <td>X</td>\n",
       "    </tr>\n",
       "    <tr>\n",
       "      <th>26</th>\n",
       "      <td>5715448</td>\n",
       "      <td>-26</td>\n",
       "      <td>X</td>\n",
       "    </tr>\n",
       "  </tbody>\n",
       "</table>\n",
       "</div>"
      ],
      "text/plain": [
       "    SK_ID_BUREAU  MONTHS_BALANCE STATUS\n",
       "0        5715448               0      C\n",
       "1        5715448              -1      C\n",
       "2        5715448              -2      C\n",
       "3        5715448              -3      C\n",
       "4        5715448              -4      C\n",
       "5        5715448              -5      C\n",
       "6        5715448              -6      C\n",
       "7        5715448              -7      C\n",
       "8        5715448              -8      C\n",
       "9        5715448              -9      0\n",
       "10       5715448             -10      0\n",
       "11       5715448             -11      X\n",
       "12       5715448             -12      X\n",
       "13       5715448             -13      X\n",
       "14       5715448             -14      0\n",
       "15       5715448             -15      0\n",
       "16       5715448             -16      0\n",
       "17       5715448             -17      0\n",
       "18       5715448             -18      0\n",
       "19       5715448             -19      0\n",
       "20       5715448             -20      X\n",
       "21       5715448             -21      X\n",
       "22       5715448             -22      X\n",
       "23       5715448             -23      X\n",
       "24       5715448             -24      X\n",
       "25       5715448             -25      X\n",
       "26       5715448             -26      X"
      ]
     },
     "execution_count": 11,
     "metadata": {},
     "output_type": "execute_result"
    }
   ],
   "source": [
    "# exploring what is in the records for one SK_ID_BUREAU number\n",
    "bureau_balance[bureau_balance['SK_ID_BUREAU']==5715448]"
   ]
  },
  {
   "cell_type": "code",
   "execution_count": 12,
   "id": "selective-symbol",
   "metadata": {},
   "outputs": [
    {
     "data": {
      "text/plain": [
       "SK_ID_BUREAU      False\n",
       "MONTHS_BALANCE    False\n",
       "STATUS            False\n",
       "dtype: bool"
      ]
     },
     "execution_count": 12,
     "metadata": {},
     "output_type": "execute_result"
    }
   ],
   "source": [
    "# check for nulls in bureau_balance\n",
    "bureau_balance.isnull().any()"
   ]
  },
  {
   "cell_type": "code",
   "execution_count": 13,
   "id": "norman-success",
   "metadata": {},
   "outputs": [],
   "source": [
    "bureau_balance.to_parquet('raw_data/bureau_balance.parquet')"
   ]
  },
  {
   "cell_type": "markdown",
   "id": "federal-korean",
   "metadata": {},
   "source": [
    "### Bureau"
   ]
  },
  {
   "cell_type": "code",
   "execution_count": 15,
   "id": "located-alabama",
   "metadata": {},
   "outputs": [],
   "source": [
    "pandas_dtypes = {'CREDIT_ACTIVE': 'category', 'CREDIT_CURRENCY': 'category'}\n",
    "\n",
    "if RAPIDS: \n",
    "    bureau_dtypes = [] # rapids doesn't accept partial dtypes\n",
    "else: \n",
    "    bureau_dtypes = pandas_dtypes \n",
    "\n",
    "bureau = xd.read_csv('data/bureau.csv',\n",
    "                    dtype=bureau_dtypes)"
   ]
  },
  {
   "cell_type": "code",
   "execution_count": 16,
   "id": "younger-shame",
   "metadata": {},
   "outputs": [
    {
     "data": {
      "text/plain": [
       "(1716428, 17)"
      ]
     },
     "execution_count": 16,
     "metadata": {},
     "output_type": "execute_result"
    }
   ],
   "source": [
    "bureau.shape"
   ]
  },
  {
   "cell_type": "code",
   "execution_count": 17,
   "id": "spectacular-smoke",
   "metadata": {},
   "outputs": [
    {
     "data": {
      "text/plain": [
       "Index(['SK_ID_CURR', 'SK_ID_BUREAU', 'CREDIT_ACTIVE', 'CREDIT_CURRENCY',\n",
       "       'DAYS_CREDIT', 'CREDIT_DAY_OVERDUE', 'DAYS_CREDIT_ENDDATE',\n",
       "       'DAYS_ENDDATE_FACT', 'AMT_CREDIT_MAX_OVERDUE', 'CNT_CREDIT_PROLONG',\n",
       "       'AMT_CREDIT_SUM', 'AMT_CREDIT_SUM_DEBT', 'AMT_CREDIT_SUM_LIMIT',\n",
       "       'AMT_CREDIT_SUM_OVERDUE', 'CREDIT_TYPE', 'DAYS_CREDIT_UPDATE',\n",
       "       'AMT_ANNUITY'],\n",
       "      dtype='object')"
      ]
     },
     "execution_count": 17,
     "metadata": {},
     "output_type": "execute_result"
    }
   ],
   "source": [
    "bureau.columns"
   ]
  },
  {
   "cell_type": "code",
   "execution_count": 18,
   "id": "sunrise-istanbul",
   "metadata": {},
   "outputs": [],
   "source": [
    "# histogram binning is not yet supported\n",
    "if not RAPIDS:\n",
    "    bureau[['SK_ID_CURR', 'SK_ID_BUREAU']].groupby('SK_ID_CURR').count().hist(bins=70)"
   ]
  },
  {
   "cell_type": "markdown",
   "id": "light-relation",
   "metadata": {},
   "source": [
    "We can see that there are loans to customers who have multiple other historical or active loans"
   ]
  },
  {
   "cell_type": "code",
   "execution_count": 19,
   "id": "uniform-wrong",
   "metadata": {},
   "outputs": [
    {
     "data": {
      "text/plain": [
       "SK_ID_CURR                  int64\n",
       "SK_ID_BUREAU                int64\n",
       "CREDIT_ACTIVE              object\n",
       "CREDIT_CURRENCY            object\n",
       "DAYS_CREDIT                 int64\n",
       "CREDIT_DAY_OVERDUE          int64\n",
       "DAYS_CREDIT_ENDDATE       float64\n",
       "DAYS_ENDDATE_FACT         float64\n",
       "AMT_CREDIT_MAX_OVERDUE    float64\n",
       "CNT_CREDIT_PROLONG          int64\n",
       "AMT_CREDIT_SUM            float64\n",
       "AMT_CREDIT_SUM_DEBT       float64\n",
       "AMT_CREDIT_SUM_LIMIT      float64\n",
       "AMT_CREDIT_SUM_OVERDUE    float64\n",
       "CREDIT_TYPE                object\n",
       "DAYS_CREDIT_UPDATE          int64\n",
       "AMT_ANNUITY               float64\n",
       "dtype: object"
      ]
     },
     "execution_count": 19,
     "metadata": {},
     "output_type": "execute_result"
    }
   ],
   "source": [
    "bureau.dtypes"
   ]
  },
  {
   "cell_type": "code",
   "execution_count": 20,
   "id": "empty-stroke",
   "metadata": {},
   "outputs": [
    {
     "data": {
      "text/plain": [
       "SK_ID_CURR                False\n",
       "SK_ID_BUREAU              False\n",
       "CREDIT_ACTIVE             False\n",
       "CREDIT_CURRENCY           False\n",
       "DAYS_CREDIT               False\n",
       "CREDIT_DAY_OVERDUE        False\n",
       "DAYS_CREDIT_ENDDATE        True\n",
       "DAYS_ENDDATE_FACT          True\n",
       "AMT_CREDIT_MAX_OVERDUE     True\n",
       "CNT_CREDIT_PROLONG        False\n",
       "AMT_CREDIT_SUM             True\n",
       "AMT_CREDIT_SUM_DEBT        True\n",
       "AMT_CREDIT_SUM_LIMIT       True\n",
       "AMT_CREDIT_SUM_OVERDUE    False\n",
       "CREDIT_TYPE               False\n",
       "DAYS_CREDIT_UPDATE        False\n",
       "AMT_ANNUITY                True\n",
       "dtype: bool"
      ]
     },
     "execution_count": 20,
     "metadata": {},
     "output_type": "execute_result"
    }
   ],
   "source": [
    "bureau.isnull().any()"
   ]
  },
  {
   "cell_type": "code",
   "execution_count": 21,
   "id": "received-madagascar",
   "metadata": {},
   "outputs": [
    {
     "data": {
      "text/plain": [
       "0          -153.0\n",
       "1          1075.0\n",
       "2           528.0\n",
       "3             0.0\n",
       "4          1197.0\n",
       "            ...  \n",
       "1716423     -30.0\n",
       "1716424   -2433.0\n",
       "1716425   -1628.0\n",
       "1716426   -1513.0\n",
       "1716427       0.0\n",
       "Name: DAYS_CREDIT_ENDDATE, Length: 1716428, dtype: float64"
      ]
     },
     "execution_count": 21,
     "metadata": {},
     "output_type": "execute_result"
    }
   ],
   "source": [
    "bureau.DAYS_CREDIT_ENDDATE.fillna(0)"
   ]
  },
  {
   "cell_type": "code",
   "execution_count": 22,
   "id": "better-bench",
   "metadata": {},
   "outputs": [],
   "source": [
    "# hist is pandas only\n",
    "if not RAPIDS:\n",
    "    bureau.AMT_ANNUITY.hist(bins=50)"
   ]
  },
  {
   "cell_type": "markdown",
   "id": "inside-tooth",
   "metadata": {},
   "source": [
    "The nulls are all in int and float columns. depending on the column there can be different explanations for the nulls. We just naively set these to zero for now "
   ]
  },
  {
   "cell_type": "code",
   "execution_count": 23,
   "id": "valued-northwest",
   "metadata": {},
   "outputs": [
    {
     "data": {
      "text/plain": [
       "0                             Another type of loan\n",
       "1                                         Car loan\n",
       "2                        Cash loan (non-earmarked)\n",
       "3                                  Consumer credit\n",
       "4                                      Credit card\n",
       "5                                 Interbank credit\n",
       "6                    Loan for business development\n",
       "7     Loan for purchase of shares (margin lending)\n",
       "8               Loan for the purchase of equipment\n",
       "9           Loan for working capital replenishment\n",
       "10                                       Microloan\n",
       "11                            Mobile operator loan\n",
       "12                                        Mortgage\n",
       "13                                Real estate loan\n",
       "14                            Unknown type of loan\n",
       "Name: CREDIT_TYPE, dtype: object"
      ]
     },
     "execution_count": 23,
     "metadata": {},
     "output_type": "execute_result"
    }
   ],
   "source": [
    "bureau.CREDIT_TYPE.unique()"
   ]
  },
  {
   "cell_type": "code",
   "execution_count": 24,
   "id": "velvet-bottle",
   "metadata": {},
   "outputs": [
    {
     "data": {
      "text/plain": [
       "0           -153.0\n",
       "1           1075.0\n",
       "2            528.0\n",
       "3             <NA>\n",
       "4           1197.0\n",
       "            ...   \n",
       "1716423      -30.0\n",
       "1716424    -2433.0\n",
       "1716425    -1628.0\n",
       "1716426    -1513.0\n",
       "1716427       <NA>\n",
       "Name: DAYS_CREDIT_ENDDATE, Length: 1716428, dtype: float64"
      ]
     },
     "execution_count": 24,
     "metadata": {},
     "output_type": "execute_result"
    }
   ],
   "source": [
    "bureau.DAYS_CREDIT_ENDDATE"
   ]
  },
  {
   "cell_type": "markdown",
   "id": "incredible-clinton",
   "metadata": {},
   "source": [
    "### Credit Card Balance"
   ]
  },
  {
   "cell_type": "code",
   "execution_count": 25,
   "id": "sealed-backing",
   "metadata": {},
   "outputs": [],
   "source": [
    "pandas_dtypes = {'NAME_CONTRACT_STATUS': 'category'}\n",
    "\n",
    "if RAPIDS: \n",
    "    cc_dtypes = [] # rapids doesn't accept partial dtypes\n",
    "else: \n",
    "    cc_dtypes = pandas_dtypes \n",
    "    \n",
    "    \n",
    "cc_balance = xd.read_csv('data/credit_card_balance.csv',\n",
    "                        dtype=cc_dtypes)"
   ]
  },
  {
   "cell_type": "code",
   "execution_count": 26,
   "id": "welcome-fusion",
   "metadata": {},
   "outputs": [
    {
     "data": {
      "text/plain": [
       "(3840312, 23)"
      ]
     },
     "execution_count": 26,
     "metadata": {},
     "output_type": "execute_result"
    }
   ],
   "source": [
    "cc_balance.shape"
   ]
  },
  {
   "cell_type": "code",
   "execution_count": 27,
   "id": "requested-premises",
   "metadata": {},
   "outputs": [
    {
     "data": {
      "text/plain": [
       "Index(['SK_ID_PREV', 'SK_ID_CURR', 'MONTHS_BALANCE', 'AMT_BALANCE',\n",
       "       'AMT_CREDIT_LIMIT_ACTUAL', 'AMT_DRAWINGS_ATM_CURRENT',\n",
       "       'AMT_DRAWINGS_CURRENT', 'AMT_DRAWINGS_OTHER_CURRENT',\n",
       "       'AMT_DRAWINGS_POS_CURRENT', 'AMT_INST_MIN_REGULARITY',\n",
       "       'AMT_PAYMENT_CURRENT', 'AMT_PAYMENT_TOTAL_CURRENT',\n",
       "       'AMT_RECEIVABLE_PRINCIPAL', 'AMT_RECIVABLE', 'AMT_TOTAL_RECEIVABLE',\n",
       "       'CNT_DRAWINGS_ATM_CURRENT', 'CNT_DRAWINGS_CURRENT',\n",
       "       'CNT_DRAWINGS_OTHER_CURRENT', 'CNT_DRAWINGS_POS_CURRENT',\n",
       "       'CNT_INSTALMENT_MATURE_CUM', 'NAME_CONTRACT_STATUS', 'SK_DPD',\n",
       "       'SK_DPD_DEF'],\n",
       "      dtype='object')"
      ]
     },
     "execution_count": 27,
     "metadata": {},
     "output_type": "execute_result"
    }
   ],
   "source": [
    "cc_balance.columns"
   ]
  },
  {
   "cell_type": "code",
   "execution_count": 28,
   "id": "integral-carter",
   "metadata": {},
   "outputs": [
    {
     "data": {
      "text/plain": [
       "SK_ID_PREV                      int64\n",
       "SK_ID_CURR                      int64\n",
       "MONTHS_BALANCE                  int64\n",
       "AMT_BALANCE                   float64\n",
       "AMT_CREDIT_LIMIT_ACTUAL         int64\n",
       "AMT_DRAWINGS_ATM_CURRENT      float64\n",
       "AMT_DRAWINGS_CURRENT          float64\n",
       "AMT_DRAWINGS_OTHER_CURRENT    float64\n",
       "AMT_DRAWINGS_POS_CURRENT      float64\n",
       "AMT_INST_MIN_REGULARITY       float64\n",
       "AMT_PAYMENT_CURRENT           float64\n",
       "AMT_PAYMENT_TOTAL_CURRENT     float64\n",
       "AMT_RECEIVABLE_PRINCIPAL      float64\n",
       "AMT_RECIVABLE                 float64\n",
       "AMT_TOTAL_RECEIVABLE          float64\n",
       "CNT_DRAWINGS_ATM_CURRENT      float64\n",
       "CNT_DRAWINGS_CURRENT            int64\n",
       "CNT_DRAWINGS_OTHER_CURRENT    float64\n",
       "CNT_DRAWINGS_POS_CURRENT      float64\n",
       "CNT_INSTALMENT_MATURE_CUM     float64\n",
       "NAME_CONTRACT_STATUS           object\n",
       "SK_DPD                          int64\n",
       "SK_DPD_DEF                      int64\n",
       "dtype: object"
      ]
     },
     "execution_count": 28,
     "metadata": {},
     "output_type": "execute_result"
    }
   ],
   "source": [
    "cc_balance.dtypes"
   ]
  },
  {
   "cell_type": "code",
   "execution_count": 29,
   "id": "united-maintenance",
   "metadata": {},
   "outputs": [
    {
     "data": {
      "text/plain": [
       "0           Active\n",
       "1         Approved\n",
       "2        Completed\n",
       "3           Demand\n",
       "4          Refused\n",
       "5    Sent proposal\n",
       "6           Signed\n",
       "Name: NAME_CONTRACT_STATUS, dtype: object"
      ]
     },
     "execution_count": 29,
     "metadata": {},
     "output_type": "execute_result"
    }
   ],
   "source": [
    "cc_balance.NAME_CONTRACT_STATUS.unique()"
   ]
  },
  {
   "cell_type": "markdown",
   "id": "temporal-james",
   "metadata": {},
   "source": [
    "## Payments"
   ]
  },
  {
   "cell_type": "code",
   "execution_count": 30,
   "id": "unsigned-think",
   "metadata": {},
   "outputs": [],
   "source": [
    "payments = xd.read_csv('data/installments_payments.csv')"
   ]
  },
  {
   "cell_type": "code",
   "execution_count": 31,
   "id": "close-surge",
   "metadata": {},
   "outputs": [
    {
     "data": {
      "text/plain": [
       "(13605401, 8)"
      ]
     },
     "execution_count": 31,
     "metadata": {},
     "output_type": "execute_result"
    }
   ],
   "source": [
    "payments.shape"
   ]
  },
  {
   "cell_type": "code",
   "execution_count": 32,
   "id": "extensive-latvia",
   "metadata": {},
   "outputs": [
    {
     "data": {
      "text/plain": [
       "Index(['SK_ID_PREV', 'SK_ID_CURR', 'NUM_INSTALMENT_VERSION',\n",
       "       'NUM_INSTALMENT_NUMBER', 'DAYS_INSTALMENT', 'DAYS_ENTRY_PAYMENT',\n",
       "       'AMT_INSTALMENT', 'AMT_PAYMENT'],\n",
       "      dtype='object')"
      ]
     },
     "execution_count": 32,
     "metadata": {},
     "output_type": "execute_result"
    }
   ],
   "source": [
    "payments.columns"
   ]
  },
  {
   "cell_type": "code",
   "execution_count": 33,
   "id": "agreed-cleaner",
   "metadata": {},
   "outputs": [
    {
     "data": {
      "text/plain": [
       "SK_ID_PREV                  int64\n",
       "SK_ID_CURR                  int64\n",
       "NUM_INSTALMENT_VERSION    float64\n",
       "NUM_INSTALMENT_NUMBER       int64\n",
       "DAYS_INSTALMENT           float64\n",
       "DAYS_ENTRY_PAYMENT        float64\n",
       "AMT_INSTALMENT            float64\n",
       "AMT_PAYMENT               float64\n",
       "dtype: object"
      ]
     },
     "execution_count": 33,
     "metadata": {},
     "output_type": "execute_result"
    }
   ],
   "source": [
    "payments.dtypes"
   ]
  },
  {
   "cell_type": "code",
   "execution_count": 34,
   "id": "occasional-booth",
   "metadata": {},
   "outputs": [
    {
     "data": {
      "text/html": [
       "<div>\n",
       "<style scoped>\n",
       "    .dataframe tbody tr th:only-of-type {\n",
       "        vertical-align: middle;\n",
       "    }\n",
       "\n",
       "    .dataframe tbody tr th {\n",
       "        vertical-align: top;\n",
       "    }\n",
       "\n",
       "    .dataframe thead th {\n",
       "        text-align: right;\n",
       "    }\n",
       "</style>\n",
       "<table border=\"1\" class=\"dataframe\">\n",
       "  <thead>\n",
       "    <tr style=\"text-align: right;\">\n",
       "      <th></th>\n",
       "      <th>SK_ID_PREV</th>\n",
       "      <th>SK_ID_CURR</th>\n",
       "      <th>NUM_INSTALMENT_VERSION</th>\n",
       "      <th>NUM_INSTALMENT_NUMBER</th>\n",
       "      <th>DAYS_INSTALMENT</th>\n",
       "      <th>DAYS_ENTRY_PAYMENT</th>\n",
       "      <th>AMT_INSTALMENT</th>\n",
       "      <th>AMT_PAYMENT</th>\n",
       "    </tr>\n",
       "  </thead>\n",
       "  <tbody>\n",
       "    <tr>\n",
       "      <th>2627835</th>\n",
       "      <td>1810518</td>\n",
       "      <td>100003</td>\n",
       "      <td>1.0</td>\n",
       "      <td>1</td>\n",
       "      <td>-716.0</td>\n",
       "      <td>-719.0</td>\n",
       "      <td>98356.995</td>\n",
       "      <td>98356.995</td>\n",
       "    </tr>\n",
       "    <tr>\n",
       "      <th>13709</th>\n",
       "      <td>1810518</td>\n",
       "      <td>100003</td>\n",
       "      <td>1.0</td>\n",
       "      <td>2</td>\n",
       "      <td>-686.0</td>\n",
       "      <td>-690.0</td>\n",
       "      <td>98356.995</td>\n",
       "      <td>98356.995</td>\n",
       "    </tr>\n",
       "    <tr>\n",
       "      <th>446588</th>\n",
       "      <td>1810518</td>\n",
       "      <td>100003</td>\n",
       "      <td>1.0</td>\n",
       "      <td>3</td>\n",
       "      <td>-656.0</td>\n",
       "      <td>-661.0</td>\n",
       "      <td>98356.995</td>\n",
       "      <td>98356.995</td>\n",
       "    </tr>\n",
       "    <tr>\n",
       "      <th>1687015</th>\n",
       "      <td>1810518</td>\n",
       "      <td>100003</td>\n",
       "      <td>1.0</td>\n",
       "      <td>4</td>\n",
       "      <td>-626.0</td>\n",
       "      <td>-629.0</td>\n",
       "      <td>98356.995</td>\n",
       "      <td>98356.995</td>\n",
       "    </tr>\n",
       "    <tr>\n",
       "      <th>1206007</th>\n",
       "      <td>1810518</td>\n",
       "      <td>100003</td>\n",
       "      <td>1.0</td>\n",
       "      <td>5</td>\n",
       "      <td>-596.0</td>\n",
       "      <td>-600.0</td>\n",
       "      <td>98356.995</td>\n",
       "      <td>98356.995</td>\n",
       "    </tr>\n",
       "    <tr>\n",
       "      <th>3421285</th>\n",
       "      <td>1810518</td>\n",
       "      <td>100003</td>\n",
       "      <td>1.0</td>\n",
       "      <td>6</td>\n",
       "      <td>-566.0</td>\n",
       "      <td>-570.0</td>\n",
       "      <td>98356.995</td>\n",
       "      <td>98356.995</td>\n",
       "    </tr>\n",
       "    <tr>\n",
       "      <th>1179410</th>\n",
       "      <td>1810518</td>\n",
       "      <td>100003</td>\n",
       "      <td>2.0</td>\n",
       "      <td>7</td>\n",
       "      <td>-536.0</td>\n",
       "      <td>-544.0</td>\n",
       "      <td>560835.360</td>\n",
       "      <td>560835.360</td>\n",
       "    </tr>\n",
       "  </tbody>\n",
       "</table>\n",
       "</div>"
      ],
      "text/plain": [
       "         SK_ID_PREV  SK_ID_CURR  NUM_INSTALMENT_VERSION  \\\n",
       "2627835     1810518      100003                     1.0   \n",
       "13709       1810518      100003                     1.0   \n",
       "446588      1810518      100003                     1.0   \n",
       "1687015     1810518      100003                     1.0   \n",
       "1206007     1810518      100003                     1.0   \n",
       "3421285     1810518      100003                     1.0   \n",
       "1179410     1810518      100003                     2.0   \n",
       "\n",
       "         NUM_INSTALMENT_NUMBER  DAYS_INSTALMENT  DAYS_ENTRY_PAYMENT  \\\n",
       "2627835                      1           -716.0              -719.0   \n",
       "13709                        2           -686.0              -690.0   \n",
       "446588                       3           -656.0              -661.0   \n",
       "1687015                      4           -626.0              -629.0   \n",
       "1206007                      5           -596.0              -600.0   \n",
       "3421285                      6           -566.0              -570.0   \n",
       "1179410                      7           -536.0              -544.0   \n",
       "\n",
       "         AMT_INSTALMENT  AMT_PAYMENT  \n",
       "2627835       98356.995    98356.995  \n",
       "13709         98356.995    98356.995  \n",
       "446588        98356.995    98356.995  \n",
       "1687015       98356.995    98356.995  \n",
       "1206007       98356.995    98356.995  \n",
       "3421285       98356.995    98356.995  \n",
       "1179410      560835.360   560835.360  "
      ]
     },
     "execution_count": 34,
     "metadata": {},
     "output_type": "execute_result"
    }
   ],
   "source": [
    "# so we can see for this one, all the AMT_INSTALMENT matched the AMT_PAYMENT\n",
    "payments[payments['SK_ID_PREV']==1810518].sort_values('NUM_INSTALMENT_NUMBER')"
   ]
  },
  {
   "cell_type": "code",
   "execution_count": 35,
   "id": "purple-conspiracy",
   "metadata": {},
   "outputs": [],
   "source": [
    "# See if there are any that aren't paid off?\n",
    "payments_v_installment = payments[['SK_ID_PREV', 'AMT_INSTALMENT', 'AMT_PAYMENT']].groupby('SK_ID_PREV').agg('sum')"
   ]
  },
  {
   "cell_type": "code",
   "execution_count": 36,
   "id": "effective-composition",
   "metadata": {},
   "outputs": [],
   "source": [
    "payments_v_installment[['AMT_UNDERPAYMENT']] = payments_v_installment['AMT_PAYMENT'] - payments_v_installment['AMT_INSTALMENT']"
   ]
  },
  {
   "cell_type": "code",
   "execution_count": 37,
   "id": "alike-virgin",
   "metadata": {},
   "outputs": [
    {
     "data": {
      "text/plain": [
       "array([[<AxesSubplot:title={'center':'AMT_UNDERPAYMENT'}>]], dtype=object)"
      ]
     },
     "execution_count": 37,
     "metadata": {},
     "output_type": "execute_result"
    },
    {
     "data": {
      "image/png": "[encoded data removed]",
      "text/plain": [
       "<Figure size 432x288 with 1 Axes>"
      ]
     },
     "metadata": {
      "needs_background": "light"
     },
     "output_type": "display_data"
    }
   ],
   "source": [
    "payments_v_installment[['AMT_UNDERPAYMENT']].to_pandas().hist(bins=200)"
   ]
  },
  {
   "cell_type": "code",
   "execution_count": 38,
   "id": "sufficient-russian",
   "metadata": {},
   "outputs": [
    {
     "data": {
      "text/plain": [
       "AMT_UNDERPAYMENT    2519.347326\n",
       "dtype: float64"
      ]
     },
     "execution_count": 38,
     "metadata": {},
     "output_type": "execute_result"
    }
   ],
   "source": [
    "payments_v_installment[['AMT_UNDERPAYMENT']].mean()"
   ]
  },
  {
   "cell_type": "code",
   "execution_count": 39,
   "id": "organic-aggregate",
   "metadata": {},
   "outputs": [
    {
     "data": {
      "text/plain": [
       "AMT_UNDERPAYMENT    3195000.0\n",
       "dtype: float64"
      ]
     },
     "execution_count": 39,
     "metadata": {},
     "output_type": "execute_result"
    }
   ],
   "source": [
    "# why do people pay more than necessary?\n",
    "payments_v_installment[['AMT_UNDERPAYMENT']].max()"
   ]
  },
  {
   "cell_type": "code",
   "execution_count": 40,
   "id": "australian-cartridge",
   "metadata": {},
   "outputs": [
    {
     "data": {
      "text/html": [
       "<div>\n",
       "<style scoped>\n",
       "    .dataframe tbody tr th:only-of-type {\n",
       "        vertical-align: middle;\n",
       "    }\n",
       "\n",
       "    .dataframe tbody tr th {\n",
       "        vertical-align: top;\n",
       "    }\n",
       "\n",
       "    .dataframe thead th {\n",
       "        text-align: right;\n",
       "    }\n",
       "</style>\n",
       "<table border=\"1\" class=\"dataframe\">\n",
       "  <thead>\n",
       "    <tr style=\"text-align: right;\">\n",
       "      <th></th>\n",
       "      <th>AMT_INSTALMENT</th>\n",
       "      <th>AMT_PAYMENT</th>\n",
       "      <th>AMT_UNDERPAYMENT</th>\n",
       "    </tr>\n",
       "    <tr>\n",
       "      <th>SK_ID_PREV</th>\n",
       "      <th></th>\n",
       "      <th></th>\n",
       "      <th></th>\n",
       "    </tr>\n",
       "  </thead>\n",
       "  <tbody>\n",
       "    <tr>\n",
       "      <th>2309583</th>\n",
       "      <td>24057.765</td>\n",
       "      <td>44307.765</td>\n",
       "      <td>20250.000</td>\n",
       "    </tr>\n",
       "    <tr>\n",
       "      <th>2633824</th>\n",
       "      <td>308487.735</td>\n",
       "      <td>465987.735</td>\n",
       "      <td>157500.000</td>\n",
       "    </tr>\n",
       "    <tr>\n",
       "      <th>1937834</th>\n",
       "      <td>482878.080</td>\n",
       "      <td>574519.815</td>\n",
       "      <td>91641.735</td>\n",
       "    </tr>\n",
       "    <tr>\n",
       "      <th>1681399</th>\n",
       "      <td>66544.515</td>\n",
       "      <td>78253.965</td>\n",
       "      <td>11709.450</td>\n",
       "    </tr>\n",
       "    <tr>\n",
       "      <th>1894309</th>\n",
       "      <td>765157.635</td>\n",
       "      <td>882781.245</td>\n",
       "      <td>117623.610</td>\n",
       "    </tr>\n",
       "  </tbody>\n",
       "</table>\n",
       "</div>"
      ],
      "text/plain": [
       "            AMT_INSTALMENT  AMT_PAYMENT  AMT_UNDERPAYMENT\n",
       "SK_ID_PREV                                               \n",
       "2309583          24057.765    44307.765         20250.000\n",
       "2633824         308487.735   465987.735        157500.000\n",
       "1937834         482878.080   574519.815         91641.735\n",
       "1681399          66544.515    78253.965         11709.450\n",
       "1894309         765157.635   882781.245        117623.610"
      ]
     },
     "execution_count": 40,
     "metadata": {},
     "output_type": "execute_result"
    }
   ],
   "source": [
    "payments_v_installment[payments_v_installment.AMT_UNDERPAYMENT>0].head()"
   ]
  },
  {
   "cell_type": "code",
   "execution_count": 41,
   "id": "weird-favorite",
   "metadata": {},
   "outputs": [
    {
     "data": {
      "text/html": [
       "<div>\n",
       "<style scoped>\n",
       "    .dataframe tbody tr th:only-of-type {\n",
       "        vertical-align: middle;\n",
       "    }\n",
       "\n",
       "    .dataframe tbody tr th {\n",
       "        vertical-align: top;\n",
       "    }\n",
       "\n",
       "    .dataframe thead th {\n",
       "        text-align: right;\n",
       "    }\n",
       "</style>\n",
       "<table border=\"1\" class=\"dataframe\">\n",
       "  <thead>\n",
       "    <tr style=\"text-align: right;\">\n",
       "      <th></th>\n",
       "      <th>SK_ID_PREV</th>\n",
       "      <th>SK_ID_CURR</th>\n",
       "      <th>NUM_INSTALMENT_VERSION</th>\n",
       "      <th>NUM_INSTALMENT_NUMBER</th>\n",
       "      <th>DAYS_INSTALMENT</th>\n",
       "      <th>DAYS_ENTRY_PAYMENT</th>\n",
       "      <th>AMT_INSTALMENT</th>\n",
       "      <th>AMT_PAYMENT</th>\n",
       "    </tr>\n",
       "  </thead>\n",
       "  <tbody>\n",
       "    <tr>\n",
       "      <th>11145330</th>\n",
       "      <td>2309583</td>\n",
       "      <td>335116</td>\n",
       "      <td>1.0</td>\n",
       "      <td>1</td>\n",
       "      <td>-300.0</td>\n",
       "      <td>-327.0</td>\n",
       "      <td>4125.330</td>\n",
       "      <td>9000.000</td>\n",
       "    </tr>\n",
       "    <tr>\n",
       "      <th>11145329</th>\n",
       "      <td>2309583</td>\n",
       "      <td>335116</td>\n",
       "      <td>2.0</td>\n",
       "      <td>1</td>\n",
       "      <td>-300.0</td>\n",
       "      <td>-327.0</td>\n",
       "      <td>4874.670</td>\n",
       "      <td>9000.000</td>\n",
       "    </tr>\n",
       "    <tr>\n",
       "      <th>10361297</th>\n",
       "      <td>2309583</td>\n",
       "      <td>335116</td>\n",
       "      <td>3.0</td>\n",
       "      <td>2</td>\n",
       "      <td>-270.0</td>\n",
       "      <td>-296.0</td>\n",
       "      <td>3100.500</td>\n",
       "      <td>11250.000</td>\n",
       "    </tr>\n",
       "    <tr>\n",
       "      <th>10361298</th>\n",
       "      <td>2309583</td>\n",
       "      <td>335116</td>\n",
       "      <td>4.0</td>\n",
       "      <td>2</td>\n",
       "      <td>-270.0</td>\n",
       "      <td>-296.0</td>\n",
       "      <td>8149.500</td>\n",
       "      <td>11250.000</td>\n",
       "    </tr>\n",
       "    <tr>\n",
       "      <th>8197769</th>\n",
       "      <td>2309583</td>\n",
       "      <td>335116</td>\n",
       "      <td>6.0</td>\n",
       "      <td>3</td>\n",
       "      <td>-240.0</td>\n",
       "      <td>-261.0</td>\n",
       "      <td>3807.765</td>\n",
       "      <td>3807.765</td>\n",
       "    </tr>\n",
       "  </tbody>\n",
       "</table>\n",
       "</div>"
      ],
      "text/plain": [
       "          SK_ID_PREV  SK_ID_CURR  NUM_INSTALMENT_VERSION  \\\n",
       "11145330     2309583      335116                     1.0   \n",
       "11145329     2309583      335116                     2.0   \n",
       "10361297     2309583      335116                     3.0   \n",
       "10361298     2309583      335116                     4.0   \n",
       "8197769      2309583      335116                     6.0   \n",
       "\n",
       "          NUM_INSTALMENT_NUMBER  DAYS_INSTALMENT  DAYS_ENTRY_PAYMENT  \\\n",
       "11145330                      1           -300.0              -327.0   \n",
       "11145329                      1           -300.0              -327.0   \n",
       "10361297                      2           -270.0              -296.0   \n",
       "10361298                      2           -270.0              -296.0   \n",
       "8197769                       3           -240.0              -261.0   \n",
       "\n",
       "          AMT_INSTALMENT  AMT_PAYMENT  \n",
       "11145330        4125.330     9000.000  \n",
       "11145329        4874.670     9000.000  \n",
       "10361297        3100.500    11250.000  \n",
       "10361298        8149.500    11250.000  \n",
       "8197769         3807.765     3807.765  "
      ]
     },
     "execution_count": 41,
     "metadata": {},
     "output_type": "execute_result"
    }
   ],
   "source": [
    "payments[payments.SK_ID_PREV==2309583].sort_values('NUM_INSTALMENT_VERSION')"
   ]
  },
  {
   "cell_type": "markdown",
   "id": "ruled-thousand",
   "metadata": {},
   "source": [
    "For the above case what I suspect is happening is that the customer has 6 installments. (NUM_INSTASLMENT_VERSION)\n",
    "They paid it off in three payments (NUM_INSTALMENT_NUMBER). The computer is probably recording the AMT_PAYMENT wrong as for INSTALMENT_VERSION 1.0/2.0 the AMT_INSTALMENT sums to 9000 which matches up with one of the AMT_PAYMENTS"
   ]
  },
  {
   "cell_type": "code",
   "execution_count": 42,
   "id": "incorporate-order",
   "metadata": {},
   "outputs": [
    {
     "data": {
      "text/html": [
       "<div>\n",
       "<style scoped>\n",
       "    .dataframe tbody tr th:only-of-type {\n",
       "        vertical-align: middle;\n",
       "    }\n",
       "\n",
       "    .dataframe tbody tr th {\n",
       "        vertical-align: top;\n",
       "    }\n",
       "\n",
       "    .dataframe thead th {\n",
       "        text-align: right;\n",
       "    }\n",
       "</style>\n",
       "<table border=\"1\" class=\"dataframe\">\n",
       "  <thead>\n",
       "    <tr style=\"text-align: right;\">\n",
       "      <th></th>\n",
       "      <th>SK_ID_PREV</th>\n",
       "      <th>SK_ID_CURR</th>\n",
       "      <th>NUM_INSTALMENT_VERSION</th>\n",
       "      <th>NUM_INSTALMENT_NUMBER</th>\n",
       "      <th>DAYS_INSTALMENT</th>\n",
       "      <th>DAYS_ENTRY_PAYMENT</th>\n",
       "      <th>AMT_INSTALMENT</th>\n",
       "      <th>AMT_PAYMENT</th>\n",
       "    </tr>\n",
       "  </thead>\n",
       "  <tbody>\n",
       "    <tr>\n",
       "      <th>1559540</th>\n",
       "      <td>1681399</td>\n",
       "      <td>171782</td>\n",
       "      <td>1.0</td>\n",
       "      <td>1</td>\n",
       "      <td>-713.0</td>\n",
       "      <td>-723.0</td>\n",
       "      <td>6843.555</td>\n",
       "      <td>6843.555</td>\n",
       "    </tr>\n",
       "    <tr>\n",
       "      <th>1039176</th>\n",
       "      <td>1681399</td>\n",
       "      <td>171782</td>\n",
       "      <td>1.0</td>\n",
       "      <td>2</td>\n",
       "      <td>-683.0</td>\n",
       "      <td>-698.0</td>\n",
       "      <td>6843.555</td>\n",
       "      <td>6843.555</td>\n",
       "    </tr>\n",
       "    <tr>\n",
       "      <th>511738</th>\n",
       "      <td>1681399</td>\n",
       "      <td>171782</td>\n",
       "      <td>1.0</td>\n",
       "      <td>3</td>\n",
       "      <td>-653.0</td>\n",
       "      <td>-670.0</td>\n",
       "      <td>6843.555</td>\n",
       "      <td>6843.555</td>\n",
       "    </tr>\n",
       "    <tr>\n",
       "      <th>1645212</th>\n",
       "      <td>1681399</td>\n",
       "      <td>171782</td>\n",
       "      <td>1.0</td>\n",
       "      <td>4</td>\n",
       "      <td>-623.0</td>\n",
       "      <td>-639.0</td>\n",
       "      <td>6843.555</td>\n",
       "      <td>11709.450</td>\n",
       "    </tr>\n",
       "    <tr>\n",
       "      <th>1645213</th>\n",
       "      <td>1681399</td>\n",
       "      <td>171782</td>\n",
       "      <td>2.0</td>\n",
       "      <td>4</td>\n",
       "      <td>-623.0</td>\n",
       "      <td>-639.0</td>\n",
       "      <td>4865.895</td>\n",
       "      <td>11709.450</td>\n",
       "    </tr>\n",
       "    <tr>\n",
       "      <th>2951701</th>\n",
       "      <td>1681399</td>\n",
       "      <td>171782</td>\n",
       "      <td>3.0</td>\n",
       "      <td>5</td>\n",
       "      <td>-593.0</td>\n",
       "      <td>-606.0</td>\n",
       "      <td>5923.890</td>\n",
       "      <td>5923.890</td>\n",
       "    </tr>\n",
       "    <tr>\n",
       "      <th>881169</th>\n",
       "      <td>1681399</td>\n",
       "      <td>171782</td>\n",
       "      <td>3.0</td>\n",
       "      <td>6</td>\n",
       "      <td>-563.0</td>\n",
       "      <td>-580.0</td>\n",
       "      <td>5923.890</td>\n",
       "      <td>5923.890</td>\n",
       "    </tr>\n",
       "    <tr>\n",
       "      <th>1427038</th>\n",
       "      <td>1681399</td>\n",
       "      <td>171782</td>\n",
       "      <td>4.0</td>\n",
       "      <td>7</td>\n",
       "      <td>-533.0</td>\n",
       "      <td>-550.0</td>\n",
       "      <td>22456.620</td>\n",
       "      <td>22456.620</td>\n",
       "    </tr>\n",
       "  </tbody>\n",
       "</table>\n",
       "</div>"
      ],
      "text/plain": [
       "         SK_ID_PREV  SK_ID_CURR  NUM_INSTALMENT_VERSION  \\\n",
       "1559540     1681399      171782                     1.0   \n",
       "1039176     1681399      171782                     1.0   \n",
       "511738      1681399      171782                     1.0   \n",
       "1645212     1681399      171782                     1.0   \n",
       "1645213     1681399      171782                     2.0   \n",
       "2951701     1681399      171782                     3.0   \n",
       "881169      1681399      171782                     3.0   \n",
       "1427038     1681399      171782                     4.0   \n",
       "\n",
       "         NUM_INSTALMENT_NUMBER  DAYS_INSTALMENT  DAYS_ENTRY_PAYMENT  \\\n",
       "1559540                      1           -713.0              -723.0   \n",
       "1039176                      2           -683.0              -698.0   \n",
       "511738                       3           -653.0              -670.0   \n",
       "1645212                      4           -623.0              -639.0   \n",
       "1645213                      4           -623.0              -639.0   \n",
       "2951701                      5           -593.0              -606.0   \n",
       "881169                       6           -563.0              -580.0   \n",
       "1427038                      7           -533.0              -550.0   \n",
       "\n",
       "         AMT_INSTALMENT  AMT_PAYMENT  \n",
       "1559540        6843.555     6843.555  \n",
       "1039176        6843.555     6843.555  \n",
       "511738         6843.555     6843.555  \n",
       "1645212        6843.555    11709.450  \n",
       "1645213        4865.895    11709.450  \n",
       "2951701        5923.890     5923.890  \n",
       "881169         5923.890     5923.890  \n",
       "1427038       22456.620    22456.620  "
      ]
     },
     "execution_count": 42,
     "metadata": {},
     "output_type": "execute_result"
    }
   ],
   "source": [
    "# check another\n",
    "# okay we can have the other way around where the first instalment was paid off in 4 days...\n",
    "payments[payments.SK_ID_PREV==1681399].sort_values('NUM_INSTALMENT_VERSION').sort_values('DAYS_INSTALMENT')\n"
   ]
  },
  {
   "cell_type": "code",
   "execution_count": 43,
   "id": "protected-alabama",
   "metadata": {},
   "outputs": [
    {
     "data": {
      "text/plain": [
       "AMT_UNDERPAYMENT   -2602348.965\n",
       "dtype: float64"
      ]
     },
     "execution_count": 43,
     "metadata": {},
     "output_type": "execute_result"
    }
   ],
   "source": [
    "# Negative means that we paid less than required\n",
    "payments_v_installment[['AMT_UNDERPAYMENT']].min()"
   ]
  },
  {
   "cell_type": "code",
   "execution_count": 44,
   "id": "painted-tractor",
   "metadata": {},
   "outputs": [
    {
     "data": {
      "text/html": [
       "<div>\n",
       "<style scoped>\n",
       "    .dataframe tbody tr th:only-of-type {\n",
       "        vertical-align: middle;\n",
       "    }\n",
       "\n",
       "    .dataframe tbody tr th {\n",
       "        vertical-align: top;\n",
       "    }\n",
       "\n",
       "    .dataframe thead th {\n",
       "        text-align: right;\n",
       "    }\n",
       "</style>\n",
       "<table border=\"1\" class=\"dataframe\">\n",
       "  <thead>\n",
       "    <tr style=\"text-align: right;\">\n",
       "      <th></th>\n",
       "      <th>SK_ID_PREV</th>\n",
       "      <th>AMT_INSTALMENT</th>\n",
       "      <th>AMT_PAYMENT</th>\n",
       "    </tr>\n",
       "  </thead>\n",
       "  <tbody>\n",
       "    <tr>\n",
       "      <th>0</th>\n",
       "      <td>1054186</td>\n",
       "      <td>6948.360</td>\n",
       "      <td>6948.360</td>\n",
       "    </tr>\n",
       "    <tr>\n",
       "      <th>1</th>\n",
       "      <td>1330831</td>\n",
       "      <td>1716.525</td>\n",
       "      <td>1716.525</td>\n",
       "    </tr>\n",
       "    <tr>\n",
       "      <th>2</th>\n",
       "      <td>2085231</td>\n",
       "      <td>25425.000</td>\n",
       "      <td>25425.000</td>\n",
       "    </tr>\n",
       "    <tr>\n",
       "      <th>3</th>\n",
       "      <td>2452527</td>\n",
       "      <td>24350.130</td>\n",
       "      <td>24350.130</td>\n",
       "    </tr>\n",
       "    <tr>\n",
       "      <th>4</th>\n",
       "      <td>2714724</td>\n",
       "      <td>2165.040</td>\n",
       "      <td>2160.585</td>\n",
       "    </tr>\n",
       "    <tr>\n",
       "      <th>...</th>\n",
       "      <td>...</td>\n",
       "      <td>...</td>\n",
       "      <td>...</td>\n",
       "    </tr>\n",
       "    <tr>\n",
       "      <th>13605344</th>\n",
       "      <td>2006721</td>\n",
       "      <td>2934.225</td>\n",
       "      <td>2934.225</td>\n",
       "    </tr>\n",
       "    <tr>\n",
       "      <th>13605345</th>\n",
       "      <td>1126000</td>\n",
       "      <td>6793.470</td>\n",
       "      <td>6750.000</td>\n",
       "    </tr>\n",
       "    <tr>\n",
       "      <th>13605346</th>\n",
       "      <td>1519070</td>\n",
       "      <td>4363.830</td>\n",
       "      <td>4363.830</td>\n",
       "    </tr>\n",
       "    <tr>\n",
       "      <th>13605347</th>\n",
       "      <td>2784672</td>\n",
       "      <td>373.005</td>\n",
       "      <td>373.005</td>\n",
       "    </tr>\n",
       "    <tr>\n",
       "      <th>13605348</th>\n",
       "      <td>2653119</td>\n",
       "      <td>12503.385</td>\n",
       "      <td>12503.385</td>\n",
       "    </tr>\n",
       "  </tbody>\n",
       "</table>\n",
       "<p>13601056 rows × 3 columns</p>\n",
       "</div>"
      ],
      "text/plain": [
       "          SK_ID_PREV  AMT_INSTALMENT  AMT_PAYMENT\n",
       "0            1054186        6948.360     6948.360\n",
       "1            1330831        1716.525     1716.525\n",
       "2            2085231       25425.000    25425.000\n",
       "3            2452527       24350.130    24350.130\n",
       "4            2714724        2165.040     2160.585\n",
       "...              ...             ...          ...\n",
       "13605344     2006721        2934.225     2934.225\n",
       "13605345     1126000        6793.470     6750.000\n",
       "13605346     1519070        4363.830     4363.830\n",
       "13605347     2784672         373.005      373.005\n",
       "13605348     2653119       12503.385    12503.385\n",
       "\n",
       "[13601056 rows x 3 columns]"
      ]
     },
     "execution_count": 44,
     "metadata": {},
     "output_type": "execute_result"
    }
   ],
   "source": [
    "payments[payments['AMT_PAYMENT']>0][['SK_ID_PREV', 'AMT_INSTALMENT', 'AMT_PAYMENT']]"
   ]
  },
  {
   "cell_type": "markdown",
   "id": "competitive-issue",
   "metadata": {},
   "source": [
    "#### Attempt to fix up the AMTs in the installment payment data"
   ]
  },
  {
   "cell_type": "code",
   "execution_count": 45,
   "id": "oriented-clone",
   "metadata": {},
   "outputs": [],
   "source": [
    "# lets just check hypothesis once more...\n",
    "# split into payments and instalments\n",
    "# with days late of early"
   ]
  },
  {
   "cell_type": "code",
   "execution_count": 46,
   "id": "attached-friend",
   "metadata": {},
   "outputs": [],
   "source": [
    "due_instalments = payments[['SK_ID_PREV', 'NUM_INSTALMENT_VERSION', 'DAYS_INSTALMENT', 'AMT_INSTALMENT']].drop_duplicates()\n",
    "instalment_payments = payments[['SK_ID_PREV', 'NUM_INSTALMENT_NUMBER', 'DAYS_ENTRY_PAYMENT', 'AMT_PAYMENT']].drop_duplicates()"
   ]
  },
  {
   "cell_type": "code",
   "execution_count": 47,
   "id": "decreased-toolbox",
   "metadata": {},
   "outputs": [],
   "source": [
    "Total_AMT = due_instalments[['SK_ID_PREV', 'AMT_INSTALMENT']].groupby('SK_ID_PREV').agg('sum')"
   ]
  },
  {
   "cell_type": "code",
   "execution_count": 48,
   "id": "informal-neighborhood",
   "metadata": {},
   "outputs": [],
   "source": [
    "Total_Payments = instalment_payments[['SK_ID_PREV', 'AMT_PAYMENT']].groupby('SK_ID_PREV').agg('sum')"
   ]
  },
  {
   "cell_type": "code",
   "execution_count": 49,
   "id": "independent-formation",
   "metadata": {},
   "outputs": [],
   "source": [
    "prev_loan_payments = Total_AMT.join(Total_Payments)\n",
    "prev_loan_payments['AMT_UNDERPAYMENT'] = prev_loan_payments['AMT_PAYMENT'] - prev_loan_payments['AMT_INSTALMENT'] "
   ]
  },
  {
   "cell_type": "code",
   "execution_count": 50,
   "id": "popular-attachment",
   "metadata": {},
   "outputs": [
    {
     "data": {
      "text/html": [
       "<div>\n",
       "<style scoped>\n",
       "    .dataframe tbody tr th:only-of-type {\n",
       "        vertical-align: middle;\n",
       "    }\n",
       "\n",
       "    .dataframe tbody tr th {\n",
       "        vertical-align: top;\n",
       "    }\n",
       "\n",
       "    .dataframe thead th {\n",
       "        text-align: right;\n",
       "    }\n",
       "</style>\n",
       "<table border=\"1\" class=\"dataframe\">\n",
       "  <thead>\n",
       "    <tr style=\"text-align: right;\">\n",
       "      <th></th>\n",
       "      <th>AMT_INSTALMENT</th>\n",
       "      <th>AMT_PAYMENT</th>\n",
       "      <th>AMT_UNDERPAYMENT</th>\n",
       "    </tr>\n",
       "    <tr>\n",
       "      <th>SK_ID_PREV</th>\n",
       "      <th></th>\n",
       "      <th></th>\n",
       "      <th></th>\n",
       "    </tr>\n",
       "  </thead>\n",
       "  <tbody>\n",
       "    <tr>\n",
       "      <th>2198508</th>\n",
       "      <td>501814.800</td>\n",
       "      <td>501814.800</td>\n",
       "      <td>5.820766e-11</td>\n",
       "    </tr>\n",
       "    <tr>\n",
       "      <th>1412244</th>\n",
       "      <td>175981.140</td>\n",
       "      <td>175981.140</td>\n",
       "      <td>0.000000e+00</td>\n",
       "    </tr>\n",
       "    <tr>\n",
       "      <th>2022458</th>\n",
       "      <td>190857.960</td>\n",
       "      <td>190857.960</td>\n",
       "      <td>-2.910383e-11</td>\n",
       "    </tr>\n",
       "    <tr>\n",
       "      <th>1721039</th>\n",
       "      <td>92958.930</td>\n",
       "      <td>92958.930</td>\n",
       "      <td>1.455192e-11</td>\n",
       "    </tr>\n",
       "    <tr>\n",
       "      <th>1386444</th>\n",
       "      <td>948753.720</td>\n",
       "      <td>948753.720</td>\n",
       "      <td>0.000000e+00</td>\n",
       "    </tr>\n",
       "    <tr>\n",
       "      <th>1884899</th>\n",
       "      <td>119269.980</td>\n",
       "      <td>119269.980</td>\n",
       "      <td>0.000000e+00</td>\n",
       "    </tr>\n",
       "    <tr>\n",
       "      <th>2247428</th>\n",
       "      <td>642824.730</td>\n",
       "      <td>642824.730</td>\n",
       "      <td>0.000000e+00</td>\n",
       "    </tr>\n",
       "    <tr>\n",
       "      <th>2270515</th>\n",
       "      <td>54168.525</td>\n",
       "      <td>54168.525</td>\n",
       "      <td>0.000000e+00</td>\n",
       "    </tr>\n",
       "    <tr>\n",
       "      <th>1916031</th>\n",
       "      <td>84955.815</td>\n",
       "      <td>84955.815</td>\n",
       "      <td>-1.455192e-11</td>\n",
       "    </tr>\n",
       "    <tr>\n",
       "      <th>2262502</th>\n",
       "      <td>32482.350</td>\n",
       "      <td>32482.350</td>\n",
       "      <td>0.000000e+00</td>\n",
       "    </tr>\n",
       "  </tbody>\n",
       "</table>\n",
       "</div>"
      ],
      "text/plain": [
       "            AMT_INSTALMENT  AMT_PAYMENT  AMT_UNDERPAYMENT\n",
       "SK_ID_PREV                                               \n",
       "2198508         501814.800   501814.800      5.820766e-11\n",
       "1412244         175981.140   175981.140      0.000000e+00\n",
       "2022458         190857.960   190857.960     -2.910383e-11\n",
       "1721039          92958.930    92958.930      1.455192e-11\n",
       "1386444         948753.720   948753.720      0.000000e+00\n",
       "1884899         119269.980   119269.980      0.000000e+00\n",
       "2247428         642824.730   642824.730      0.000000e+00\n",
       "2270515          54168.525    54168.525      0.000000e+00\n",
       "1916031          84955.815    84955.815     -1.455192e-11\n",
       "2262502          32482.350    32482.350      0.000000e+00"
      ]
     },
     "execution_count": 50,
     "metadata": {},
     "output_type": "execute_result"
    }
   ],
   "source": [
    "prev_loan_payments.head(10)"
   ]
  },
  {
   "cell_type": "code",
   "execution_count": 51,
   "id": "equal-isaac",
   "metadata": {},
   "outputs": [
    {
     "data": {
      "text/html": [
       "<div>\n",
       "<style scoped>\n",
       "    .dataframe tbody tr th:only-of-type {\n",
       "        vertical-align: middle;\n",
       "    }\n",
       "\n",
       "    .dataframe tbody tr th {\n",
       "        vertical-align: top;\n",
       "    }\n",
       "\n",
       "    .dataframe thead th {\n",
       "        text-align: right;\n",
       "    }\n",
       "</style>\n",
       "<table border=\"1\" class=\"dataframe\">\n",
       "  <thead>\n",
       "    <tr style=\"text-align: right;\">\n",
       "      <th></th>\n",
       "      <th>AMT_INSTALMENT</th>\n",
       "      <th>AMT_PAYMENT</th>\n",
       "      <th>AMT_UNDERPAYMENT</th>\n",
       "    </tr>\n",
       "    <tr>\n",
       "      <th>SK_ID_PREV</th>\n",
       "      <th></th>\n",
       "      <th></th>\n",
       "      <th></th>\n",
       "    </tr>\n",
       "  </thead>\n",
       "  <tbody>\n",
       "    <tr>\n",
       "      <th>2239408</th>\n",
       "      <td>0.00</td>\n",
       "      <td>150239.430</td>\n",
       "      <td>150239.430</td>\n",
       "    </tr>\n",
       "    <tr>\n",
       "      <th>1877030</th>\n",
       "      <td>526902.57</td>\n",
       "      <td>2546344.215</td>\n",
       "      <td>2019441.645</td>\n",
       "    </tr>\n",
       "    <tr>\n",
       "      <th>2311125</th>\n",
       "      <td>0.00</td>\n",
       "      <td>2483614.170</td>\n",
       "      <td>2483614.170</td>\n",
       "    </tr>\n",
       "    <tr>\n",
       "      <th>1686655</th>\n",
       "      <td>130500.00</td>\n",
       "      <td>261000.000</td>\n",
       "      <td>130500.000</td>\n",
       "    </tr>\n",
       "    <tr>\n",
       "      <th>1922028</th>\n",
       "      <td>211500.00</td>\n",
       "      <td>423000.000</td>\n",
       "      <td>211500.000</td>\n",
       "    </tr>\n",
       "    <tr>\n",
       "      <th>2060229</th>\n",
       "      <td>0.00</td>\n",
       "      <td>818842.500</td>\n",
       "      <td>818842.500</td>\n",
       "    </tr>\n",
       "    <tr>\n",
       "      <th>1994625</th>\n",
       "      <td>211500.00</td>\n",
       "      <td>423000.000</td>\n",
       "      <td>211500.000</td>\n",
       "    </tr>\n",
       "    <tr>\n",
       "      <th>1822101</th>\n",
       "      <td>0.00</td>\n",
       "      <td>137053.710</td>\n",
       "      <td>137053.710</td>\n",
       "    </tr>\n",
       "    <tr>\n",
       "      <th>1739888</th>\n",
       "      <td>270000.00</td>\n",
       "      <td>540000.000</td>\n",
       "      <td>270000.000</td>\n",
       "    </tr>\n",
       "    <tr>\n",
       "      <th>2780277</th>\n",
       "      <td>306892.80</td>\n",
       "      <td>594892.800</td>\n",
       "      <td>288000.000</td>\n",
       "    </tr>\n",
       "    <tr>\n",
       "      <th>2131480</th>\n",
       "      <td>112500.00</td>\n",
       "      <td>225000.000</td>\n",
       "      <td>112500.000</td>\n",
       "    </tr>\n",
       "    <tr>\n",
       "      <th>1358859</th>\n",
       "      <td>243000.00</td>\n",
       "      <td>486000.000</td>\n",
       "      <td>243000.000</td>\n",
       "    </tr>\n",
       "    <tr>\n",
       "      <th>2760417</th>\n",
       "      <td>135000.00</td>\n",
       "      <td>270000.000</td>\n",
       "      <td>135000.000</td>\n",
       "    </tr>\n",
       "    <tr>\n",
       "      <th>1071426</th>\n",
       "      <td>0.00</td>\n",
       "      <td>191550.825</td>\n",
       "      <td>191550.825</td>\n",
       "    </tr>\n",
       "    <tr>\n",
       "      <th>2570901</th>\n",
       "      <td>1022302.89</td>\n",
       "      <td>1186552.890</td>\n",
       "      <td>164250.000</td>\n",
       "    </tr>\n",
       "    <tr>\n",
       "      <th>1169215</th>\n",
       "      <td>238500.00</td>\n",
       "      <td>477000.000</td>\n",
       "      <td>238500.000</td>\n",
       "    </tr>\n",
       "  </tbody>\n",
       "</table>\n",
       "</div>"
      ],
      "text/plain": [
       "            AMT_INSTALMENT  AMT_PAYMENT  AMT_UNDERPAYMENT\n",
       "SK_ID_PREV                                               \n",
       "2239408               0.00   150239.430        150239.430\n",
       "1877030          526902.57  2546344.215       2019441.645\n",
       "2311125               0.00  2483614.170       2483614.170\n",
       "1686655          130500.00   261000.000        130500.000\n",
       "1922028          211500.00   423000.000        211500.000\n",
       "2060229               0.00   818842.500        818842.500\n",
       "1994625          211500.00   423000.000        211500.000\n",
       "1822101               0.00   137053.710        137053.710\n",
       "1739888          270000.00   540000.000        270000.000\n",
       "2780277          306892.80   594892.800        288000.000\n",
       "2131480          112500.00   225000.000        112500.000\n",
       "1358859          243000.00   486000.000        243000.000\n",
       "2760417          135000.00   270000.000        135000.000\n",
       "1071426               0.00   191550.825        191550.825\n",
       "2570901         1022302.89  1186552.890        164250.000\n",
       "1169215          238500.00   477000.000        238500.000"
      ]
     },
     "execution_count": 51,
     "metadata": {},
     "output_type": "execute_result"
    }
   ],
   "source": [
    "# this is a bit weird....\n",
    "prev_loan_payments[prev_loan_payments['AMT_UNDERPAYMENT'] >= 100000]"
   ]
  },
  {
   "cell_type": "code",
   "execution_count": 52,
   "id": "significant-court",
   "metadata": {},
   "outputs": [
    {
     "data": {
      "text/html": [
       "<div>\n",
       "<style scoped>\n",
       "    .dataframe tbody tr th:only-of-type {\n",
       "        vertical-align: middle;\n",
       "    }\n",
       "\n",
       "    .dataframe tbody tr th {\n",
       "        vertical-align: top;\n",
       "    }\n",
       "\n",
       "    .dataframe thead th {\n",
       "        text-align: right;\n",
       "    }\n",
       "</style>\n",
       "<table border=\"1\" class=\"dataframe\">\n",
       "  <thead>\n",
       "    <tr style=\"text-align: right;\">\n",
       "      <th></th>\n",
       "      <th>SK_ID_PREV</th>\n",
       "      <th>SK_ID_CURR</th>\n",
       "      <th>NUM_INSTALMENT_VERSION</th>\n",
       "      <th>NUM_INSTALMENT_NUMBER</th>\n",
       "      <th>DAYS_INSTALMENT</th>\n",
       "      <th>DAYS_ENTRY_PAYMENT</th>\n",
       "      <th>AMT_INSTALMENT</th>\n",
       "      <th>AMT_PAYMENT</th>\n",
       "    </tr>\n",
       "  </thead>\n",
       "  <tbody>\n",
       "    <tr>\n",
       "      <th>8756567</th>\n",
       "      <td>2239408</td>\n",
       "      <td>373540</td>\n",
       "      <td>1.0</td>\n",
       "      <td>1</td>\n",
       "      <td>-2293.0</td>\n",
       "      <td>-2316.0</td>\n",
       "      <td>0.0</td>\n",
       "      <td>12531.465</td>\n",
       "    </tr>\n",
       "    <tr>\n",
       "      <th>9263493</th>\n",
       "      <td>2239408</td>\n",
       "      <td>373540</td>\n",
       "      <td>1.0</td>\n",
       "      <td>2</td>\n",
       "      <td>-2263.0</td>\n",
       "      <td>-2287.0</td>\n",
       "      <td>0.0</td>\n",
       "      <td>12531.465</td>\n",
       "    </tr>\n",
       "    <tr>\n",
       "      <th>11079092</th>\n",
       "      <td>2239408</td>\n",
       "      <td>373540</td>\n",
       "      <td>1.0</td>\n",
       "      <td>3</td>\n",
       "      <td>-2233.0</td>\n",
       "      <td>-2255.0</td>\n",
       "      <td>0.0</td>\n",
       "      <td>12531.465</td>\n",
       "    </tr>\n",
       "    <tr>\n",
       "      <th>9740239</th>\n",
       "      <td>2239408</td>\n",
       "      <td>373540</td>\n",
       "      <td>1.0</td>\n",
       "      <td>4</td>\n",
       "      <td>-2203.0</td>\n",
       "      <td>-2220.0</td>\n",
       "      <td>0.0</td>\n",
       "      <td>12531.465</td>\n",
       "    </tr>\n",
       "    <tr>\n",
       "      <th>8637498</th>\n",
       "      <td>2239408</td>\n",
       "      <td>373540</td>\n",
       "      <td>1.0</td>\n",
       "      <td>5</td>\n",
       "      <td>-2173.0</td>\n",
       "      <td>-2197.0</td>\n",
       "      <td>0.0</td>\n",
       "      <td>12531.465</td>\n",
       "    </tr>\n",
       "    <tr>\n",
       "      <th>7731343</th>\n",
       "      <td>2239408</td>\n",
       "      <td>373540</td>\n",
       "      <td>1.0</td>\n",
       "      <td>6</td>\n",
       "      <td>-2143.0</td>\n",
       "      <td>-2162.0</td>\n",
       "      <td>0.0</td>\n",
       "      <td>12531.465</td>\n",
       "    </tr>\n",
       "    <tr>\n",
       "      <th>9122464</th>\n",
       "      <td>2239408</td>\n",
       "      <td>373540</td>\n",
       "      <td>1.0</td>\n",
       "      <td>7</td>\n",
       "      <td>-2113.0</td>\n",
       "      <td>-2127.0</td>\n",
       "      <td>0.0</td>\n",
       "      <td>12531.465</td>\n",
       "    </tr>\n",
       "    <tr>\n",
       "      <th>11094751</th>\n",
       "      <td>2239408</td>\n",
       "      <td>373540</td>\n",
       "      <td>1.0</td>\n",
       "      <td>8</td>\n",
       "      <td>-2083.0</td>\n",
       "      <td>-2091.0</td>\n",
       "      <td>0.0</td>\n",
       "      <td>12531.465</td>\n",
       "    </tr>\n",
       "    <tr>\n",
       "      <th>9587743</th>\n",
       "      <td>2239408</td>\n",
       "      <td>373540</td>\n",
       "      <td>1.0</td>\n",
       "      <td>9</td>\n",
       "      <td>-2053.0</td>\n",
       "      <td>-2066.0</td>\n",
       "      <td>0.0</td>\n",
       "      <td>12531.465</td>\n",
       "    </tr>\n",
       "    <tr>\n",
       "      <th>9255530</th>\n",
       "      <td>2239408</td>\n",
       "      <td>373540</td>\n",
       "      <td>1.0</td>\n",
       "      <td>10</td>\n",
       "      <td>-2023.0</td>\n",
       "      <td>-2036.0</td>\n",
       "      <td>0.0</td>\n",
       "      <td>12531.465</td>\n",
       "    </tr>\n",
       "    <tr>\n",
       "      <th>8842534</th>\n",
       "      <td>2239408</td>\n",
       "      <td>373540</td>\n",
       "      <td>1.0</td>\n",
       "      <td>11</td>\n",
       "      <td>-1993.0</td>\n",
       "      <td>-2001.0</td>\n",
       "      <td>0.0</td>\n",
       "      <td>12531.465</td>\n",
       "    </tr>\n",
       "    <tr>\n",
       "      <th>8364846</th>\n",
       "      <td>2239408</td>\n",
       "      <td>373540</td>\n",
       "      <td>1.0</td>\n",
       "      <td>12</td>\n",
       "      <td>-1963.0</td>\n",
       "      <td>-482.0</td>\n",
       "      <td>0.0</td>\n",
       "      <td>1.800</td>\n",
       "    </tr>\n",
       "    <tr>\n",
       "      <th>8863285</th>\n",
       "      <td>2239408</td>\n",
       "      <td>373540</td>\n",
       "      <td>1.0</td>\n",
       "      <td>12</td>\n",
       "      <td>-1963.0</td>\n",
       "      <td>-1974.0</td>\n",
       "      <td>0.0</td>\n",
       "      <td>12391.515</td>\n",
       "    </tr>\n",
       "  </tbody>\n",
       "</table>\n",
       "</div>"
      ],
      "text/plain": [
       "          SK_ID_PREV  SK_ID_CURR  NUM_INSTALMENT_VERSION  \\\n",
       "8756567      2239408      373540                     1.0   \n",
       "9263493      2239408      373540                     1.0   \n",
       "11079092     2239408      373540                     1.0   \n",
       "9740239      2239408      373540                     1.0   \n",
       "8637498      2239408      373540                     1.0   \n",
       "7731343      2239408      373540                     1.0   \n",
       "9122464      2239408      373540                     1.0   \n",
       "11094751     2239408      373540                     1.0   \n",
       "9587743      2239408      373540                     1.0   \n",
       "9255530      2239408      373540                     1.0   \n",
       "8842534      2239408      373540                     1.0   \n",
       "8364846      2239408      373540                     1.0   \n",
       "8863285      2239408      373540                     1.0   \n",
       "\n",
       "          NUM_INSTALMENT_NUMBER  DAYS_INSTALMENT  DAYS_ENTRY_PAYMENT  \\\n",
       "8756567                       1          -2293.0             -2316.0   \n",
       "9263493                       2          -2263.0             -2287.0   \n",
       "11079092                      3          -2233.0             -2255.0   \n",
       "9740239                       4          -2203.0             -2220.0   \n",
       "8637498                       5          -2173.0             -2197.0   \n",
       "7731343                       6          -2143.0             -2162.0   \n",
       "9122464                       7          -2113.0             -2127.0   \n",
       "11094751                      8          -2083.0             -2091.0   \n",
       "9587743                       9          -2053.0             -2066.0   \n",
       "9255530                      10          -2023.0             -2036.0   \n",
       "8842534                      11          -1993.0             -2001.0   \n",
       "8364846                      12          -1963.0              -482.0   \n",
       "8863285                      12          -1963.0             -1974.0   \n",
       "\n",
       "          AMT_INSTALMENT  AMT_PAYMENT  \n",
       "8756567              0.0    12531.465  \n",
       "9263493              0.0    12531.465  \n",
       "11079092             0.0    12531.465  \n",
       "9740239              0.0    12531.465  \n",
       "8637498              0.0    12531.465  \n",
       "7731343              0.0    12531.465  \n",
       "9122464              0.0    12531.465  \n",
       "11094751             0.0    12531.465  \n",
       "9587743              0.0    12531.465  \n",
       "9255530              0.0    12531.465  \n",
       "8842534              0.0    12531.465  \n",
       "8364846              0.0        1.800  \n",
       "8863285              0.0    12391.515  "
      ]
     },
     "execution_count": 52,
     "metadata": {},
     "output_type": "execute_result"
    }
   ],
   "source": [
    "# this one is really weird... \n",
    "payments[payments['SK_ID_PREV']==2239408].sort_values('DAYS_INSTALMENT') "
   ]
  },
  {
   "cell_type": "code",
   "execution_count": 53,
   "id": "integral-launch",
   "metadata": {},
   "outputs": [
    {
     "data": {
      "text/html": [
       "<div>\n",
       "<style scoped>\n",
       "    .dataframe tbody tr th:only-of-type {\n",
       "        vertical-align: middle;\n",
       "    }\n",
       "\n",
       "    .dataframe tbody tr th {\n",
       "        vertical-align: top;\n",
       "    }\n",
       "\n",
       "    .dataframe thead th {\n",
       "        text-align: right;\n",
       "    }\n",
       "</style>\n",
       "<table border=\"1\" class=\"dataframe\">\n",
       "  <thead>\n",
       "    <tr style=\"text-align: right;\">\n",
       "      <th></th>\n",
       "      <th>SK_ID_CURR</th>\n",
       "      <th>SK_ID_PREV</th>\n",
       "    </tr>\n",
       "  </thead>\n",
       "  <tbody>\n",
       "    <tr>\n",
       "      <th>1478621</th>\n",
       "      <td>100001</td>\n",
       "      <td>1369693</td>\n",
       "    </tr>\n",
       "    <tr>\n",
       "      <th>1761012</th>\n",
       "      <td>100001</td>\n",
       "      <td>1851984</td>\n",
       "    </tr>\n",
       "    <tr>\n",
       "      <th>185679</th>\n",
       "      <td>100002</td>\n",
       "      <td>1038818</td>\n",
       "    </tr>\n",
       "    <tr>\n",
       "      <th>13709</th>\n",
       "      <td>100003</td>\n",
       "      <td>1810518</td>\n",
       "    </tr>\n",
       "    <tr>\n",
       "      <th>480811</th>\n",
       "      <td>100003</td>\n",
       "      <td>2396755</td>\n",
       "    </tr>\n",
       "    <tr>\n",
       "      <th>1233145</th>\n",
       "      <td>100003</td>\n",
       "      <td>2636178</td>\n",
       "    </tr>\n",
       "    <tr>\n",
       "      <th>1263941</th>\n",
       "      <td>100004</td>\n",
       "      <td>1564014</td>\n",
       "    </tr>\n",
       "    <tr>\n",
       "      <th>477244</th>\n",
       "      <td>100005</td>\n",
       "      <td>2495675</td>\n",
       "    </tr>\n",
       "    <tr>\n",
       "      <th>681160</th>\n",
       "      <td>100006</td>\n",
       "      <td>2078043</td>\n",
       "    </tr>\n",
       "    <tr>\n",
       "      <th>100902</th>\n",
       "      <td>100006</td>\n",
       "      <td>2190416</td>\n",
       "    </tr>\n",
       "  </tbody>\n",
       "</table>\n",
       "</div>"
      ],
      "text/plain": [
       "         SK_ID_CURR  SK_ID_PREV\n",
       "1478621      100001     1369693\n",
       "1761012      100001     1851984\n",
       "185679       100002     1038818\n",
       "13709        100003     1810518\n",
       "480811       100003     2396755\n",
       "1233145      100003     2636178\n",
       "1263941      100004     1564014\n",
       "477244       100005     2495675\n",
       "681160       100006     2078043\n",
       "100902       100006     2190416"
      ]
     },
     "execution_count": 53,
     "metadata": {},
     "output_type": "execute_result"
    }
   ],
   "source": [
    "# lets grab last three loans for each person by instalment\n",
    "closest_pay = payments[['SK_ID_PREV', 'DAYS_INSTALMENT']].groupby('SK_ID_PREV').agg('max')\n",
    "closest_pay.isna().any() # we have no NAs\n",
    "\n",
    "# not sure why the join isn't working yet\n",
    "payments_tt = payments[['SK_ID_CURR', 'SK_ID_PREV']].drop_duplicates()\n",
    "payments_tt.head(10)\n",
    "#.join(closest_pay, on='SK_ID_PREV')"
   ]
  },
  {
   "cell_type": "markdown",
   "id": "immune-northwest",
   "metadata": {},
   "source": [
    "## POS Cash Balance"
   ]
  },
  {
   "cell_type": "code",
   "execution_count": 54,
   "id": "quality-kitty",
   "metadata": {},
   "outputs": [],
   "source": [
    "pc_balance = xd.read_csv('data/POS_CASH_balance.csv')"
   ]
  },
  {
   "cell_type": "code",
   "execution_count": 55,
   "id": "personal-pollution",
   "metadata": {},
   "outputs": [
    {
     "data": {
      "text/plain": [
       "(10001358, 8)"
      ]
     },
     "execution_count": 55,
     "metadata": {},
     "output_type": "execute_result"
    }
   ],
   "source": [
    "pc_balance.shape"
   ]
  },
  {
   "cell_type": "code",
   "execution_count": 56,
   "id": "overall-county",
   "metadata": {},
   "outputs": [
    {
     "data": {
      "text/plain": [
       "Index(['SK_ID_PREV', 'SK_ID_CURR', 'MONTHS_BALANCE', 'CNT_INSTALMENT',\n",
       "       'CNT_INSTALMENT_FUTURE', 'NAME_CONTRACT_STATUS', 'SK_DPD',\n",
       "       'SK_DPD_DEF'],\n",
       "      dtype='object')"
      ]
     },
     "execution_count": 56,
     "metadata": {},
     "output_type": "execute_result"
    }
   ],
   "source": [
    "pc_balance.columns"
   ]
  },
  {
   "cell_type": "code",
   "execution_count": 57,
   "id": "under-perfume",
   "metadata": {},
   "outputs": [
    {
     "data": {
      "text/plain": [
       "SK_ID_PREV                 int64\n",
       "SK_ID_CURR                 int64\n",
       "MONTHS_BALANCE             int64\n",
       "CNT_INSTALMENT           float64\n",
       "CNT_INSTALMENT_FUTURE    float64\n",
       "NAME_CONTRACT_STATUS      object\n",
       "SK_DPD                     int64\n",
       "SK_DPD_DEF                 int64\n",
       "dtype: object"
      ]
     },
     "execution_count": 57,
     "metadata": {},
     "output_type": "execute_result"
    }
   ],
   "source": [
    "pc_balance.dtypes"
   ]
  },
  {
   "cell_type": "code",
   "execution_count": 58,
   "id": "legal-accordance",
   "metadata": {},
   "outputs": [
    {
     "data": {
      "text/plain": [
       "0                   Active\n",
       "1           Amortized debt\n",
       "2                 Approved\n",
       "3                 Canceled\n",
       "4                Completed\n",
       "5                   Demand\n",
       "6    Returned to the store\n",
       "7                   Signed\n",
       "8                      XNA\n",
       "Name: NAME_CONTRACT_STATUS, dtype: object"
      ]
     },
     "execution_count": 58,
     "metadata": {},
     "output_type": "execute_result"
    }
   ],
   "source": [
    "pc_balance.NAME_CONTRACT_STATUS.unique()"
   ]
  },
  {
   "cell_type": "markdown",
   "id": "raising-middle",
   "metadata": {},
   "source": [
    "### Some Checks and Hypothesises"
   ]
  },
  {
   "cell_type": "markdown",
   "id": "prescription-sequence",
   "metadata": {},
   "source": [
    "Lets check if POS CASH / Instalments and Credit Card Balance are independent different types of prev balance. We need to run this rapids check because numpy can't accept the cudf series as input. There exists a cupy which is a gpu replacement for numpy cupy doesn't implement `intersect1d` yet"
   ]
  },
  {
   "cell_type": "code",
   "execution_count": 59,
   "id": "returning-hygiene",
   "metadata": {},
   "outputs": [],
   "source": [
    "if RAPIDS:\n",
    "    cc_bal_id = cc_balance.SK_ID_PREV.to_pandas()\n",
    "    payments_id = payments.SK_ID_PREV.to_pandas()\n",
    "    pc_bal_id = pc_balance.SK_ID_PREV.to_pandas()\n",
    "else:\n",
    "    cc_bal_id = cc_balance.SK_ID_PREV\n",
    "    payments_id = payments.SK_ID_PREV\n",
    "    pc_bal_id = pc_balance.SK_ID_PREV"
   ]
  },
  {
   "cell_type": "code",
   "execution_count": 60,
   "id": "psychological-bankruptcy",
   "metadata": {},
   "outputs": [
    {
     "data": {
      "text/plain": [
       "924949"
      ]
     },
     "execution_count": 60,
     "metadata": {},
     "output_type": "execute_result"
    }
   ],
   "source": [
    "len(np.intersect1d(pc_bal_id, payments_id))"
   ]
  },
  {
   "cell_type": "code",
   "execution_count": 61,
   "id": "julian-corporation",
   "metadata": {},
   "outputs": [
    {
     "data": {
      "text/plain": [
       "72466"
      ]
     },
     "execution_count": 61,
     "metadata": {},
     "output_type": "execute_result"
    }
   ],
   "source": [
    "len(np.intersect1d(cc_bal_id, payments_id))"
   ]
  },
  {
   "cell_type": "code",
   "execution_count": 62,
   "id": "limited-kingston",
   "metadata": {},
   "outputs": [
    {
     "data": {
      "text/plain": [
       "0"
      ]
     },
     "execution_count": 62,
     "metadata": {},
     "output_type": "execute_result"
    }
   ],
   "source": [
    "len(np.intersect1d(cc_bal_id, pc_bal_id))"
   ]
  },
  {
   "cell_type": "markdown",
   "id": "becoming-executive",
   "metadata": {},
   "source": [
    "okay so the IDs do overlap..."
   ]
  },
  {
   "cell_type": "markdown",
   "id": "domestic-insulation",
   "metadata": {},
   "source": [
    "### Previous Loan Applications\n",
    "\n",
    "previous loans can be very indicative of what the customer will do with current loans"
   ]
  },
  {
   "cell_type": "code",
   "execution_count": 64,
   "id": "focused-newton",
   "metadata": {},
   "outputs": [],
   "source": [
    "pandas_dtypes = {'NAME_CONTRACT_TYPE': 'category', 'WEEKDAY_APPR_PROCESS_START': 'category',\n",
    "                 'FLAG_LAST_APPL_PER_CONTRACT': 'category', \n",
    "                 'NAME_CONTRACT_STATUS': 'category',\n",
    "                 'NAME_SELLER_INDUSTRY': 'category', 'NAME_YIELD_GROUP': 'category'}\n",
    "\n",
    "if RAPIDS: \n",
    "    prev_dtypes = [] # rapids doesn't accept partial dtypes\n",
    "else: \n",
    "    prev_dtypes = pandas_dtypes \n",
    "    \n",
    "    \n",
    "prev = xd.read_csv('data/previous_application.csv',\n",
    "                  dtype=prev_dtypes)"
   ]
  },
  {
   "cell_type": "code",
   "execution_count": 65,
   "id": "prescription-aging",
   "metadata": {},
   "outputs": [
    {
     "data": {
      "text/plain": [
       "Index(['SK_ID_PREV', 'SK_ID_CURR', 'NAME_CONTRACT_TYPE', 'AMT_ANNUITY',\n",
       "       'AMT_APPLICATION', 'AMT_CREDIT', 'AMT_DOWN_PAYMENT', 'AMT_GOODS_PRICE',\n",
       "       'WEEKDAY_APPR_PROCESS_START', 'HOUR_APPR_PROCESS_START',\n",
       "       'FLAG_LAST_APPL_PER_CONTRACT', 'NFLAG_LAST_APPL_IN_DAY',\n",
       "       'RATE_DOWN_PAYMENT', 'RATE_INTEREST_PRIMARY',\n",
       "       'RATE_INTEREST_PRIVILEGED', 'NAME_CASH_LOAN_PURPOSE',\n",
       "       'NAME_CONTRACT_STATUS', 'DAYS_DECISION', 'NAME_PAYMENT_TYPE',\n",
       "       'CODE_REJECT_REASON', 'NAME_TYPE_SUITE', 'NAME_CLIENT_TYPE',\n",
       "       'NAME_GOODS_CATEGORY', 'NAME_PORTFOLIO', 'NAME_PRODUCT_TYPE',\n",
       "       'CHANNEL_TYPE', 'SELLERPLACE_AREA', 'NAME_SELLER_INDUSTRY',\n",
       "       'CNT_PAYMENT', 'NAME_YIELD_GROUP', 'PRODUCT_COMBINATION',\n",
       "       'DAYS_FIRST_DRAWING', 'DAYS_FIRST_DUE', 'DAYS_LAST_DUE_1ST_VERSION',\n",
       "       'DAYS_LAST_DUE', 'DAYS_TERMINATION', 'NFLAG_INSURED_ON_APPROVAL'],\n",
       "      dtype='object')"
      ]
     },
     "execution_count": 65,
     "metadata": {},
     "output_type": "execute_result"
    }
   ],
   "source": [
    "prev.columns"
   ]
  },
  {
   "cell_type": "code",
   "execution_count": 66,
   "id": "happy-neighborhood",
   "metadata": {},
   "outputs": [
    {
     "data": {
      "text/plain": [
       "SK_ID_PREV                       int64\n",
       "SK_ID_CURR                       int64\n",
       "NAME_CONTRACT_TYPE              object\n",
       "AMT_ANNUITY                    float64\n",
       "AMT_APPLICATION                float64\n",
       "AMT_CREDIT                     float64\n",
       "AMT_DOWN_PAYMENT               float64\n",
       "AMT_GOODS_PRICE                float64\n",
       "WEEKDAY_APPR_PROCESS_START      object\n",
       "HOUR_APPR_PROCESS_START          int64\n",
       "FLAG_LAST_APPL_PER_CONTRACT     object\n",
       "NFLAG_LAST_APPL_IN_DAY           int64\n",
       "RATE_DOWN_PAYMENT              float64\n",
       "RATE_INTEREST_PRIMARY          float64\n",
       "RATE_INTEREST_PRIVILEGED       float64\n",
       "NAME_CASH_LOAN_PURPOSE          object\n",
       "NAME_CONTRACT_STATUS            object\n",
       "DAYS_DECISION                    int64\n",
       "NAME_PAYMENT_TYPE               object\n",
       "CODE_REJECT_REASON              object\n",
       "NAME_TYPE_SUITE                 object\n",
       "NAME_CLIENT_TYPE                object\n",
       "NAME_GOODS_CATEGORY             object\n",
       "NAME_PORTFOLIO                  object\n",
       "NAME_PRODUCT_TYPE               object\n",
       "CHANNEL_TYPE                    object\n",
       "SELLERPLACE_AREA                 int64\n",
       "NAME_SELLER_INDUSTRY            object\n",
       "CNT_PAYMENT                    float64\n",
       "NAME_YIELD_GROUP                object\n",
       "PRODUCT_COMBINATION             object\n",
       "DAYS_FIRST_DRAWING             float64\n",
       "DAYS_FIRST_DUE                 float64\n",
       "DAYS_LAST_DUE_1ST_VERSION      float64\n",
       "DAYS_LAST_DUE                  float64\n",
       "DAYS_TERMINATION               float64\n",
       "NFLAG_INSURED_ON_APPROVAL      float64\n",
       "dtype: object"
      ]
     },
     "execution_count": 66,
     "metadata": {},
     "output_type": "execute_result"
    }
   ],
   "source": [
    "prev.dtypes"
   ]
  },
  {
   "cell_type": "code",
   "execution_count": 67,
   "id": "ordered-commodity",
   "metadata": {},
   "outputs": [
    {
     "data": {
      "text/html": [
       "<div>\n",
       "<style scoped>\n",
       "    .dataframe tbody tr th:only-of-type {\n",
       "        vertical-align: middle;\n",
       "    }\n",
       "\n",
       "    .dataframe tbody tr th {\n",
       "        vertical-align: top;\n",
       "    }\n",
       "\n",
       "    .dataframe thead th {\n",
       "        text-align: right;\n",
       "    }\n",
       "</style>\n",
       "<table border=\"1\" class=\"dataframe\">\n",
       "  <thead>\n",
       "    <tr style=\"text-align: right;\">\n",
       "      <th></th>\n",
       "      <th>DAYS_LAST_DUE</th>\n",
       "      <th>DAYS_TERMINATION</th>\n",
       "    </tr>\n",
       "  </thead>\n",
       "  <tbody>\n",
       "    <tr>\n",
       "      <th>0</th>\n",
       "      <td>-42.0</td>\n",
       "      <td>-37.0</td>\n",
       "    </tr>\n",
       "    <tr>\n",
       "      <th>1</th>\n",
       "      <td>365243.0</td>\n",
       "      <td>365243.0</td>\n",
       "    </tr>\n",
       "    <tr>\n",
       "      <th>2</th>\n",
       "      <td>365243.0</td>\n",
       "      <td>365243.0</td>\n",
       "    </tr>\n",
       "    <tr>\n",
       "      <th>3</th>\n",
       "      <td>-182.0</td>\n",
       "      <td>-177.0</td>\n",
       "    </tr>\n",
       "    <tr>\n",
       "      <th>4</th>\n",
       "      <td>&lt;NA&gt;</td>\n",
       "      <td>&lt;NA&gt;</td>\n",
       "    </tr>\n",
       "  </tbody>\n",
       "</table>\n",
       "</div>"
      ],
      "text/plain": [
       "  DAYS_LAST_DUE DAYS_TERMINATION\n",
       "0         -42.0            -37.0\n",
       "1      365243.0         365243.0\n",
       "2      365243.0         365243.0\n",
       "3        -182.0           -177.0\n",
       "4          <NA>             <NA>"
      ]
     },
     "execution_count": 67,
     "metadata": {},
     "output_type": "execute_result"
    }
   ],
   "source": [
    "prev[['DAYS_LAST_DUE', 'DAYS_TERMINATION']].head()"
   ]
  },
  {
   "cell_type": "code",
   "execution_count": 68,
   "id": "identical-nightlife",
   "metadata": {},
   "outputs": [
    {
     "data": {
      "text/plain": [
       "0                               <NA>\n",
       "1                        Card Street\n",
       "2                        Card X-Sell\n",
       "3                               Cash\n",
       "4                  Cash Street: high\n",
       "5                   Cash Street: low\n",
       "6                Cash Street: middle\n",
       "7                  Cash X-Sell: high\n",
       "8                   Cash X-Sell: low\n",
       "9                Cash X-Sell: middle\n",
       "10       POS household with interest\n",
       "11    POS household without interest\n",
       "12        POS industry with interest\n",
       "13     POS industry without interest\n",
       "14          POS mobile with interest\n",
       "15       POS mobile without interest\n",
       "16           POS other with interest\n",
       "17       POS others without interest\n",
       "Name: PRODUCT_COMBINATION, dtype: object"
      ]
     },
     "execution_count": 68,
     "metadata": {},
     "output_type": "execute_result"
    }
   ],
   "source": [
    "prev.PRODUCT_COMBINATION.unique()"
   ]
  },
  {
   "cell_type": "code",
   "execution_count": 69,
   "id": "preliminary-kidney",
   "metadata": {},
   "outputs": [
    {
     "data": {
      "text/plain": [
       "(1670214, 37)"
      ]
     },
     "execution_count": 69,
     "metadata": {},
     "output_type": "execute_result"
    }
   ],
   "source": [
    "prev.shape"
   ]
  },
  {
   "cell_type": "code",
   "execution_count": 70,
   "id": "rising-aaron",
   "metadata": {},
   "outputs": [
    {
     "data": {
      "text/plain": [
       "1670214"
      ]
     },
     "execution_count": 70,
     "metadata": {},
     "output_type": "execute_result"
    }
   ],
   "source": [
    "len(prev.SK_ID_PREV.unique())"
   ]
  },
  {
   "cell_type": "markdown",
   "id": "blond-startup",
   "metadata": {},
   "source": [
    "SK_ID_PREV is the primary key.\n",
    "\n",
    "Lets explore the previous loan history of applicants"
   ]
  },
  {
   "cell_type": "code",
   "execution_count": 71,
   "id": "radio-violence",
   "metadata": {},
   "outputs": [
    {
     "data": {
      "text/plain": [
       "0    CLIENT\n",
       "1        HC\n",
       "2     LIMIT\n",
       "3       SCO\n",
       "4     SCOFR\n",
       "5    SYSTEM\n",
       "6     VERIF\n",
       "7       XAP\n",
       "8       XNA\n",
       "Name: CODE_REJECT_REASON, dtype: object"
      ]
     },
     "execution_count": 71,
     "metadata": {},
     "output_type": "execute_result"
    }
   ],
   "source": [
    "# interesting features to consider:\n",
    "prev.CODE_REJECT_REASON.unique()"
   ]
  },
  {
   "cell_type": "code",
   "execution_count": 72,
   "id": "complete-raising",
   "metadata": {},
   "outputs": [
    {
     "data": {
      "text/html": [
       "<div>\n",
       "<style scoped>\n",
       "    .dataframe tbody tr th:only-of-type {\n",
       "        vertical-align: middle;\n",
       "    }\n",
       "\n",
       "    .dataframe tbody tr th {\n",
       "        vertical-align: top;\n",
       "    }\n",
       "\n",
       "    .dataframe thead th {\n",
       "        text-align: right;\n",
       "    }\n",
       "</style>\n",
       "<table border=\"1\" class=\"dataframe\">\n",
       "  <thead>\n",
       "    <tr style=\"text-align: right;\">\n",
       "      <th></th>\n",
       "      <th>SK_ID_CURR</th>\n",
       "      <th>SK_ID_PREV</th>\n",
       "      <th>NAME_CONTRACT_STATUS</th>\n",
       "      <th>CODE_REJECT_REASON</th>\n",
       "    </tr>\n",
       "  </thead>\n",
       "  <tbody>\n",
       "    <tr>\n",
       "      <th>201668</th>\n",
       "      <td>100001</td>\n",
       "      <td>1369693</td>\n",
       "      <td>Approved</td>\n",
       "      <td>XAP</td>\n",
       "    </tr>\n",
       "    <tr>\n",
       "      <th>892077</th>\n",
       "      <td>100002</td>\n",
       "      <td>1038818</td>\n",
       "      <td>Approved</td>\n",
       "      <td>XAP</td>\n",
       "    </tr>\n",
       "    <tr>\n",
       "      <th>575941</th>\n",
       "      <td>100003</td>\n",
       "      <td>1810518</td>\n",
       "      <td>Approved</td>\n",
       "      <td>XAP</td>\n",
       "    </tr>\n",
       "    <tr>\n",
       "      <th>1021650</th>\n",
       "      <td>100003</td>\n",
       "      <td>2636178</td>\n",
       "      <td>Approved</td>\n",
       "      <td>XAP</td>\n",
       "    </tr>\n",
       "    <tr>\n",
       "      <th>1223745</th>\n",
       "      <td>100003</td>\n",
       "      <td>2396755</td>\n",
       "      <td>Approved</td>\n",
       "      <td>XAP</td>\n",
       "    </tr>\n",
       "    <tr>\n",
       "      <th>935548</th>\n",
       "      <td>100004</td>\n",
       "      <td>1564014</td>\n",
       "      <td>Approved</td>\n",
       "      <td>XAP</td>\n",
       "    </tr>\n",
       "    <tr>\n",
       "      <th>1259112</th>\n",
       "      <td>100005</td>\n",
       "      <td>1857999</td>\n",
       "      <td>Canceled</td>\n",
       "      <td>XAP</td>\n",
       "    </tr>\n",
       "    <tr>\n",
       "      <th>1378978</th>\n",
       "      <td>100005</td>\n",
       "      <td>2495675</td>\n",
       "      <td>Approved</td>\n",
       "      <td>XAP</td>\n",
       "    </tr>\n",
       "    <tr>\n",
       "      <th>98162</th>\n",
       "      <td>100006</td>\n",
       "      <td>2078043</td>\n",
       "      <td>Approved</td>\n",
       "      <td>XAP</td>\n",
       "    </tr>\n",
       "    <tr>\n",
       "      <th>617859</th>\n",
       "      <td>100006</td>\n",
       "      <td>2827850</td>\n",
       "      <td>Canceled</td>\n",
       "      <td>XAP</td>\n",
       "    </tr>\n",
       "  </tbody>\n",
       "</table>\n",
       "</div>"
      ],
      "text/plain": [
       "         SK_ID_CURR  SK_ID_PREV NAME_CONTRACT_STATUS CODE_REJECT_REASON\n",
       "201668       100001     1369693             Approved                XAP\n",
       "892077       100002     1038818             Approved                XAP\n",
       "575941       100003     1810518             Approved                XAP\n",
       "1021650      100003     2636178             Approved                XAP\n",
       "1223745      100003     2396755             Approved                XAP\n",
       "935548       100004     1564014             Approved                XAP\n",
       "1259112      100005     1857999             Canceled                XAP\n",
       "1378978      100005     2495675             Approved                XAP\n",
       "98162        100006     2078043             Approved                XAP\n",
       "617859       100006     2827850             Canceled                XAP"
      ]
     },
     "execution_count": 72,
     "metadata": {},
     "output_type": "execute_result"
    }
   ],
   "source": [
    "prev[['SK_ID_CURR', 'SK_ID_PREV', 'NAME_CONTRACT_STATUS', 'CODE_REJECT_REASON']] \\\n",
    "    .sort_values('SK_ID_CURR').head(10)"
   ]
  },
  {
   "cell_type": "markdown",
   "id": "facial-recorder",
   "metadata": {},
   "source": [
    "We can use the `NAME_CONTRACT_STATUS` column to check previous loan approval or reject\n",
    "We need to see if we can check if these loans were paid off"
   ]
  },
  {
   "cell_type": "markdown",
   "id": "blank-particular",
   "metadata": {},
   "source": [
    "### Loan Applications that we are testing"
   ]
  },
  {
   "cell_type": "code",
   "execution_count": 74,
   "id": "wound-forestry",
   "metadata": {},
   "outputs": [],
   "source": [
    "pandas_dtypes = {'NAME_CONTRACT_TYPE': 'category', 'CODE_GENDER': 'category',\n",
    "                          'NAME_TYPE_SUITE': 'category', 'NAME_INCOME_TYPE': 'category',\n",
    "                          'NAME_EDUCATION_TYPE': 'category', 'NAME_FAMILY_STATUS': 'category',\n",
    "                          'NAME_HOUSING_TYPE': 'category', 'FLAG_MOBIL': 'bool', \n",
    "                          'FLAG_EMP_PHONE': 'bool', 'FLAG_WORK_PHONE': 'bool',\n",
    "                          'FLAG_CONT_MOBILE': 'bool', 'FLAG_PHONE': 'bool', \n",
    "                  'FLAG_EMAIL': 'bool',\n",
    "                          'OCCUPATION_TYPE': 'category', 'CNT_FAM_MEMBERS': 'Int64', 'REGION_RATING_CLIENT': 'category',\n",
    "                          'REGION_RATING_CLIENT_W_CITY': 'category', 'WEEKDAY_APPR_PROCESS_START': 'category',\n",
    "                          'HOUR_APPR_PROCESS_START': 'category', 'REG_REGION_NOT_LIVE_REGION': 'bool',\n",
    "                          'REG_REGION_NOT_WORK_REGION': 'bool', 'LIVE_REGION_NOT_WORK_REGION': 'bool',\n",
    "                          'REG_CITY_NOT_LIVE_CITY': 'bool', 'REG_CITY_NOT_WORK_CITY': 'bool',\n",
    "                          'LIVE_CITY_NOT_WORK_CITY': 'bool', 'ORGANIZATION_TYPE': 'category',\n",
    "                          'OBS_30_CNT_SOCIAL_CIRCLE': 'Int64', 'DEF_30_CNT_SOCIAL_CIRCLE': 'Int64',\n",
    "                          'OBS_60_CNT_SOCIAL_CIRCLE': 'Int64', 'DEF_60_CNT_SOCIAL_CIRCLE': 'Int64',\n",
    "                          'DAYS_LAST_PHONE_CHANGE': 'Int64', 'FLAG_DOCUMENT_2': 'bool',\n",
    "                          'FLAG_DOCUMENT_3': 'bool', 'FLAG_DOCUMENT_4': 'bool', 'FLAG_DOCUMENT_5': 'bool',\n",
    "                          'FLAG_DOCUMENT_6': 'bool', 'FLAG_DOCUMENT_7': 'bool', 'FLAG_DOCUMENT_8': 'bool',\n",
    "                          'FLAG_DOCUMENT_9': 'bool', 'FLAG_DOCUMENT_10': 'bool', 'FLAG_DOCUMENT_11': 'bool',\n",
    "                          'FLAG_DOCUMENT_12': 'bool', 'FLAG_DOCUMENT_13': 'bool', 'FLAG_DOCUMENT_14': 'bool', \n",
    "                          'FLAG_DOCUMENT_15': 'bool', 'FLAG_DOCUMENT_16': 'bool', 'FLAG_DOCUMENT_17': 'bool',\n",
    "                          'FLAG_DOCUMENT_18': 'bool', 'FLAG_DOCUMENT_19': 'bool', 'FLAG_DOCUMENT_20': 'bool',\n",
    "                          'FLAG_DOCUMENT_21': 'bool', 'AMT_REQ_CREDIT_BUREAU_HOUR': 'Int64',\n",
    "                          'AMT_REQ_CREDIT_BUREAU_DAY': 'Int64', 'AMT_REQ_CREDIT_BUREAU_WEEK': 'Int64',\n",
    "                          'AMT_REQ_CREDIT_BUREAU_MON': 'Int64', 'AMT_REQ_CREDIT_BUREAU_QRT': 'Int64',\n",
    "                          'AMT_REQ_CREDIT_BUREAU_YEAR': 'Int64'}\n",
    "\n",
    "if RAPIDS: \n",
    "    traintest_dtypes = [] # rapids doesn't accept partial dtypes\n",
    "else: \n",
    "    traintest_dtypes = pandas_dtypes \n",
    "\n",
    "train = xd.read_csv('data/application_train.csv',\n",
    "                    index_col='SK_ID_CURR',\n",
    "                    dtype=traintest_dtypes)\n",
    "test = xd.read_csv('data/application_test.csv',\n",
    "                    index_col='SK_ID_CURR',\n",
    "                    dtype=traintest_dtypes)"
   ]
  },
  {
   "cell_type": "code",
   "execution_count": 75,
   "id": "internal-journalism",
   "metadata": {},
   "outputs": [],
   "source": [
    "### Bool Conversions\n",
    "train.FLAG_OWN_CAR = train.FLAG_OWN_CAR.eq('Y').mul(1).astype('bool')\n",
    "train.FLAG_OWN_REALTY = train.FLAG_OWN_REALTY.eq('Y').mul(1).astype('bool')\n",
    "test.FLAG_OWN_CAR = test.FLAG_OWN_CAR.eq('Y').mul(1).astype('bool')\n",
    "test.FLAG_OWN_REALTY = test.FLAG_OWN_REALTY.eq('Y').mul(1).astype('bool')"
   ]
  },
  {
   "cell_type": "code",
   "execution_count": 76,
   "id": "perfect-ceiling",
   "metadata": {},
   "outputs": [
    {
     "data": {
      "text/plain": [
       "(307511, 121)"
      ]
     },
     "execution_count": 76,
     "metadata": {},
     "output_type": "execute_result"
    }
   ],
   "source": [
    "train.shape"
   ]
  },
  {
   "cell_type": "code",
   "execution_count": 81,
   "id": "religious-center",
   "metadata": {},
   "outputs": [
    {
     "data": {
      "text/plain": [
       "['TARGET',\n",
       " 'NAME_CONTRACT_TYPE',\n",
       " 'CODE_GENDER',\n",
       " 'FLAG_OWN_CAR',\n",
       " 'FLAG_OWN_REALTY',\n",
       " 'CNT_CHILDREN',\n",
       " 'AMT_INCOME_TOTAL',\n",
       " 'AMT_CREDIT',\n",
       " 'AMT_ANNUITY',\n",
       " 'AMT_GOODS_PRICE',\n",
       " 'NAME_TYPE_SUITE',\n",
       " 'NAME_INCOME_TYPE',\n",
       " 'NAME_EDUCATION_TYPE',\n",
       " 'NAME_FAMILY_STATUS',\n",
       " 'NAME_HOUSING_TYPE',\n",
       " 'REGION_POPULATION_RELATIVE',\n",
       " 'DAYS_BIRTH',\n",
       " 'DAYS_EMPLOYED',\n",
       " 'DAYS_REGISTRATION',\n",
       " 'DAYS_ID_PUBLISH',\n",
       " 'OWN_CAR_AGE',\n",
       " 'FLAG_MOBIL',\n",
       " 'FLAG_EMP_PHONE',\n",
       " 'FLAG_WORK_PHONE',\n",
       " 'FLAG_CONT_MOBILE',\n",
       " 'FLAG_PHONE',\n",
       " 'FLAG_EMAIL',\n",
       " 'OCCUPATION_TYPE',\n",
       " 'CNT_FAM_MEMBERS',\n",
       " 'REGION_RATING_CLIENT',\n",
       " 'REGION_RATING_CLIENT_W_CITY',\n",
       " 'WEEKDAY_APPR_PROCESS_START',\n",
       " 'HOUR_APPR_PROCESS_START',\n",
       " 'REG_REGION_NOT_LIVE_REGION',\n",
       " 'REG_REGION_NOT_WORK_REGION',\n",
       " 'LIVE_REGION_NOT_WORK_REGION',\n",
       " 'REG_CITY_NOT_LIVE_CITY',\n",
       " 'REG_CITY_NOT_WORK_CITY',\n",
       " 'LIVE_CITY_NOT_WORK_CITY',\n",
       " 'ORGANIZATION_TYPE',\n",
       " 'EXT_SOURCE_1',\n",
       " 'EXT_SOURCE_2',\n",
       " 'EXT_SOURCE_3',\n",
       " 'APARTMENTS_AVG',\n",
       " 'BASEMENTAREA_AVG',\n",
       " 'YEARS_BEGINEXPLUATATION_AVG',\n",
       " 'YEARS_BUILD_AVG',\n",
       " 'COMMONAREA_AVG',\n",
       " 'ELEVATORS_AVG',\n",
       " 'ENTRANCES_AVG',\n",
       " 'FLOORSMAX_AVG',\n",
       " 'FLOORSMIN_AVG',\n",
       " 'LANDAREA_AVG',\n",
       " 'LIVINGAPARTMENTS_AVG',\n",
       " 'LIVINGAREA_AVG',\n",
       " 'NONLIVINGAPARTMENTS_AVG',\n",
       " 'NONLIVINGAREA_AVG',\n",
       " 'APARTMENTS_MODE',\n",
       " 'BASEMENTAREA_MODE',\n",
       " 'YEARS_BEGINEXPLUATATION_MODE',\n",
       " 'YEARS_BUILD_MODE',\n",
       " 'COMMONAREA_MODE',\n",
       " 'ELEVATORS_MODE',\n",
       " 'ENTRANCES_MODE',\n",
       " 'FLOORSMAX_MODE',\n",
       " 'FLOORSMIN_MODE',\n",
       " 'LANDAREA_MODE',\n",
       " 'LIVINGAPARTMENTS_MODE',\n",
       " 'LIVINGAREA_MODE',\n",
       " 'NONLIVINGAPARTMENTS_MODE',\n",
       " 'NONLIVINGAREA_MODE',\n",
       " 'APARTMENTS_MEDI',\n",
       " 'BASEMENTAREA_MEDI',\n",
       " 'YEARS_BEGINEXPLUATATION_MEDI',\n",
       " 'YEARS_BUILD_MEDI',\n",
       " 'COMMONAREA_MEDI',\n",
       " 'ELEVATORS_MEDI',\n",
       " 'ENTRANCES_MEDI',\n",
       " 'FLOORSMAX_MEDI',\n",
       " 'FLOORSMIN_MEDI',\n",
       " 'LANDAREA_MEDI',\n",
       " 'LIVINGAPARTMENTS_MEDI',\n",
       " 'LIVINGAREA_MEDI',\n",
       " 'NONLIVINGAPARTMENTS_MEDI',\n",
       " 'NONLIVINGAREA_MEDI',\n",
       " 'FONDKAPREMONT_MODE',\n",
       " 'HOUSETYPE_MODE',\n",
       " 'TOTALAREA_MODE',\n",
       " 'WALLSMATERIAL_MODE',\n",
       " 'EMERGENCYSTATE_MODE',\n",
       " 'OBS_30_CNT_SOCIAL_CIRCLE',\n",
       " 'DEF_30_CNT_SOCIAL_CIRCLE',\n",
       " 'OBS_60_CNT_SOCIAL_CIRCLE',\n",
       " 'DEF_60_CNT_SOCIAL_CIRCLE',\n",
       " 'DAYS_LAST_PHONE_CHANGE',\n",
       " 'FLAG_DOCUMENT_2',\n",
       " 'FLAG_DOCUMENT_3',\n",
       " 'FLAG_DOCUMENT_4',\n",
       " 'FLAG_DOCUMENT_5',\n",
       " 'FLAG_DOCUMENT_6',\n",
       " 'FLAG_DOCUMENT_7',\n",
       " 'FLAG_DOCUMENT_8',\n",
       " 'FLAG_DOCUMENT_9',\n",
       " 'FLAG_DOCUMENT_10',\n",
       " 'FLAG_DOCUMENT_11',\n",
       " 'FLAG_DOCUMENT_12',\n",
       " 'FLAG_DOCUMENT_13',\n",
       " 'FLAG_DOCUMENT_14',\n",
       " 'FLAG_DOCUMENT_15',\n",
       " 'FLAG_DOCUMENT_16',\n",
       " 'FLAG_DOCUMENT_17',\n",
       " 'FLAG_DOCUMENT_18',\n",
       " 'FLAG_DOCUMENT_19',\n",
       " 'FLAG_DOCUMENT_20',\n",
       " 'FLAG_DOCUMENT_21',\n",
       " 'AMT_REQ_CREDIT_BUREAU_HOUR',\n",
       " 'AMT_REQ_CREDIT_BUREAU_DAY',\n",
       " 'AMT_REQ_CREDIT_BUREAU_WEEK',\n",
       " 'AMT_REQ_CREDIT_BUREAU_MON',\n",
       " 'AMT_REQ_CREDIT_BUREAU_QRT',\n",
       " 'AMT_REQ_CREDIT_BUREAU_YEAR']"
      ]
     },
     "execution_count": 81,
     "metadata": {},
     "output_type": "execute_result"
    }
   ],
   "source": [
    "list(train.columns)"
   ]
  },
  {
   "cell_type": "code",
   "execution_count": 78,
   "id": "danish-paper",
   "metadata": {},
   "outputs": [
    {
     "data": {
      "text/plain": [
       "TARGET                          int64\n",
       "NAME_CONTRACT_TYPE             object\n",
       "CODE_GENDER                    object\n",
       "FLAG_OWN_CAR                     bool\n",
       "FLAG_OWN_REALTY                  bool\n",
       "                               ...   \n",
       "AMT_REQ_CREDIT_BUREAU_DAY     float64\n",
       "AMT_REQ_CREDIT_BUREAU_WEEK    float64\n",
       "AMT_REQ_CREDIT_BUREAU_MON     float64\n",
       "AMT_REQ_CREDIT_BUREAU_QRT     float64\n",
       "AMT_REQ_CREDIT_BUREAU_YEAR    float64\n",
       "Length: 121, dtype: object"
      ]
     },
     "execution_count": 78,
     "metadata": {},
     "output_type": "execute_result"
    }
   ],
   "source": [
    "train.dtypes"
   ]
  },
  {
   "cell_type": "code",
   "execution_count": 82,
   "id": "modified-painting",
   "metadata": {},
   "outputs": [
    {
     "data": {
      "text/html": [
       "<div>\n",
       "<style scoped>\n",
       "    .dataframe tbody tr th:only-of-type {\n",
       "        vertical-align: middle;\n",
       "    }\n",
       "\n",
       "    .dataframe tbody tr th {\n",
       "        vertical-align: top;\n",
       "    }\n",
       "\n",
       "    .dataframe thead th {\n",
       "        text-align: right;\n",
       "    }\n",
       "</style>\n",
       "<table border=\"1\" class=\"dataframe\">\n",
       "  <thead>\n",
       "    <tr style=\"text-align: right;\">\n",
       "      <th></th>\n",
       "      <th>NAME_CONTRACT_TYPE</th>\n",
       "    </tr>\n",
       "    <tr>\n",
       "      <th>TARGET</th>\n",
       "      <th></th>\n",
       "    </tr>\n",
       "  </thead>\n",
       "  <tbody>\n",
       "    <tr>\n",
       "      <th>0</th>\n",
       "      <td>282686</td>\n",
       "    </tr>\n",
       "    <tr>\n",
       "      <th>1</th>\n",
       "      <td>24825</td>\n",
       "    </tr>\n",
       "  </tbody>\n",
       "</table>\n",
       "</div>"
      ],
      "text/plain": [
       "        NAME_CONTRACT_TYPE\n",
       "TARGET                    \n",
       "0                   282686\n",
       "1                    24825"
      ]
     },
     "execution_count": 82,
     "metadata": {},
     "output_type": "execute_result"
    }
   ],
   "source": [
    "train[['TARGET', 'NAME_CONTRACT_TYPE']].groupby('TARGET').count()"
   ]
  },
  {
   "cell_type": "code",
   "execution_count": 83,
   "id": "welcome-carter",
   "metadata": {},
   "outputs": [
    {
     "data": {
      "text/plain": [
       "0    0\n",
       "1    1\n",
       "Name: FLAG_DOCUMENT_2, dtype: int64"
      ]
     },
     "execution_count": 83,
     "metadata": {},
     "output_type": "execute_result"
    }
   ],
   "source": [
    "train.FLAG_DOCUMENT_2.unique()"
   ]
  },
  {
   "cell_type": "code",
   "execution_count": 84,
   "id": "violent-airport",
   "metadata": {},
   "outputs": [
    {
     "data": {
      "text/plain": [
       "0    False\n",
       "1     True\n",
       "Name: DAYS_LAST_PHONE_CHANGE, dtype: bool"
      ]
     },
     "execution_count": 84,
     "metadata": {},
     "output_type": "execute_result"
    }
   ],
   "source": [
    "train.DAYS_LAST_PHONE_CHANGE.isnull().unique()"
   ]
  }
 ],
 "metadata": {
  "kernelspec": {
   "display_name": "Python 3 (ipykernel)",
   "language": "python",
   "name": "python3"
  },
  "language_info": {
   "codemirror_mode": {
    "name": "ipython",
    "version": 3
   },
   "file_extension": ".py",
   "mimetype": "text/x-python",
   "name": "python",
   "nbconvert_exporter": "python",
   "pygments_lexer": "ipython3",
   "version": "3.9.19"
  }
 },
 "nbformat": 4,
 "nbformat_minor": 5
}
